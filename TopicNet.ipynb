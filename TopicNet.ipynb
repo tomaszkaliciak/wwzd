{
 "cells": [
  {
   "cell_type": "code",
   "execution_count": 51,
   "metadata": {},
   "outputs": [],
   "source": [
    "import os\n",
    "import sys\n",
    "import pandas as pd\n",
    "import numpy as np\n",
    "import json\n",
    "import time\n",
    "import datetime\n",
    "import xml.etree.ElementTree as ET\n",
    "import pathlib\n",
    "import json\n",
    "from nltk.collocations import BigramAssocMeasures, BigramCollocationFinder\n"
   ]
  },
  {
   "cell_type": "code",
   "execution_count": 2,
   "metadata": {
    "scrolled": false
   },
   "outputs": [],
   "source": [
    "pathToMetaData = './chronopress_metadata/'\n",
    "pathToArticles = './ch/'\n",
    "\n",
    "idOfArticles = []\n",
    "\n",
    "for filename in os.listdir(pathToMetaData):\n",
    "    with open(pathToMetaData + filename, 'rb') as json_file:\n",
    "        data = json.load(json_file)\n",
    "        if data['metadata'][0]['value'] == \"Żołnierz Wolności\":\n",
    "            idOfArticles.append(os.path.splitext(filename)[0]) # pozbycie sie rozszerzenia pliku\n",
    "\n"
   ]
  },
  {
   "cell_type": "code",
   "execution_count": 3,
   "metadata": {},
   "outputs": [],
   "source": [
    "stopList =['ach', 'aj', 'albo', 'bardzo', 'bez', 'bo', 'być', 'ci', 'cię', 'ciebie', 'co', 'czy', 'daleko', 'dla', 'dlaczego', 'dlatego', 'do', 'dobrze', 'dokąd', 'dość', 'dużo', 'dwa', 'dwaj', 'dwie', 'dwoje', 'dziś', 'dzisiaj', 'gdyby', 'gdzie', 'go', 'ich', 'ile', 'im', 'inny', 'ja', 'ją', 'jak', 'często', 'rok', 'mieć', 'jakby', 'jaki', 'je', 'jeden', 'jedna', 'jedno', 'jego', 'jej', 'jemu', 'jeśli', 'jest', 'jestem', 'jeżeli', 'już', 'każdy', 'kiedy', 'kierunku', 'kto', 'ku', 'lub', 'ma', 'mają', 'mam', 'mi', 'mną', 'mnie', 'moi', 'mój', 'moja', 'moje', 'może', 'mu', 'my', 'na', 'nam', 'nami', 'nas', 'nasi', 'nasz', 'nasza', 'nasze', 'natychmiast', 'nią', 'nic', 'nich', 'nie', 'niego', 'niej', 'niemu', 'nigdy', 'nim', 'nimi', 'niż', 'obok', 'od', 'około', 'on', 'ona', 'one', 'oni', 'ono', 'owszem', 'po', 'pod', 'ponieważ', 'przed', 'przedtem', 'są', 'sam', 'sama', 'się', 'skąd', 'tak', 'taki', 'tam', 'ten', 'to', 'tobą', 'tobie', 'tu', 'tutaj', 'twoi', 'twój', 'twoja', 'twoje', 'ty', 'wam', 'wami', 'was', 'wasi', 'wasz', 'wasza', 'wasze', 'we', 'więc', 'wszystko', 'wtedy', 'wy', 'żaden', 'zawsze', 'że', 'a','aby','ach','acz','aczkolwiek','aj','albo','ale','alez','ależ','ani','az','aż','bardziej','bardzo','beda','bedzie','bez','beda','będą','bede','będę','będzie','bo','bowiem','by','byc','być','byl','byla','byli','bylo','byly','był','była','było','były','bynajmniej','cala','cali','caly','cała','cały','ci','cie','ciebie','cię','co','cokolwiek','cos','coś','czasami','czasem','czemu','czy','czyli','daleko','dla','dlaczego','dlatego','do','dobrze','dokad','dokąd','dosc','dość','duzo','dużo','dwa','dwaj','dwie','dwoje','dzis','dzisiaj','dziś','gdy','gdyby','gdyz','gdyż','gdzie','gdziekolwiek','gdzies','gdzieś','go','i','ich','ile','im','inna','inne','inny','innych','iz','iż','ja','jak','jakas','jakaś','jakby','jaki','jakichs','jakichś','jakie','jakis','jakiś','jakiz','jakiż','jakkolwiek','jako','jakos','jakoś','ją','je','jeden','jedna','jednak','jednakze','jednakże','jedno','jego','jej','jemu','jesli','jest','jestem','jeszcze','jeśli','jezeli','jeżeli','juz','już','kazdy','każdy','kiedy','kilka','kims','kimś','kto','ktokolwiek','ktora','ktore','ktorego','ktorej','ktory','ktorych','ktorym','ktorzy','ktos','ktoś','która','które','którego','której','który','których','którym','którzy','ku','lat','lecz','lub','ma','mają','mało','mam','mi','miedzy','między','mimo','mna','mną','mnie','moga','mogą','moi','moim','moj','moja','moje','moze','mozliwe','mozna','może','możliwe','można','mój','mu','musi','my','na','nad','nam','nami','nas','nasi','nasz','nasza','nasze','naszego','naszych','natomiast','natychmiast','nawet','nia','nią','nic','nich','nie','niech','niego','niej','niemu','nigdy','nim','nimi','niz','niż','no','o','obok','od','około','on','ona','one','oni','ono','oraz','oto','owszem','pan','pana','pani','po','pod','podczas','pomimo','ponad','poniewaz','ponieważ','powinien','powinna','powinni','powinno','poza','prawie','przeciez','przecież','przed','przede','przedtem','przez','przy','roku','rowniez','również','sam','sama','są','sie','się','skad','skąd','soba','sobą','sobie','sposob','sposób','swoje', 'swój','ta','tak','taka','taki','takie','takze','także','tam','te','tego','tej','ten','teraz','też','to','toba','tobą','tobie','totez','toteż','totobą','trzeba','tu','tutaj','twoi','twoim','twoj','twoja','twoje','twój','twym','ty','tych','tylko','tym','u','w','wam','wami','was','wasz','wasza','wasze','we','według','wiele','wielu','więc','więcej','wlasnie','właśnie','wszyscy','wszystkich','wszystkie','wszystkim','wszystko','wtedy','wy','z','za','zaden','zadna','zadne','zadnych','zapewne','zawsze','ze','zeby','zeznowu','z','ów','znow','znowu','znów','zostal','został','żaden','żadna','żadne','żadnych','że','żeby']\n"
   ]
  },
  {
   "cell_type": "code",
   "execution_count": 4,
   "metadata": {},
   "outputs": [],
   "source": [
    "data = []\n",
    "\n",
    "for idOfArticle in idOfArticles:\n",
    "    entry = {}\n",
    "    entry['id'] = idOfArticle\n",
    "    rawText = \"\"\n",
    "    tree = ET.parse(pathToArticles + idOfArticle + \".txt\")\n",
    "    root = tree.getroot()\n",
    "    for chunk in root:\n",
    "        for sentence in chunk:\n",
    "            for token in sentence.findall('tok'):\n",
    "                rawText += \" \" + token.findall('orth')[0].text\n",
    "    entry['raw_text'] = rawText\n",
    "    data.append(entry)\n",
    "\n",
    "textsDataFrame = pd.DataFrame(data)"
   ]
  },
  {
   "cell_type": "code",
   "execution_count": 5,
   "metadata": {},
   "outputs": [
    {
     "data": {
      "text/plain": [
       "2556"
      ]
     },
     "execution_count": 5,
     "metadata": {},
     "output_type": "execute_result"
    }
   ],
   "source": [
    "len(data)"
   ]
  },
  {
   "cell_type": "code",
   "execution_count": 6,
   "metadata": {},
   "outputs": [],
   "source": [
    "lemmatizedTexts = []\n",
    "\n",
    "for idOfArticle in textsDataFrame['id'].values:\n",
    "    tree = ET.parse(pathToArticles + idOfArticle + \".txt\")\n",
    "    root = tree.getroot()\n",
    "    lemmatizedWords = []\n",
    "    for chunk in root:\n",
    "        for sentence in chunk:\n",
    "            for token in sentence.findall('tok'):\n",
    "                lemmatized = token.findall('lex')[0][0].text\n",
    "                if lemmatized.isalpha() and lemmatized not in stopList:\n",
    "                    lemmatizedWords.append(lemmatized)\n",
    "    lemmatizedTexts.append(lemmatizedWords)\n",
    "\n",
    "textsDataFrame['lemmatized'] = lemmatizedTexts"
   ]
  },
  {
   "cell_type": "code",
   "execution_count": 7,
   "metadata": {},
   "outputs": [],
   "source": [
    "bigram_measures = BigramAssocMeasures()\n",
    "finder = BigramCollocationFinder.from_documents(textsDataFrame['lemmatized'])\n",
    "finder.apply_freq_filter(5)\n",
    "set_dict = set(finder.nbest(bigram_measures.pmi,32100)[100:])\n",
    "documents = textsDataFrame['lemmatized']\n",
    "bigrams = []\n",
    "for doc in documents:\n",
    "    entry = ['_'.join([word_first, word_second])\n",
    "             for word_first, word_second in zip(doc[:-1],doc[1:])\n",
    "             if (word_first, word_second) in set_dict]\n",
    "    bigrams.append(entry)\n",
    "textsDataFrame['bigram'] = bigrams"
   ]
  },
  {
   "cell_type": "code",
   "execution_count": 8,
   "metadata": {},
   "outputs": [],
   "source": [
    "from collections import Counter\n",
    "\n",
    "def vowpalize_sequence(sequence):\n",
    "    word_2_frequency = Counter(sequence)\n",
    "    del word_2_frequency['']\n",
    "    vw_string = ''\n",
    "    for word in word_2_frequency:\n",
    "        vw_string += word + \":\" + str(word_2_frequency[word]) + ' '\n",
    "    return vw_string"
   ]
  },
  {
   "cell_type": "code",
   "execution_count": 9,
   "metadata": {},
   "outputs": [],
   "source": [
    "vw_text = []\n",
    "for index, data in textsDataFrame.iterrows():\n",
    "    vw_string = ''    \n",
    "    doc_id = data.id\n",
    "    lemmatized = '@lemmatized ' + vowpalize_sequence(data.lemmatized)\n",
    "    bigram = '@bigram ' + vowpalize_sequence(data.bigram)\n",
    "    vw_string = ' |'.join([doc_id, lemmatized, bigram])\n",
    "    vw_text.append(vw_string)\n",
    "textsDataFrame['vw_text'] = vw_text"
   ]
  },
  {
   "cell_type": "code",
   "execution_count": 10,
   "metadata": {},
   "outputs": [
    {
     "data": {
      "text/plain": [
       "'f0a7797a-365f-4970-ba6f-ce5881db0c1b |@lemmatized wśród:1 długotrwały:1 oklask:1 przewodniczyć:1 komitet:3 międzynarodowy:2 nagroda:3 stalinowski:3 Dymitr:1 skobielcyn:1 wręczyć:1 jorge:2 amado:4 dyplom:1 laureat:2 złoty:1 medal:1 serdeczny:1 gratulacja:1 złożyć:1 następnie:1 przewodniczący:1 radziecki:8 obrońca:1 pokój:4 Mikołaj:1 tichonow:1 sekretarz:1 zarząd:1 związek:5 pisarz:1 Anatol:1 safronow:1 wiceprzewodniczący:1 antyfaszystowski:1 młodzież:1 konstanta:1 Orłowo:1 kolej:1 głos:1 zabrać:1 stwierdzać:1 przyznać:1 uważać:1 wielki:1 zaszczyt:1 naród:6 brazylijski:3 powiedzieć:1 walczyć:2 kochać:1 wiedzieć:2 zwycięstwo:1 faszyzm:1 zawdzięczać:1 świat:1 człowiek:2 daleki:1 ciąg:1 przemówienie:1 J:1 scharakteryzować:1 walka:1 przeciwko:3 zakusy:1 podżegacz:1 wojenny:2 milion:2 Brazylijczyk:3 stwierdzić:1 mówca:1 podpisać:1 apel:1 światowy:1 rada:1 nienawidzieć:1 wojna:2 dopuszczać:1 myśleć:1 kraj:6 demokracja:3 ludowy:3 zapytywać:1 eksploatować:1 poniże:1 doprowadzać:2 nędza:1 usiłować:1 przekształcić:1 Kolonia:1 grabić:1 bogactwo:1 okupować:2 baza:1 wojskowy:1 dyktować:1 budżet:1 wyrywać:1 chleb:1 usta:1 dziecko:1 upadek:1 kultura:2 zabierać:1 wolność:1 zagrażać:3 niezawisłość:1 pragnąć:1 dowodzić:1 żołnierz:1 narzucać:1 prawo:1 styl:1 życie:2 przesąd:1 rasowy:1 czyżby:1 socjalizm:1 cywilizacja:1 ślepy:1 dostrzegać:1 prawda:1 własny:1 oko:1 widzieć:1 oskarżać:2 ZSRR:1 proponować:1 uczciwy:1 patriota:1 móc:1 mały:1 chociażby:1 stopień:1 bezpieczeństwo:1 Brazylia:1 zdawać:1 siebie:1 coraz:1 sprawa:1 ingerencja:1 rząd:1 USA:1 polityczny:1 gospodarczy:1 kulturalny:1  |@bigram komitet_międzynarodowy:1 międzynarodowy_nagroda:2 nagroda_stalinowski:2 radziecki_komitet:1 komitet_obrońca:1 obrońca_pokój:1 pisarz_radziecki:1 młodzież_radziecki:1 głos_zabrać:1 wielki_zaszczyt:1 walczyć_pokój:1 związek_radziecki:4 zwycięstwo_faszyzm:1 naród_świat:1 człowiek_radziecki:1 radziecki_daleki:1 daleki_ciąg:1 walka_naród:1 podżegacz_wojenny:1 stwierdzić_mówca:1 podpisać_apel:1 apel_światowy:1 światowy_rada:1 rada_pokój:1 pokój_naród:1 nienawidzieć_wojna:1 wojna_przeciwko:1 przeciwko_związek:1 radziecki_kraj:3 kraj_demokracja:3 demokracja_ludowy:3 baza_wojskowy:1 ludowy_naród:1 naród_wiedzieć:1 kraj_socjalizm:1 kultura_naród:1 własny_oko:1 walczyć_przeciwko:1 zagrażać_bezpieczeństwo:1 zdawać_siebie:1 rząd_USA:1 życie_polityczny:1 polityczny_gospodarczy:1 gospodarczy_kulturalny:1 '"
      ]
     },
     "execution_count": 10,
     "metadata": {},
     "output_type": "execute_result"
    }
   ],
   "source": [
    "textsDataFrame['vw_text'].head().values[0]\n",
    "\n",
    "\n"
   ]
  },
  {
   "cell_type": "code",
   "execution_count": 11,
   "metadata": {},
   "outputs": [],
   "source": [
    "textsDataFrame[['id','raw_text', 'vw_text']].to_csv('./wwzd.csv')\n"
   ]
  },
  {
   "cell_type": "code",
   "execution_count": 12,
   "metadata": {},
   "outputs": [],
   "source": [
    "from topicnet.cooking_machine import Dataset\n",
    "\n",
    "demo_data = Dataset('wwzd.csv', batch_vectorizer_path=\"./wwzd_batches\")"
   ]
  },
  {
   "cell_type": "code",
   "execution_count": 13,
   "metadata": {},
   "outputs": [],
   "source": [
    "demo_data._cached_dict = demo_data.get_dictionary().filter(min_df=5.0, min_tf=5.0, max_df_rate=0.9)\n"
   ]
  },
  {
   "cell_type": "code",
   "execution_count": 14,
   "metadata": {},
   "outputs": [
    {
     "data": {
      "text/html": [
       "<div>\n",
       "<style scoped>\n",
       "    .dataframe tbody tr th:only-of-type {\n",
       "        vertical-align: middle;\n",
       "    }\n",
       "\n",
       "    .dataframe tbody tr th {\n",
       "        vertical-align: top;\n",
       "    }\n",
       "\n",
       "    .dataframe thead th {\n",
       "        text-align: right;\n",
       "    }\n",
       "</style>\n",
       "<table border=\"1\" class=\"dataframe\">\n",
       "  <thead>\n",
       "    <tr style=\"text-align: right;\">\n",
       "      <th></th>\n",
       "      <th>Unnamed: 0</th>\n",
       "      <th>raw_text</th>\n",
       "      <th>vw_text</th>\n",
       "    </tr>\n",
       "    <tr>\n",
       "      <th>id</th>\n",
       "      <th></th>\n",
       "      <th></th>\n",
       "      <th></th>\n",
       "    </tr>\n",
       "  </thead>\n",
       "  <tbody>\n",
       "    <tr>\n",
       "      <th>f0a7797a-365f-4970-ba6f-ce5881db0c1b</th>\n",
       "      <td>0</td>\n",
       "      <td>Wśród długotrwałych oklasków , przewodniczący...</td>\n",
       "      <td>f0a7797a-365f-4970-ba6f-ce5881db0c1b |@lemmati...</td>\n",
       "    </tr>\n",
       "    <tr>\n",
       "      <th>916d75b3-c01f-43a6-8df5-b842c46de999</th>\n",
       "      <td>1</td>\n",
       "      <td>Genewa ( PAP ) . W poniedziałek przybył do Ge...</td>\n",
       "      <td>916d75b3-c01f-43a6-8df5-b842c46de999 |@lemmati...</td>\n",
       "    </tr>\n",
       "    <tr>\n",
       "      <th>a5a6af87-ccbc-4999-8655-77c650b04915</th>\n",
       "      <td>2</td>\n",
       "      <td>USA bezwstydnie łamią zobowiązania międzynaro...</td>\n",
       "      <td>a5a6af87-ccbc-4999-8655-77c650b04915 |@lemmati...</td>\n",
       "    </tr>\n",
       "    <tr>\n",
       "      <th>909adfe9-4b16-4615-ab20-410a6e1ffec7</th>\n",
       "      <td>3</td>\n",
       "      <td>Niedaleko Stalingradu ujrzał em po raz pierws...</td>\n",
       "      <td>909adfe9-4b16-4615-ab20-410a6e1ffec7 |@lemmati...</td>\n",
       "    </tr>\n",
       "    <tr>\n",
       "      <th>8abdbcb0-9d91-4f55-8091-719ce6fa09e6</th>\n",
       "      <td>4</td>\n",
       "      <td>Dokładna obsługa wozu po dniu pracy gwarantuj...</td>\n",
       "      <td>8abdbcb0-9d91-4f55-8091-719ce6fa09e6 |@lemmati...</td>\n",
       "    </tr>\n",
       "  </tbody>\n",
       "</table>\n",
       "</div>"
      ],
      "text/plain": [
       "                                      Unnamed: 0  \\\n",
       "id                                                 \n",
       "f0a7797a-365f-4970-ba6f-ce5881db0c1b           0   \n",
       "916d75b3-c01f-43a6-8df5-b842c46de999           1   \n",
       "a5a6af87-ccbc-4999-8655-77c650b04915           2   \n",
       "909adfe9-4b16-4615-ab20-410a6e1ffec7           3   \n",
       "8abdbcb0-9d91-4f55-8091-719ce6fa09e6           4   \n",
       "\n",
       "                                                                               raw_text  \\\n",
       "id                                                                                        \n",
       "f0a7797a-365f-4970-ba6f-ce5881db0c1b   Wśród długotrwałych oklasków , przewodniczący...   \n",
       "916d75b3-c01f-43a6-8df5-b842c46de999   Genewa ( PAP ) . W poniedziałek przybył do Ge...   \n",
       "a5a6af87-ccbc-4999-8655-77c650b04915   USA bezwstydnie łamią zobowiązania międzynaro...   \n",
       "909adfe9-4b16-4615-ab20-410a6e1ffec7   Niedaleko Stalingradu ujrzał em po raz pierws...   \n",
       "8abdbcb0-9d91-4f55-8091-719ce6fa09e6   Dokładna obsługa wozu po dniu pracy gwarantuj...   \n",
       "\n",
       "                                                                                vw_text  \n",
       "id                                                                                       \n",
       "f0a7797a-365f-4970-ba6f-ce5881db0c1b  f0a7797a-365f-4970-ba6f-ce5881db0c1b |@lemmati...  \n",
       "916d75b3-c01f-43a6-8df5-b842c46de999  916d75b3-c01f-43a6-8df5-b842c46de999 |@lemmati...  \n",
       "a5a6af87-ccbc-4999-8655-77c650b04915  a5a6af87-ccbc-4999-8655-77c650b04915 |@lemmati...  \n",
       "909adfe9-4b16-4615-ab20-410a6e1ffec7  909adfe9-4b16-4615-ab20-410a6e1ffec7 |@lemmati...  \n",
       "8abdbcb0-9d91-4f55-8091-719ce6fa09e6  8abdbcb0-9d91-4f55-8091-719ce6fa09e6 |@lemmati...  "
      ]
     },
     "execution_count": 14,
     "metadata": {},
     "output_type": "execute_result"
    }
   ],
   "source": [
    "demo_data.get_dataset().head()\n"
   ]
  },
  {
   "cell_type": "code",
   "execution_count": 15,
   "metadata": {},
   "outputs": [
    {
     "data": {
      "text/plain": [
       "[PerplexityScore@all, SparsityThetaScore, SparsityPhiScore@lemmatized, PerplexityScore@lemmatized, TopicKernel@lemmatized, SparsityPhiScore@bigram, PerplexityScore@bigram, TopicKernel@bigram]"
      ]
     },
     "execution_count": 15,
     "metadata": {},
     "output_type": "execute_result"
    }
   ],
   "source": [
    "from topicnet.cooking_machine.model_constructor import init_simple_default_model\n",
    "\n",
    "model_artm = init_simple_default_model(\n",
    "    dataset=demo_data,\n",
    "    modalities_to_use={'@lemmatized': 1.0, '@bigram': 0.5},\n",
    "    main_modality='@lemmatized',\n",
    "    specific_topics=15,\n",
    "    background_topics=1,\n",
    ")\n",
    "\n",
    "model_artm.scores"
   ]
  },
  {
   "cell_type": "code",
   "execution_count": 16,
   "metadata": {},
   "outputs": [],
   "source": [
    "from topicnet.cooking_machine.models.topic_model import TopicModel\n",
    "from topicnet.cooking_machine.experiment import Experiment\n"
   ]
  },
  {
   "cell_type": "code",
   "execution_count": 17,
   "metadata": {},
   "outputs": [],
   "source": [
    "tm = TopicModel(model_artm)"
   ]
  },
  {
   "cell_type": "code",
   "execution_count": 18,
   "metadata": {},
   "outputs": [],
   "source": [
    "specific_topics = [t for t in tm.topic_names if \"background\" not in t]"
   ]
  },
  {
   "cell_type": "code",
   "execution_count": 19,
   "metadata": {},
   "outputs": [
    {
     "data": {
      "text/plain": [
       "[smooth_phi_bcg, smooth_theta_bcg]"
      ]
     },
     "execution_count": 19,
     "metadata": {},
     "output_type": "execute_result"
    }
   ],
   "source": [
    "model_artm.regularizers"
   ]
  },
  {
   "cell_type": "code",
   "execution_count": 20,
   "metadata": {},
   "outputs": [
    {
     "data": {
      "text/plain": [
       "[PerplexityScore@all, SparsityThetaScore, SparsityPhiScore@lemmatized, PerplexityScore@lemmatized, TopicKernel@lemmatized, SparsityPhiScore@bigram, PerplexityScore@bigram, TopicKernel@bigram]"
      ]
     },
     "execution_count": 20,
     "metadata": {},
     "output_type": "execute_result"
    }
   ],
   "source": [
    "model_artm.scores"
   ]
  },
  {
   "cell_type": "code",
   "execution_count": 21,
   "metadata": {},
   "outputs": [],
   "source": [
    "experiment = Experiment(experiment_id=\"experiment2\", save_path=\"experiments\", topic_model=tm)"
   ]
  },
  {
   "cell_type": "code",
   "execution_count": 22,
   "metadata": {},
   "outputs": [],
   "source": [
    "\n",
    "from topicnet.cooking_machine.cubes import CubeCreator, RegularizersModifierCube, PerplexityStrategy, GreedyStrategy\n",
    "import artm\n"
   ]
  },
  {
   "cell_type": "code",
   "execution_count": 23,
   "metadata": {},
   "outputs": [
    {
     "name": "stderr",
     "output_type": "stream",
     "text": [
      "100%|██████████| 18/18 [01:48<00:00,  6.02s/it]\n"
     ]
    },
    {
     "data": {
      "text/plain": [
       "[<topicnet.cooking_machine.models.dummy_topic_model.DummyTopicModel at 0x7fe6509b34d0>,\n",
       " <topicnet.cooking_machine.models.dummy_topic_model.DummyTopicModel at 0x7fe64faa5f50>,\n",
       " <topicnet.cooking_machine.models.dummy_topic_model.DummyTopicModel at 0x7fe64f6ecc90>,\n",
       " <topicnet.cooking_machine.models.dummy_topic_model.DummyTopicModel at 0x7fe64f6ea950>,\n",
       " <topicnet.cooking_machine.models.dummy_topic_model.DummyTopicModel at 0x7fe64f6e7910>,\n",
       " <topicnet.cooking_machine.models.dummy_topic_model.DummyTopicModel at 0x7fe64f70e3d0>,\n",
       " <topicnet.cooking_machine.models.dummy_topic_model.DummyTopicModel at 0x7fe65091a110>,\n",
       " <topicnet.cooking_machine.models.dummy_topic_model.DummyTopicModel at 0x7fe65092c150>,\n",
       " <topicnet.cooking_machine.models.dummy_topic_model.DummyTopicModel at 0x7fe650931b90>,\n",
       " <topicnet.cooking_machine.models.dummy_topic_model.DummyTopicModel at 0x7fe65094d150>,\n",
       " <topicnet.cooking_machine.models.dummy_topic_model.DummyTopicModel at 0x7fe650a637d0>,\n",
       " <topicnet.cooking_machine.models.dummy_topic_model.DummyTopicModel at 0x7fe650a78250>,\n",
       " <topicnet.cooking_machine.models.dummy_topic_model.DummyTopicModel at 0x7fe650a7ded0>,\n",
       " <topicnet.cooking_machine.models.dummy_topic_model.DummyTopicModel at 0x7fe650a8bf10>,\n",
       " <topicnet.cooking_machine.models.dummy_topic_model.DummyTopicModel at 0x7fe69d6d9890>,\n",
       " <topicnet.cooking_machine.models.dummy_topic_model.DummyTopicModel at 0x7fe69d6e95d0>,\n",
       " <topicnet.cooking_machine.models.dummy_topic_model.DummyTopicModel at 0x7fe69d6f8610>,\n",
       " <topicnet.cooking_machine.models.dummy_topic_model.DummyTopicModel at 0x7fe69d6fafd0>]"
      ]
     },
     "execution_count": 23,
     "metadata": {},
     "output_type": "execute_result"
    }
   ],
   "source": [
    "\n",
    "cube = RegularizersModifierCube(\n",
    "    num_iter=10,\n",
    "    regularizer_parameters=[\n",
    "        {\n",
    "            'regularizer': artm.DecorrelatorPhiRegularizer(name='decorrelation_phi', \n",
    "                                                           class_ids=\"@lemmatized\", \n",
    "                                                           topic_names=specific_topics),\n",
    "            'tau_grid': [0, 0.005, 0.01, 0.015, 0.02, 0.025]\n",
    "\n",
    "        },\n",
    "        {\n",
    "            'regularizer': artm.SmoothSparsePhiRegularizer(name=\"smsp_phi_specific\",\n",
    "                                                           class_ids=\"@lemmatized\", \n",
    "                                                           topic_names=specific_topics),\n",
    "            'tau_grid': [-0.05, 0, 0.05]\n",
    "        },\n",
    "        {\n",
    "            'name': \"smooth_phi_bcg\",\n",
    "            'tau_grid': [0.1]\n",
    "        },\n",
    "    ],\n",
    "    verbose=True\n",
    ")\n",
    "cube(tm, demo_data)"
   ]
  },
  {
   "cell_type": "code",
   "execution_count": 24,
   "metadata": {},
   "outputs": [
    {
     "data": {
      "text/html": [
       "<style>\n",
       "    div.output_html {\n",
       "        white-space: nowrap;\n",
       "    }\n",
       "    div .output_subarea > pre {\n",
       "        white-space: pre;\n",
       "        word-wrap: normal;\n",
       "    }\n",
       "    div .output_stdout > pre {\n",
       "        white-space: pre-wrap !important;\n",
       "        word-wrap:  break-word !important;\n",
       "    }\n",
       "    </style>"
      ],
      "text/plain": [
       "<IPython.core.display.HTML object>"
      ]
     },
     "metadata": {},
     "output_type": "display_data"
    }
   ],
   "source": [
    "\n",
    "import matplotlib.pyplot as plt\n",
    "%matplotlib inline\n",
    "\n",
    "from topicnet.cooking_machine.pretty_output import make_notebook_pretty\n",
    "make_notebook_pretty()"
   ]
  },
  {
   "cell_type": "code",
   "execution_count": 25,
   "metadata": {},
   "outputs": [
    {
     "data": {
      "text/plain": [
       "Experiment experiment2\n",
       "\n",
       "Experiment was made with BigARTM 0.10.0\n",
       "Tree:\n",
       "                              ┌##13h15m52s_08d12m2019y###\n",
       "                              ├##13h15m58s_08d12m2019y###\n",
       "                              ├##13h16m05s_08d12m2019y###\n",
       "                              ├##13h16m11s_08d12m2019y###\n",
       "                              ├##13h16m17s_08d12m2019y###\n",
       "                              ├##13h16m24s_08d12m2019y###\n",
       "                              ├##13h16m30s_08d12m2019y###\n",
       "                              ├##13h16m36s_08d12m2019y###\n",
       "                              ├##13h16m41s_08d12m2019y###\n",
       "<<<<<<<<<<<root>>>>>>>>>>>────┤\n",
       "                              ├##13h16m46s_08d12m2019y###\n",
       "                              ├##13h16m51s_08d12m2019y###\n",
       "                              ├##13h16m57s_08d12m2019y###\n",
       "                              ├##13h17m03s_08d12m2019y###\n",
       "                              ├##13h17m09s_08d12m2019y###\n",
       "                              ├##13h17m15s_08d12m2019y###\n",
       "                              ├##13h17m21s_08d12m2019y###\n",
       "                              ├##13h17m27s_08d12m2019y###\n",
       "                              └##13h17m34s_08d12m2019y###\n",
       "Cubes:\n",
       " START                        | REG_MODIFIER                                              \n",
       "                              |                                                           \n",
       " name:                        | tau_grid:                                                 \n",
       "   ARTM                       |   0,                                                      \n",
       " num_processors:              |   0.005,                                                  \n",
       "   3                          |   ...,                                                    \n",
       " num_topics:                  |   0.02,                                                   \n",
       "   16                         |   0.025                                                   \n",
       " topic_names:                 | regularizer:                                              \n",
       "   topic_0,                   |   name=decorrelation_phi,                                 \n",
       "   topic_1,                   |   class_ids=[@lemmatized],                                \n",
       "   ...,                       |   topic_names=[topic_0, topic_1, ..., topic_13, topic_14],\n",
       "   topic_14,                  |   tau=1.0                                                 \n",
       "   background_15              |    +                                                      \n",
       " class_ids:                   | tau_grid:                                                 \n",
       "   @lemmatized=1.0,           |   -0.05,                                                  \n",
       "   @bigram=4.678379865960133  |   0,                                                      \n",
       " seed:                        |   0.05                                                    \n",
       "   -1                         | regularizer:                                              \n",
       "                              |   name=smsp_phi_specific,                                 \n",
       "                              |   class_ids=[@lemmatized],                                \n",
       "                              |   topic_names=[topic_0, topic_1, ..., topic_13, topic_14],\n",
       "                              |   dictionary=,                                            \n",
       "                              |   tau=1.0                                                 \n",
       "                              |    +                                                      \n",
       "                              | tau_grid:                                                 \n",
       "                              |   0.1                                                     \n",
       "                              | name:                                                     \n",
       "                              |   smooth_phi_bcg                                          \n",
       "                              |                                                           \n",
       "──────────────────────────────+────────────────────────────────────────────────────────────+──────────────────────────────────────────────────────────\n",
       "                              |                                                           "
      ]
     },
     "metadata": {},
     "output_type": "display_data"
    }
   ],
   "source": [
    "experiment.show()\n"
   ]
  },
  {
   "cell_type": "code",
   "execution_count": 26,
   "metadata": {},
   "outputs": [
    {
     "data": {
      "image/png": "[encoded data removed]",
      "text/plain": [
       "<Figure size 576x576 with 1 Axes>"
      ]
     },
     "metadata": {
      "needs_background": "light"
     },
     "output_type": "display_data"
    }
   ],
   "source": [
    "from matplotlib import cm\n",
    "import numpy as np\n",
    "\n",
    "\n",
    "tms = experiment.models\n",
    "colors = np.linspace(0, 0.65, len(tms))\n",
    "\n",
    "plt.figure(figsize=(8,8))\n",
    "for i, tm in enumerate(list(tms.values())[1:]):\n",
    "    score = tm.scores['PerplexityScore@all']\n",
    "    plt.plot(score[1:], color=cm.Blues(colors[i]))\n",
    "plt.show()"
   ]
  },
  {
   "cell_type": "code",
   "execution_count": 27,
   "metadata": {},
   "outputs": [
    {
     "data": {
      "image/png": "[encoded data removed]",
      "text/plain": [
       "<Figure size 576x576 with 1 Axes>"
      ]
     },
     "metadata": {
      "needs_background": "light"
     },
     "output_type": "display_data"
    }
   ],
   "source": [
    "from matplotlib import cm\n",
    "import numpy as np\n",
    "\n",
    "\n",
    "tms = experiment.models\n",
    "colors = np.linspace(0, 0.65, len(tms))\n",
    "\n",
    "plt.figure(figsize=(8,8))\n",
    "for i, tm in enumerate(list(tms.values())[1:]):\n",
    "    score = tm.scores['TopicKernel@lemmatized.average_purity']\n",
    "    plt.plot(score, color=cm.Blues(colors[i]))\n",
    "    score = tm.scores['TopicKernel@lemmatized.average_contrast']\n",
    "    plt.plot(score, color=cm.Reds(colors[i]))\n",
    "plt.show()"
   ]
  },
  {
   "cell_type": "code",
   "execution_count": 28,
   "metadata": {},
   "outputs": [
    {
     "name": "stderr",
     "output_type": "stream",
     "text": [
      "/home/tomasz/.local/lib/python3.7/site-packages/topicnet/cooking_machine/routine.py:528: UserWarning: Can't return the requested number of models:  \"18\". Only \"12\" satisfy the query\n",
      "  W_RETURN_FEWER_MODELS_DETAILS.format(models_num, len(result_models)))\n"
     ]
    },
    {
     "name": "stdout",
     "output_type": "stream",
     "text": [
      "12\n"
     ]
    }
   ],
   "source": [
    "query = (\n",
    "    \"TopicKernel@lemmatized.average_contrast > 0.7 * MAXIMUM(TopicKernel@lemmatized.average_contrast) \"\n",
    "    \"and TopicKernel@lemmatized.average_purity > 0.7 * MAXIMUM(TopicKernel@lemmatized.average_purity) \"\n",
    "    \"and PerplexityScore@all < 1.1 * MINIMUM(PerplexityScore@all) \"\n",
    ")\n",
    "models = experiment.select(query)\n",
    "\n",
    "models = experiment.select(query + \" COLLECT all\")\n",
    "print(len(models))"
   ]
  },
  {
   "cell_type": "code",
   "execution_count": 29,
   "metadata": {},
   "outputs": [],
   "source": [
    "def describe_model(model):\n",
    "    for reg_name, reg in model.regularizers._data.items():\n",
    "        print(reg_name, reg.tau)\n",
    "    print(model.scores[\"PerplexityScore@all\"][-1])\n",
    "    print(model.scores[\"TopicKernel@lemmatized.average_contrast\"][-1])\n",
    "    print(model.scores[\"TopicKernel@lemmatized.average_purity\"][-1])\n",
    "    print(\"------\")"
   ]
  },
  {
   "cell_type": "code",
   "execution_count": 30,
   "metadata": {},
   "outputs": [
    {
     "name": "stdout",
     "output_type": "stream",
     "text": [
      "smooth_phi_bcg 5.990796019900498\n",
      "smooth_theta_bcg 0.0\n",
      "decorrelation_phi 0\n",
      "smsp_phi_specific -0.17116560056858565\n",
      "918.5167236328125\n",
      "0.49480223655700684\n",
      "0.33337050676345825\n",
      "------\n",
      "smooth_phi_bcg 5.990796019900498\n",
      "smooth_theta_bcg 0.0\n",
      "decorrelation_phi 0\n",
      "smsp_phi_specific 0.0\n",
      "871.0945434570312\n",
      "0.475146621465683\n",
      "0.27273276448249817\n",
      "------\n",
      "smooth_phi_bcg 5.990796019900498\n",
      "smooth_theta_bcg 0.0\n",
      "decorrelation_phi 0.005\n",
      "smsp_phi_specific -0.17116560056858565\n",
      "918.7820434570312\n",
      "0.4955748915672302\n",
      "0.33513960242271423\n",
      "------\n",
      "smooth_phi_bcg 5.990796019900498\n",
      "smooth_theta_bcg 0.0\n",
      "decorrelation_phi 0.005\n",
      "smsp_phi_specific 0.0\n",
      "871.1011352539062\n",
      "0.47526609897613525\n",
      "0.2741016149520874\n",
      "------\n",
      "smooth_phi_bcg 5.990796019900498\n",
      "smooth_theta_bcg 0.0\n",
      "decorrelation_phi 0.01\n",
      "smsp_phi_specific -0.17116560056858565\n",
      "918.9403076171875\n",
      "0.49679121375083923\n",
      "0.33956313133239746\n",
      "------\n",
      "smooth_phi_bcg 5.990796019900498\n",
      "smooth_theta_bcg 0.0\n",
      "decorrelation_phi 0.01\n",
      "smsp_phi_specific 0.0\n",
      "871.1339721679688\n",
      "0.4755915105342865\n",
      "0.2769714593887329\n",
      "------\n",
      "smooth_phi_bcg 5.990796019900498\n",
      "smooth_theta_bcg 0.0\n",
      "decorrelation_phi 0.015\n",
      "smsp_phi_specific -0.17116560056858565\n",
      "919.2609252929688\n",
      "0.49736058712005615\n",
      "0.34154438972473145\n",
      "------\n",
      "smooth_phi_bcg 5.990796019900498\n",
      "smooth_theta_bcg 0.0\n",
      "decorrelation_phi 0.015\n",
      "smsp_phi_specific 0.0\n",
      "871.1912231445312\n",
      "0.476463258266449\n",
      "0.27977892756462097\n",
      "------\n",
      "smooth_phi_bcg 5.990796019900498\n",
      "smooth_theta_bcg 0.0\n",
      "decorrelation_phi 0.02\n",
      "smsp_phi_specific -0.17116560056858565\n",
      "919.7222290039062\n",
      "0.49912911653518677\n",
      "0.3438831567764282\n",
      "------\n",
      "smooth_phi_bcg 5.990796019900498\n",
      "smooth_theta_bcg 0.0\n",
      "decorrelation_phi 0.02\n",
      "smsp_phi_specific 0.0\n",
      "871.2710571289062\n",
      "0.47665777802467346\n",
      "0.28134673833847046\n",
      "------\n",
      "smooth_phi_bcg 5.990796019900498\n",
      "smooth_theta_bcg 0.0\n",
      "decorrelation_phi 0.025\n",
      "smsp_phi_specific -0.17116560056858565\n",
      "920.1477661132812\n",
      "0.49967584013938904\n",
      "0.34618663787841797\n",
      "------\n",
      "smooth_phi_bcg 5.990796019900498\n",
      "smooth_theta_bcg 0.0\n",
      "decorrelation_phi 0.025\n",
      "smsp_phi_specific 0.0\n",
      "871.3729858398438\n",
      "0.47724631428718567\n",
      "0.2826094925403595\n",
      "------\n"
     ]
    }
   ],
   "source": [
    "for model in models:\n",
    "    describe_model(model)"
   ]
  },
  {
   "cell_type": "code",
   "execution_count": 31,
   "metadata": {},
   "outputs": [
    {
     "name": "stdout",
     "output_type": "stream",
     "text": [
      "2\n"
     ]
    }
   ],
   "source": [
    "query = (\n",
    "    \"TopicKernel@lemmatized.average_contrast > 0.7 * MAXIMUM(TopicKernel@lemmatized.average_contrast) \"\n",
    "    \"and TopicKernel@lemmatized.average_purity > 0.7 * MAXIMUM(TopicKernel@lemmatized.average_purity) \"\n",
    "    \"and PerplexityScore@all < 1.1 * MINIMUM(PerplexityScore@all) \"\n",
    "    \"and TopicKernel@lemmatized.average_purity -> max\"    \n",
    ")\n",
    "\n",
    "models = experiment.select(query + \" COLLECT 2\")\n",
    "print(len(models))"
   ]
  },
  {
   "cell_type": "code",
   "execution_count": 32,
   "metadata": {},
   "outputs": [],
   "source": [
    "last_model = models[-1]\n"
   ]
  },
  {
   "cell_type": "code",
   "execution_count": 33,
   "metadata": {},
   "outputs": [],
   "source": [
    "\n",
    "from topicnet.viewers.top_tokens_viewer import TopTokensViewer\n",
    "from topicnet.viewers.top_documents_viewer import TopDocumentsViewer"
   ]
  },
  {
   "cell_type": "code",
   "execution_count": 34,
   "metadata": {},
   "outputs": [],
   "source": [
    "thresh = 1e-5\n",
    "last_model_top_tok = TopTokensViewer(last_model, num_top_tokens=10, method='phi')\n",
    "last_model_html = last_model_top_tok.to_html(last_model_top_tok.view(),thresh=thresh)"
   ]
  },
  {
   "cell_type": "code",
   "execution_count": 35,
   "metadata": {},
   "outputs": [],
   "source": [
    "last_model_top_doc = TopDocumentsViewer(last_model, dataset=demo_data).view()\n"
   ]
  },
  {
   "cell_type": "code",
   "execution_count": 36,
   "metadata": {},
   "outputs": [],
   "source": [
    "from IPython.display import display, display_html\n"
   ]
  },
  {
   "cell_type": "code",
   "execution_count": 37,
   "metadata": {},
   "outputs": [
    {
     "data": {
      "text/html": [
       "<style  type=\"text/css\" >\n",
       "</style><table id=\"T_c90a1e9a_19b4_11ea_becb_ef15594c373c\" style='display:inline'><thead>    <tr>        <th class=\"blank level0\" ></th>        <th class=\"col_heading level0 col0\" >topic_0 @bigram</th>    </tr></thead><tbody>\n",
       "                <tr>\n",
       "                        <th id=\"T_c90a1e9a_19b4_11ea_becb_ef15594c373clevel0_row0\" class=\"row_heading level0 row0\" >organizacja_partyjny</th>\n",
       "                        <td id=\"T_c90a1e9a_19b4_11ea_becb_ef15594c373crow0_col0\" class=\"data row0 col0\" >0.05714</td>\n",
       "            </tr>\n",
       "            <tr>\n",
       "                        <th id=\"T_c90a1e9a_19b4_11ea_becb_ef15594c373clevel0_row1\" class=\"row_heading level0 row1\" >członek_Partia</th>\n",
       "                        <td id=\"T_c90a1e9a_19b4_11ea_becb_ef15594c373crow1_col0\" class=\"data row1 col0\" >0.03568</td>\n",
       "            </tr>\n",
       "            <tr>\n",
       "                        <th id=\"T_c90a1e9a_19b4_11ea_becb_ef15594c373clevel0_row2\" class=\"row_heading level0 row2\" >kandydat_Partia</th>\n",
       "                        <td id=\"T_c90a1e9a_19b4_11ea_becb_ef15594c373crow2_col0\" class=\"data row2 col0\" >0.01091</td>\n",
       "            </tr>\n",
       "            <tr>\n",
       "                        <th id=\"T_c90a1e9a_19b4_11ea_becb_ef15594c373clevel0_row3\" class=\"row_heading level0 row3\" >ZMP_owca</th>\n",
       "                        <td id=\"T_c90a1e9a_19b4_11ea_becb_ef15594c373crow3_col0\" class=\"data row3 col0\" >0.01052</td>\n",
       "            </tr>\n",
       "            <tr>\n",
       "                        <th id=\"T_c90a1e9a_19b4_11ea_becb_ef15594c373clevel0_row4\" class=\"row_heading level0 row4\" >wydział_polityczny</th>\n",
       "                        <td id=\"T_c90a1e9a_19b4_11ea_becb_ef15594c373crow4_col0\" class=\"data row4 col0\" >0.01044</td>\n",
       "            </tr>\n",
       "            <tr>\n",
       "                        <th id=\"T_c90a1e9a_19b4_11ea_becb_ef15594c373clevel0_row5\" class=\"row_heading level0 row5\" >praca_polityczny</th>\n",
       "                        <td id=\"T_c90a1e9a_19b4_11ea_becb_ef15594c373crow5_col0\" class=\"data row5 col0\" >0.00975</td>\n",
       "            </tr>\n",
       "            <tr>\n",
       "                        <th id=\"T_c90a1e9a_19b4_11ea_becb_ef15594c373clevel0_row6\" class=\"row_heading level0 row6\" >sprawozdawczo_wyborczy</th>\n",
       "                        <td id=\"T_c90a1e9a_19b4_11ea_becb_ef15594c373crow6_col0\" class=\"data row6 col0\" >0.00881</td>\n",
       "            </tr>\n",
       "            <tr>\n",
       "                        <th id=\"T_c90a1e9a_19b4_11ea_becb_ef15594c373clevel0_row7\" class=\"row_heading level0 row7\" >podstawowy_organizacja</th>\n",
       "                        <td id=\"T_c90a1e9a_19b4_11ea_becb_ef15594c373crow7_col0\" class=\"data row7 col0\" >0.00824</td>\n",
       "            </tr>\n",
       "            <tr>\n",
       "                        <th id=\"T_c90a1e9a_19b4_11ea_becb_ef15594c373clevel0_row8\" class=\"row_heading level0 row8\" >oddziałowy_organizacja</th>\n",
       "                        <td id=\"T_c90a1e9a_19b4_11ea_becb_ef15594c373crow8_col0\" class=\"data row8 col0\" >0.00811</td>\n",
       "            </tr>\n",
       "            <tr>\n",
       "                        <th id=\"T_c90a1e9a_19b4_11ea_becb_ef15594c373clevel0_row9\" class=\"row_heading level0 row9\" >członek_kandydat</th>\n",
       "                        <td id=\"T_c90a1e9a_19b4_11ea_becb_ef15594c373crow9_col0\" class=\"data row9 col0\" >0.00742</td>\n",
       "            </tr>\n",
       "    </tbody></table><style  type=\"text/css\" >\n",
       "</style><table id=\"T_c90a1e9b_19b4_11ea_becb_ef15594c373c\" style='display:inline'><thead>    <tr>        <th class=\"blank level0\" ></th>        <th class=\"col_heading level0 col0\" >topic_0 @lemmatized</th>    </tr></thead><tbody>\n",
       "                <tr>\n",
       "                        <th id=\"T_c90a1e9b_19b4_11ea_becb_ef15594c373clevel0_row0\" class=\"row_heading level0 row0\" >partyjny</th>\n",
       "                        <td id=\"T_c90a1e9b_19b4_11ea_becb_ef15594c373crow0_col0\" class=\"data row0 col0\" >0.03567</td>\n",
       "            </tr>\n",
       "            <tr>\n",
       "                        <th id=\"T_c90a1e9b_19b4_11ea_becb_ef15594c373clevel0_row1\" class=\"row_heading level0 row1\" >organizacja</th>\n",
       "                        <td id=\"T_c90a1e9b_19b4_11ea_becb_ef15594c373crow1_col0\" class=\"data row1 col0\" >0.02742</td>\n",
       "            </tr>\n",
       "            <tr>\n",
       "                        <th id=\"T_c90a1e9b_19b4_11ea_becb_ef15594c373clevel0_row2\" class=\"row_heading level0 row2\" >praca</th>\n",
       "                        <td id=\"T_c90a1e9b_19b4_11ea_becb_ef15594c373crow2_col0\" class=\"data row2 col0\" >0.02736</td>\n",
       "            </tr>\n",
       "            <tr>\n",
       "                        <th id=\"T_c90a1e9b_19b4_11ea_becb_ef15594c373clevel0_row3\" class=\"row_heading level0 row3\" >Partia</th>\n",
       "                        <td id=\"T_c90a1e9b_19b4_11ea_becb_ef15594c373crow3_col0\" class=\"data row3 col0\" >0.02378</td>\n",
       "            </tr>\n",
       "            <tr>\n",
       "                        <th id=\"T_c90a1e9b_19b4_11ea_becb_ef15594c373clevel0_row4\" class=\"row_heading level0 row4\" >polityczny</th>\n",
       "                        <td id=\"T_c90a1e9b_19b4_11ea_becb_ef15594c373crow4_col0\" class=\"data row4 col0\" >0.02159</td>\n",
       "            </tr>\n",
       "            <tr>\n",
       "                        <th id=\"T_c90a1e9b_19b4_11ea_becb_ef15594c373clevel0_row5\" class=\"row_heading level0 row5\" >towarzysz</th>\n",
       "                        <td id=\"T_c90a1e9b_19b4_11ea_becb_ef15594c373crow5_col0\" class=\"data row5 col0\" >0.02125</td>\n",
       "            </tr>\n",
       "            <tr>\n",
       "                        <th id=\"T_c90a1e9b_19b4_11ea_becb_ef15594c373clevel0_row6\" class=\"row_heading level0 row6\" >członek</th>\n",
       "                        <td id=\"T_c90a1e9b_19b4_11ea_becb_ef15594c373crow6_col0\" class=\"data row6 col0\" >0.02078</td>\n",
       "            </tr>\n",
       "            <tr>\n",
       "                        <th id=\"T_c90a1e9b_19b4_11ea_becb_ef15594c373clevel0_row7\" class=\"row_heading level0 row7\" >ZMP</th>\n",
       "                        <td id=\"T_c90a1e9b_19b4_11ea_becb_ef15594c373crow7_col0\" class=\"data row7 col0\" >0.01809</td>\n",
       "            </tr>\n",
       "            <tr>\n",
       "                        <th id=\"T_c90a1e9b_19b4_11ea_becb_ef15594c373clevel0_row8\" class=\"row_heading level0 row8\" >zebranie</th>\n",
       "                        <td id=\"T_c90a1e9b_19b4_11ea_becb_ef15594c373crow8_col0\" class=\"data row8 col0\" >0.01385</td>\n",
       "            </tr>\n",
       "            <tr>\n",
       "                        <th id=\"T_c90a1e9b_19b4_11ea_becb_ef15594c373clevel0_row9\" class=\"row_heading level0 row9\" >zadanie</th>\n",
       "                        <td id=\"T_c90a1e9b_19b4_11ea_becb_ef15594c373crow9_col0\" class=\"data row9 col0\" >0.0128</td>\n",
       "            </tr>\n",
       "    </tbody></table>"
      ]
     },
     "metadata": {},
     "output_type": "display_data"
    },
    {
     "data": {
      "text/plain": [
       "['a601b92b-ad7f-4520-b38c-fd95808677fd',\n",
       " '319951df-295d-4006-86dc-e727d3aa527e',\n",
       " 'dacf0686-a7e9-4561-9262-413140274424',\n",
       " '4b7da405-997a-417e-b570-668ea4da8e36',\n",
       " '24435746-b838-4af3-8a55-f77d581c0f8c',\n",
       " 'b39a2b8f-ec34-460b-b373-77b7e1caf874',\n",
       " 'c61e4218-ff6a-4ab5-91c2-84b4ea2907f9',\n",
       " '015b48b2-7fd1-41cb-95c0-3533147cf3f6',\n",
       " 'ad204465-f97f-4513-adc5-f86ce14581af',\n",
       " '970930ca-054d-475d-9fdc-b18cf1a05ea0']"
      ]
     },
     "metadata": {},
     "output_type": "display_data"
    },
    {
     "data": {
      "text/html": [
       "<style  type=\"text/css\" >\n",
       "</style><table id=\"T_c90a1e9c_19b4_11ea_becb_ef15594c373c\" style='display:inline'><thead>    <tr>        <th class=\"blank level0\" ></th>        <th class=\"col_heading level0 col0\" >topic_1 @bigram</th>    </tr></thead><tbody>\n",
       "                <tr>\n",
       "                        <th id=\"T_c90a1e9c_19b4_11ea_becb_ef15594c373clevel0_row0\" class=\"row_heading level0 row0\" >spółdzielnia_produkcyjny</th>\n",
       "                        <td id=\"T_c90a1e9c_19b4_11ea_becb_ef15594c373crow0_col0\" class=\"data row0 col0\" >0.03393</td>\n",
       "            </tr>\n",
       "            <tr>\n",
       "                        <th id=\"T_c90a1e9c_19b4_11ea_becb_ef15594c373clevel0_row1\" class=\"row_heading level0 row1\" >front_narodowy</th>\n",
       "                        <td id=\"T_c90a1e9c_19b4_11ea_becb_ef15594c373crow1_col0\" class=\"data row1 col0\" >0.01811</td>\n",
       "            </tr>\n",
       "            <tr>\n",
       "                        <th id=\"T_c90a1e9c_19b4_11ea_becb_ef15594c373clevel0_row2\" class=\"row_heading level0 row2\" >plan_letni</th>\n",
       "                        <td id=\"T_c90a1e9c_19b4_11ea_becb_ef15594c373crow2_col0\" class=\"data row2 col0\" >0.01418</td>\n",
       "            </tr>\n",
       "            <tr>\n",
       "                        <th id=\"T_c90a1e9c_19b4_11ea_becb_ef15594c373clevel0_row3\" class=\"row_heading level0 row3\" >klasa_robotniczy</th>\n",
       "                        <td id=\"T_c90a1e9c_19b4_11ea_becb_ef15594c373crow3_col0\" class=\"data row3 col0\" >0.01113</td>\n",
       "            </tr>\n",
       "            <tr>\n",
       "                        <th id=\"T_c90a1e9c_19b4_11ea_becb_ef15594c373clevel0_row4\" class=\"row_heading level0 row4\" >człowiek_praca</th>\n",
       "                        <td id=\"T_c90a1e9c_19b4_11ea_becb_ef15594c373crow4_col0\" class=\"data row4 col0\" >0.00968</td>\n",
       "            </tr>\n",
       "            <tr>\n",
       "                        <th id=\"T_c90a1e9c_19b4_11ea_becb_ef15594c373clevel0_row5\" class=\"row_heading level0 row5\" >władza_ludowy</th>\n",
       "                        <td id=\"T_c90a1e9c_19b4_11ea_becb_ef15594c373crow5_col0\" class=\"data row5 col0\" >0.00915</td>\n",
       "            </tr>\n",
       "            <tr>\n",
       "                        <th id=\"T_c90a1e9c_19b4_11ea_becb_ef15594c373clevel0_row6\" class=\"row_heading level0 row6\" >naród_polski</th>\n",
       "                        <td id=\"T_c90a1e9c_19b4_11ea_becb_ef15594c373crow6_col0\" class=\"data row6 col0\" >0.00815</td>\n",
       "            </tr>\n",
       "            <tr>\n",
       "                        <th id=\"T_c90a1e9c_19b4_11ea_becb_ef15594c373clevel0_row7\" class=\"row_heading level0 row7\" >Bolesław_Bierut</th>\n",
       "                        <td id=\"T_c90a1e9c_19b4_11ea_becb_ef15594c373crow7_col0\" class=\"data row7 col0\" >0.00761</td>\n",
       "            </tr>\n",
       "            <tr>\n",
       "                        <th id=\"T_c90a1e9c_19b4_11ea_becb_ef15594c373clevel0_row8\" class=\"row_heading level0 row8\" >Polska_ludowy</th>\n",
       "                        <td id=\"T_c90a1e9c_19b4_11ea_becb_ef15594c373crow8_col0\" class=\"data row8 col0\" >0.00753</td>\n",
       "            </tr>\n",
       "            <tr>\n",
       "                        <th id=\"T_c90a1e9c_19b4_11ea_becb_ef15594c373clevel0_row9\" class=\"row_heading level0 row9\" >członek_spółdzielnia</th>\n",
       "                        <td id=\"T_c90a1e9c_19b4_11ea_becb_ef15594c373crow9_col0\" class=\"data row9 col0\" >0.0074</td>\n",
       "            </tr>\n",
       "    </tbody></table><style  type=\"text/css\" >\n",
       "</style><table id=\"T_c90a1e9d_19b4_11ea_becb_ef15594c373c\" style='display:inline'><thead>    <tr>        <th class=\"blank level0\" ></th>        <th class=\"col_heading level0 col0\" >topic_1 @lemmatized</th>    </tr></thead><tbody>\n",
       "                <tr>\n",
       "                        <th id=\"T_c90a1e9d_19b4_11ea_becb_ef15594c373clevel0_row0\" class=\"row_heading level0 row0\" >chłop</th>\n",
       "                        <td id=\"T_c90a1e9d_19b4_11ea_becb_ef15594c373crow0_col0\" class=\"data row0 col0\" >0.01473</td>\n",
       "            </tr>\n",
       "            <tr>\n",
       "                        <th id=\"T_c90a1e9d_19b4_11ea_becb_ef15594c373clevel0_row1\" class=\"row_heading level0 row1\" >spółdzielnia</th>\n",
       "                        <td id=\"T_c90a1e9d_19b4_11ea_becb_ef15594c373crow1_col0\" class=\"data row1 col0\" >0.01331</td>\n",
       "            </tr>\n",
       "            <tr>\n",
       "                        <th id=\"T_c90a1e9d_19b4_11ea_becb_ef15594c373clevel0_row2\" class=\"row_heading level0 row2\" >wieś</th>\n",
       "                        <td id=\"T_c90a1e9d_19b4_11ea_becb_ef15594c373crow2_col0\" class=\"data row2 col0\" >0.01156</td>\n",
       "            </tr>\n",
       "            <tr>\n",
       "                        <th id=\"T_c90a1e9d_19b4_11ea_becb_ef15594c373clevel0_row3\" class=\"row_heading level0 row3\" >praca</th>\n",
       "                        <td id=\"T_c90a1e9d_19b4_11ea_becb_ef15594c373crow3_col0\" class=\"data row3 col0\" >0.01154</td>\n",
       "            </tr>\n",
       "            <tr>\n",
       "                        <th id=\"T_c90a1e9d_19b4_11ea_becb_ef15594c373clevel0_row4\" class=\"row_heading level0 row4\" >produkcyjny</th>\n",
       "                        <td id=\"T_c90a1e9d_19b4_11ea_becb_ef15594c373crow4_col0\" class=\"data row4 col0\" >0.01143</td>\n",
       "            </tr>\n",
       "            <tr>\n",
       "                        <th id=\"T_c90a1e9d_19b4_11ea_becb_ef15594c373clevel0_row5\" class=\"row_heading level0 row5\" >Ziemia</th>\n",
       "                        <td id=\"T_c90a1e9d_19b4_11ea_becb_ef15594c373crow5_col0\" class=\"data row5 col0\" >0.01014</td>\n",
       "            </tr>\n",
       "            <tr>\n",
       "                        <th id=\"T_c90a1e9d_19b4_11ea_becb_ef15594c373clevel0_row6\" class=\"row_heading level0 row6\" >nowy</th>\n",
       "                        <td id=\"T_c90a1e9d_19b4_11ea_becb_ef15594c373crow6_col0\" class=\"data row6 col0\" >0.00947</td>\n",
       "            </tr>\n",
       "            <tr>\n",
       "                        <th id=\"T_c90a1e9d_19b4_11ea_becb_ef15594c373clevel0_row7\" class=\"row_heading level0 row7\" >człowiek</th>\n",
       "                        <td id=\"T_c90a1e9d_19b4_11ea_becb_ef15594c373crow7_col0\" class=\"data row7 col0\" >0.00776</td>\n",
       "            </tr>\n",
       "            <tr>\n",
       "                        <th id=\"T_c90a1e9d_19b4_11ea_becb_ef15594c373clevel0_row8\" class=\"row_heading level0 row8\" >pracować</th>\n",
       "                        <td id=\"T_c90a1e9d_19b4_11ea_becb_ef15594c373crow8_col0\" class=\"data row8 col0\" >0.00711</td>\n",
       "            </tr>\n",
       "            <tr>\n",
       "                        <th id=\"T_c90a1e9d_19b4_11ea_becb_ef15594c373clevel0_row9\" class=\"row_heading level0 row9\" >robotnik</th>\n",
       "                        <td id=\"T_c90a1e9d_19b4_11ea_becb_ef15594c373crow9_col0\" class=\"data row9 col0\" >0.00696</td>\n",
       "            </tr>\n",
       "    </tbody></table>"
      ]
     },
     "metadata": {},
     "output_type": "display_data"
    },
    {
     "data": {
      "text/plain": [
       "['939b1be9-b903-47bf-98f8-85e9bd2b0e1a',\n",
       " 'f6ca8fc7-5fa6-4f5e-82c0-4d9e73e049e4',\n",
       " '872d3b41-8ebe-4c7e-9fa1-879b0ce3ea93',\n",
       " '18dbbff0-b0e5-4b75-98e0-4f25a853665e',\n",
       " '812c22df-b4b2-4f7c-b313-f75a460346af',\n",
       " 'f0167fc1-0676-4b17-b2a2-a1da999f84a0',\n",
       " '0f1ec3ba-3e8c-4b54-a8ec-dfa6f6a744e6',\n",
       " 'c2e61a50-99a2-4bd4-90e4-214f3c458f2e',\n",
       " '15e5ec9b-f374-4182-abe0-8ac840f03764',\n",
       " '9ed49307-0c45-44a1-b557-fd3a9f9fc2c9']"
      ]
     },
     "metadata": {},
     "output_type": "display_data"
    },
    {
     "data": {
      "text/html": [
       "<style  type=\"text/css\" >\n",
       "</style><table id=\"T_c90a1e9e_19b4_11ea_becb_ef15594c373c\" style='display:inline'><thead>    <tr>        <th class=\"blank level0\" ></th>        <th class=\"col_heading level0 col0\" >topic_2 @bigram</th>    </tr></thead><tbody>\n",
       "                <tr>\n",
       "                        <th id=\"T_c90a1e9e_19b4_11ea_becb_ef15594c373clevel0_row0\" class=\"row_heading level0 row0\" >Niemcy_zachodni</th>\n",
       "                        <td id=\"T_c90a1e9e_19b4_11ea_becb_ef15594c373crow0_col0\" class=\"data row0 col0\" >0.02847</td>\n",
       "            </tr>\n",
       "            <tr>\n",
       "                        <th id=\"T_c90a1e9e_19b4_11ea_becb_ef15594c373clevel0_row1\" class=\"row_heading level0 row1\" >naród_niemiecki</th>\n",
       "                        <td id=\"T_c90a1e9e_19b4_11ea_becb_ef15594c373crow1_col0\" class=\"data row1 col0\" >0.0198</td>\n",
       "            </tr>\n",
       "            <tr>\n",
       "                        <th id=\"T_c90a1e9e_19b4_11ea_becb_ef15594c373clevel0_row2\" class=\"row_heading level0 row2\" >republika_demokratyczny</th>\n",
       "                        <td id=\"T_c90a1e9e_19b4_11ea_becb_ef15594c373crow2_col0\" class=\"data row2 col0\" >0.01595</td>\n",
       "            </tr>\n",
       "            <tr>\n",
       "                        <th id=\"T_c90a1e9e_19b4_11ea_becb_ef15594c373clevel0_row3\" class=\"row_heading level0 row3\" >niemiecki_republika</th>\n",
       "                        <td id=\"T_c90a1e9e_19b4_11ea_becb_ef15594c373crow3_col0\" class=\"data row3 col0\" >0.01508</td>\n",
       "            </tr>\n",
       "            <tr>\n",
       "                        <th id=\"T_c90a1e9e_19b4_11ea_becb_ef15594c373clevel0_row4\" class=\"row_heading level0 row4\" >imperialista_amerykański</th>\n",
       "                        <td id=\"T_c90a1e9e_19b4_11ea_becb_ef15594c373crow4_col0\" class=\"data row4 col0\" >0.01139</td>\n",
       "            </tr>\n",
       "            <tr>\n",
       "                        <th id=\"T_c90a1e9e_19b4_11ea_becb_ef15594c373clevel0_row5\" class=\"row_heading level0 row5\" >wojna_światowy</th>\n",
       "                        <td id=\"T_c90a1e9e_19b4_11ea_becb_ef15594c373crow5_col0\" class=\"data row5 col0\" >0.01064</td>\n",
       "            </tr>\n",
       "            <tr>\n",
       "                        <th id=\"T_c90a1e9e_19b4_11ea_becb_ef15594c373clevel0_row6\" class=\"row_heading level0 row6\" >miłować_pokój</th>\n",
       "                        <td id=\"T_c90a1e9e_19b4_11ea_becb_ef15594c373crow6_col0\" class=\"data row6 col0\" >0.01055</td>\n",
       "            </tr>\n",
       "            <tr>\n",
       "                        <th id=\"T_c90a1e9e_19b4_11ea_becb_ef15594c373clevel0_row7\" class=\"row_heading level0 row7\" >nowy_wojna</th>\n",
       "                        <td id=\"T_c90a1e9e_19b4_11ea_becb_ef15594c373crow7_col0\" class=\"data row7 col0\" >0.01014</td>\n",
       "            </tr>\n",
       "            <tr>\n",
       "                        <th id=\"T_c90a1e9e_19b4_11ea_becb_ef15594c373clevel0_row8\" class=\"row_heading level0 row8\" >podżegacz_wojenny</th>\n",
       "                        <td id=\"T_c90a1e9e_19b4_11ea_becb_ef15594c373crow8_col0\" class=\"data row8 col0\" >0.00883</td>\n",
       "            </tr>\n",
       "            <tr>\n",
       "                        <th id=\"T_c90a1e9e_19b4_11ea_becb_ef15594c373clevel0_row9\" class=\"row_heading level0 row9\" >masa_pracować</th>\n",
       "                        <td id=\"T_c90a1e9e_19b4_11ea_becb_ef15594c373crow9_col0\" class=\"data row9 col0\" >0.00869</td>\n",
       "            </tr>\n",
       "    </tbody></table><style  type=\"text/css\" >\n",
       "</style><table id=\"T_c90a1e9f_19b4_11ea_becb_ef15594c373c\" style='display:inline'><thead>    <tr>        <th class=\"blank level0\" ></th>        <th class=\"col_heading level0 col0\" >topic_2 @lemmatized</th>    </tr></thead><tbody>\n",
       "                <tr>\n",
       "                        <th id=\"T_c90a1e9f_19b4_11ea_becb_ef15594c373clevel0_row0\" class=\"row_heading level0 row0\" >niemiecki</th>\n",
       "                        <td id=\"T_c90a1e9f_19b4_11ea_becb_ef15594c373crow0_col0\" class=\"data row0 col0\" >0.02371</td>\n",
       "            </tr>\n",
       "            <tr>\n",
       "                        <th id=\"T_c90a1e9f_19b4_11ea_becb_ef15594c373clevel0_row1\" class=\"row_heading level0 row1\" >naród</th>\n",
       "                        <td id=\"T_c90a1e9f_19b4_11ea_becb_ef15594c373crow1_col0\" class=\"data row1 col0\" >0.02278</td>\n",
       "            </tr>\n",
       "            <tr>\n",
       "                        <th id=\"T_c90a1e9f_19b4_11ea_becb_ef15594c373clevel0_row2\" class=\"row_heading level0 row2\" >Niemcy</th>\n",
       "                        <td id=\"T_c90a1e9f_19b4_11ea_becb_ef15594c373crow2_col0\" class=\"data row2 col0\" >0.01454</td>\n",
       "            </tr>\n",
       "            <tr>\n",
       "                        <th id=\"T_c90a1e9f_19b4_11ea_becb_ef15594c373clevel0_row3\" class=\"row_heading level0 row3\" >wojna</th>\n",
       "                        <td id=\"T_c90a1e9f_19b4_11ea_becb_ef15594c373crow3_col0\" class=\"data row3 col0\" >0.01324</td>\n",
       "            </tr>\n",
       "            <tr>\n",
       "                        <th id=\"T_c90a1e9f_19b4_11ea_becb_ef15594c373clevel0_row4\" class=\"row_heading level0 row4\" >amerykański</th>\n",
       "                        <td id=\"T_c90a1e9f_19b4_11ea_becb_ef15594c373crow4_col0\" class=\"data row4 col0\" >0.01314</td>\n",
       "            </tr>\n",
       "            <tr>\n",
       "                        <th id=\"T_c90a1e9f_19b4_11ea_becb_ef15594c373clevel0_row5\" class=\"row_heading level0 row5\" >pokój</th>\n",
       "                        <td id=\"T_c90a1e9f_19b4_11ea_becb_ef15594c373crow5_col0\" class=\"data row5 col0\" >0.013</td>\n",
       "            </tr>\n",
       "            <tr>\n",
       "                        <th id=\"T_c90a1e9f_19b4_11ea_becb_ef15594c373clevel0_row6\" class=\"row_heading level0 row6\" >francuski</th>\n",
       "                        <td id=\"T_c90a1e9f_19b4_11ea_becb_ef15594c373crow6_col0\" class=\"data row6 col0\" >0.01048</td>\n",
       "            </tr>\n",
       "            <tr>\n",
       "                        <th id=\"T_c90a1e9f_19b4_11ea_becb_ef15594c373clevel0_row7\" class=\"row_heading level0 row7\" >zachodni</th>\n",
       "                        <td id=\"T_c90a1e9f_19b4_11ea_becb_ef15594c373crow7_col0\" class=\"data row7 col0\" >0.00929</td>\n",
       "            </tr>\n",
       "            <tr>\n",
       "                        <th id=\"T_c90a1e9f_19b4_11ea_becb_ef15594c373clevel0_row8\" class=\"row_heading level0 row8\" >demokratyczny</th>\n",
       "                        <td id=\"T_c90a1e9f_19b4_11ea_becb_ef15594c373crow8_col0\" class=\"data row8 col0\" >0.0082</td>\n",
       "            </tr>\n",
       "            <tr>\n",
       "                        <th id=\"T_c90a1e9f_19b4_11ea_becb_ef15594c373clevel0_row9\" class=\"row_heading level0 row9\" >kraj</th>\n",
       "                        <td id=\"T_c90a1e9f_19b4_11ea_becb_ef15594c373crow9_col0\" class=\"data row9 col0\" >0.00794</td>\n",
       "            </tr>\n",
       "    </tbody></table>"
      ]
     },
     "metadata": {},
     "output_type": "display_data"
    },
    {
     "data": {
      "text/plain": [
       "['db377984-90b3-4130-8c8a-400980688a32',\n",
       " '0187c9f4-b119-4b59-9ae8-d9cbc514d698',\n",
       " 'a36d8435-44a1-4bbd-80c9-84dcd933ac72',\n",
       " 'c14a597a-3b18-4f3d-9a62-3a32e6365976',\n",
       " '23c6c42c-ef4c-4c91-bf71-f39cf24640f6',\n",
       " '91249733-1757-4fc4-8533-cbc35e623dbe',\n",
       " '95c3317c-d33a-4d35-ae94-223489720454',\n",
       " '6b5d2d81-c290-4c1f-bc3a-d8716badfc3a',\n",
       " 'da31aadf-10ea-46c7-bf0a-a0ff7a7753be',\n",
       " 'f7fe6dba-e780-416d-b970-17ef5e8171e9']"
      ]
     },
     "metadata": {},
     "output_type": "display_data"
    },
    {
     "data": {
      "text/html": [
       "<style  type=\"text/css\" >\n",
       "</style><table id=\"T_c90a1ea0_19b4_11ea_becb_ef15594c373c\" style='display:inline'><thead>    <tr>        <th class=\"blank level0\" ></th>        <th class=\"col_heading level0 col0\" >topic_3 @bigram</th>    </tr></thead><tbody>\n",
       "                <tr>\n",
       "                        <th id=\"T_c90a1ea0_19b4_11ea_becb_ef15594c373clevel0_row0\" class=\"row_heading level0 row0\" >walka_pokój</th>\n",
       "                        <td id=\"T_c90a1ea0_19b4_11ea_becb_ef15594c373crow0_col0\" class=\"data row0 col0\" >0.02492</td>\n",
       "            </tr>\n",
       "            <tr>\n",
       "                        <th id=\"T_c90a1ea0_19b4_11ea_becb_ef15594c373clevel0_row1\" class=\"row_heading level0 row1\" >obrońca_pokój</th>\n",
       "                        <td id=\"T_c90a1ea0_19b4_11ea_becb_ef15594c373crow1_col0\" class=\"data row1 col0\" >0.01919</td>\n",
       "            </tr>\n",
       "            <tr>\n",
       "                        <th id=\"T_c90a1ea0_19b4_11ea_becb_ef15594c373clevel0_row2\" class=\"row_heading level0 row2\" >obrona_pokój</th>\n",
       "                        <td id=\"T_c90a1ea0_19b4_11ea_becb_ef15594c373crow2_col0\" class=\"data row2 col0\" >0.01572</td>\n",
       "            </tr>\n",
       "            <tr>\n",
       "                        <th id=\"T_c90a1ea0_19b4_11ea_becb_ef15594c373clevel0_row3\" class=\"row_heading level0 row3\" >milion_człowiek</th>\n",
       "                        <td id=\"T_c90a1ea0_19b4_11ea_becb_ef15594c373crow3_col0\" class=\"data row3 col0\" >0.00974</td>\n",
       "            </tr>\n",
       "            <tr>\n",
       "                        <th id=\"T_c90a1ea0_19b4_11ea_becb_ef15594c373clevel0_row4\" class=\"row_heading level0 row4\" >rada_pokój</th>\n",
       "                        <td id=\"T_c90a1ea0_19b4_11ea_becb_ef15594c373crow4_col0\" class=\"data row4 col0\" >0.00929</td>\n",
       "            </tr>\n",
       "            <tr>\n",
       "                        <th id=\"T_c90a1ea0_19b4_11ea_becb_ef15594c373clevel0_row5\" class=\"row_heading level0 row5\" >wszystek_kraj</th>\n",
       "                        <td id=\"T_c90a1ea0_19b4_11ea_becb_ef15594c373crow5_col0\" class=\"data row5 col0\" >0.00908</td>\n",
       "            </tr>\n",
       "            <tr>\n",
       "                        <th id=\"T_c90a1ea0_19b4_11ea_becb_ef15594c373clevel0_row6\" class=\"row_heading level0 row6\" >światowy_rada</th>\n",
       "                        <td id=\"T_c90a1ea0_19b4_11ea_becb_ef15594c373crow6_col0\" class=\"data row6 col0\" >0.00882</td>\n",
       "            </tr>\n",
       "            <tr>\n",
       "                        <th id=\"T_c90a1ea0_19b4_11ea_becb_ef15594c373clevel0_row7\" class=\"row_heading level0 row7\" >nagroda_stalinowski</th>\n",
       "                        <td id=\"T_c90a1ea0_19b4_11ea_becb_ef15594c373crow7_col0\" class=\"data row7 col0\" >0.00848</td>\n",
       "            </tr>\n",
       "            <tr>\n",
       "                        <th id=\"T_c90a1ea0_19b4_11ea_becb_ef15594c373clevel0_row8\" class=\"row_heading level0 row8\" >setka_milion</th>\n",
       "                        <td id=\"T_c90a1ea0_19b4_11ea_becb_ef15594c373crow8_col0\" class=\"data row8 col0\" >0.00825</td>\n",
       "            </tr>\n",
       "            <tr>\n",
       "                        <th id=\"T_c90a1ea0_19b4_11ea_becb_ef15594c373clevel0_row9\" class=\"row_heading level0 row9\" >światowy_kongres</th>\n",
       "                        <td id=\"T_c90a1ea0_19b4_11ea_becb_ef15594c373crow9_col0\" class=\"data row9 col0\" >0.00811</td>\n",
       "            </tr>\n",
       "    </tbody></table><style  type=\"text/css\" >\n",
       "</style><table id=\"T_c90a1ea1_19b4_11ea_becb_ef15594c373c\" style='display:inline'><thead>    <tr>        <th class=\"blank level0\" ></th>        <th class=\"col_heading level0 col0\" >topic_3 @lemmatized</th>    </tr></thead><tbody>\n",
       "                <tr>\n",
       "                        <th id=\"T_c90a1ea1_19b4_11ea_becb_ef15594c373clevel0_row0\" class=\"row_heading level0 row0\" >pokój</th>\n",
       "                        <td id=\"T_c90a1ea1_19b4_11ea_becb_ef15594c373crow0_col0\" class=\"data row0 col0\" >0.03323</td>\n",
       "            </tr>\n",
       "            <tr>\n",
       "                        <th id=\"T_c90a1ea1_19b4_11ea_becb_ef15594c373clevel0_row1\" class=\"row_heading level0 row1\" >walka</th>\n",
       "                        <td id=\"T_c90a1ea1_19b4_11ea_becb_ef15594c373crow1_col0\" class=\"data row1 col0\" >0.01351</td>\n",
       "            </tr>\n",
       "            <tr>\n",
       "                        <th id=\"T_c90a1ea1_19b4_11ea_becb_ef15594c373clevel0_row2\" class=\"row_heading level0 row2\" >kraj</th>\n",
       "                        <td id=\"T_c90a1ea1_19b4_11ea_becb_ef15594c373crow2_col0\" class=\"data row2 col0\" >0.01008</td>\n",
       "            </tr>\n",
       "            <tr>\n",
       "                        <th id=\"T_c90a1ea1_19b4_11ea_becb_ef15594c373clevel0_row3\" class=\"row_heading level0 row3\" >człowiek</th>\n",
       "                        <td id=\"T_c90a1ea1_19b4_11ea_becb_ef15594c373crow3_col0\" class=\"data row3 col0\" >0.00997</td>\n",
       "            </tr>\n",
       "            <tr>\n",
       "                        <th id=\"T_c90a1ea1_19b4_11ea_becb_ef15594c373clevel0_row4\" class=\"row_heading level0 row4\" >młodzież</th>\n",
       "                        <td id=\"T_c90a1ea1_19b4_11ea_becb_ef15594c373crow4_col0\" class=\"data row4 col0\" >0.00889</td>\n",
       "            </tr>\n",
       "            <tr>\n",
       "                        <th id=\"T_c90a1ea1_19b4_11ea_becb_ef15594c373clevel0_row5\" class=\"row_heading level0 row5\" >wszystek</th>\n",
       "                        <td id=\"T_c90a1ea1_19b4_11ea_becb_ef15594c373crow5_col0\" class=\"data row5 col0\" >0.0082</td>\n",
       "            </tr>\n",
       "            <tr>\n",
       "                        <th id=\"T_c90a1ea1_19b4_11ea_becb_ef15594c373clevel0_row6\" class=\"row_heading level0 row6\" >światowy</th>\n",
       "                        <td id=\"T_c90a1ea1_19b4_11ea_becb_ef15594c373crow6_col0\" class=\"data row6 col0\" >0.00776</td>\n",
       "            </tr>\n",
       "            <tr>\n",
       "                        <th id=\"T_c90a1ea1_19b4_11ea_becb_ef15594c373clevel0_row7\" class=\"row_heading level0 row7\" >kongres</th>\n",
       "                        <td id=\"T_c90a1ea1_19b4_11ea_becb_ef15594c373crow7_col0\" class=\"data row7 col0\" >0.00691</td>\n",
       "            </tr>\n",
       "            <tr>\n",
       "                        <th id=\"T_c90a1ea1_19b4_11ea_becb_ef15594c373clevel0_row8\" class=\"row_heading level0 row8\" >dziecko</th>\n",
       "                        <td id=\"T_c90a1ea1_19b4_11ea_becb_ef15594c373crow8_col0\" class=\"data row8 col0\" >0.00626</td>\n",
       "            </tr>\n",
       "            <tr>\n",
       "                        <th id=\"T_c90a1ea1_19b4_11ea_becb_ef15594c373clevel0_row9\" class=\"row_heading level0 row9\" >Ruch</th>\n",
       "                        <td id=\"T_c90a1ea1_19b4_11ea_becb_ef15594c373crow9_col0\" class=\"data row9 col0\" >0.00612</td>\n",
       "            </tr>\n",
       "    </tbody></table>"
      ]
     },
     "metadata": {},
     "output_type": "display_data"
    },
    {
     "data": {
      "text/plain": [
       "['00a2b90d-fde7-413b-8957-e2ceb1b7f287',\n",
       " '28974d56-c388-4b9e-bd0e-4bf026fc23af',\n",
       " '548fb2b8-561c-48d9-b007-71e37e08ae93',\n",
       " 'c890994d-8079-47de-b408-6547ec61b7fe',\n",
       " '1db7dfda-64a5-4081-80b1-c5c1e3317e38',\n",
       " 'e7b77b09-bb8f-424a-a118-25f91a0ed51f',\n",
       " '53f5979b-e64c-4ed8-be48-9979383f704f',\n",
       " 'bffa13d8-7d65-41fc-b05a-904b5cc13cd4',\n",
       " '76c4938a-022c-4500-8341-bde775f89fab',\n",
       " '97b102e1-edaa-4f76-ad8c-e86414e6570a']"
      ]
     },
     "metadata": {},
     "output_type": "display_data"
    },
    {
     "data": {
      "text/html": [
       "<style  type=\"text/css\" >\n",
       "</style><table id=\"T_c90a1ea2_19b4_11ea_becb_ef15594c373c\" style='display:inline'><thead>    <tr>        <th class=\"blank level0\" ></th>        <th class=\"col_heading level0 col0\" >topic_4 @bigram</th>    </tr></thead><tbody>\n",
       "                <tr>\n",
       "                        <th id=\"T_c90a1ea2_19b4_11ea_becb_ef15594c373clevel0_row0\" class=\"row_heading level0 row0\" >przodownik_praca</th>\n",
       "                        <td id=\"T_c90a1ea2_19b4_11ea_becb_ef15594c373crow0_col0\" class=\"data row0 col0\" >0.02259</td>\n",
       "            </tr>\n",
       "            <tr>\n",
       "                        <th id=\"T_c90a1ea2_19b4_11ea_becb_ef15594c373clevel0_row1\" class=\"row_heading level0 row1\" >nowy_huta</th>\n",
       "                        <td id=\"T_c90a1ea2_19b4_11ea_becb_ef15594c373crow1_col0\" class=\"data row1 col0\" >0.01953</td>\n",
       "            </tr>\n",
       "            <tr>\n",
       "                        <th id=\"T_c90a1ea2_19b4_11ea_becb_ef15594c373clevel0_row2\" class=\"row_heading level0 row2\" >M_inaczej</th>\n",
       "                        <td id=\"T_c90a1ea2_19b4_11ea_becb_ef15594c373crow2_col0\" class=\"data row2 col0\" >0.01074</td>\n",
       "            </tr>\n",
       "            <tr>\n",
       "                        <th id=\"T_c90a1ea2_19b4_11ea_becb_ef15594c373clevel0_row3\" class=\"row_heading level0 row3\" >proca_norma</th>\n",
       "                        <td id=\"T_c90a1ea2_19b4_11ea_becb_ef15594c373crow3_col0\" class=\"data row3 col0\" >0.00984</td>\n",
       "            </tr>\n",
       "            <tr>\n",
       "                        <th id=\"T_c90a1ea2_19b4_11ea_becb_ef15594c373clevel0_row4\" class=\"row_heading level0 row4\" >wykonać_plan</th>\n",
       "                        <td id=\"T_c90a1ea2_19b4_11ea_becb_ef15594c373crow4_col0\" class=\"data row4 col0\" >0.00911</td>\n",
       "            </tr>\n",
       "            <tr>\n",
       "                        <th id=\"T_c90a1ea2_19b4_11ea_becb_ef15594c373clevel0_row5\" class=\"row_heading level0 row5\" >wielki_piec</th>\n",
       "                        <td id=\"T_c90a1ea2_19b4_11ea_becb_ef15594c373crow5_col0\" class=\"data row5 col0\" >0.00713</td>\n",
       "            </tr>\n",
       "            <tr>\n",
       "                        <th id=\"T_c90a1ea2_19b4_11ea_becb_ef15594c373clevel0_row6\" class=\"row_heading level0 row6\" >zakład_praca</th>\n",
       "                        <td id=\"T_c90a1ea2_19b4_11ea_becb_ef15594c373crow6_col0\" class=\"data row6 col0\" >0.00709</td>\n",
       "            </tr>\n",
       "            <tr>\n",
       "                        <th id=\"T_c90a1ea2_19b4_11ea_becb_ef15594c373clevel0_row7\" class=\"row_heading level0 row7\" >wydajność_praca</th>\n",
       "                        <td id=\"T_c90a1ea2_19b4_11ea_becb_ef15594c373crow7_col0\" class=\"data row7 col0\" >0.00659</td>\n",
       "            </tr>\n",
       "            <tr>\n",
       "                        <th id=\"T_c90a1ea2_19b4_11ea_becb_ef15594c373clevel0_row8\" class=\"row_heading level0 row8\" >zakład_przemysł</th>\n",
       "                        <td id=\"T_c90a1ea2_19b4_11ea_becb_ef15594c373crow8_col0\" class=\"data row8 col0\" >0.00647</td>\n",
       "            </tr>\n",
       "            <tr>\n",
       "                        <th id=\"T_c90a1ea2_19b4_11ea_becb_ef15594c373clevel0_row9\" class=\"row_heading level0 row9\" >plan_letni</th>\n",
       "                        <td id=\"T_c90a1ea2_19b4_11ea_becb_ef15594c373crow9_col0\" class=\"data row9 col0\" >0.00636</td>\n",
       "            </tr>\n",
       "    </tbody></table><style  type=\"text/css\" >\n",
       "</style><table id=\"T_c90a1ea3_19b4_11ea_becb_ef15594c373c\" style='display:inline'><thead>    <tr>        <th class=\"blank level0\" ></th>        <th class=\"col_heading level0 col0\" >topic_4 @lemmatized</th>    </tr></thead><tbody>\n",
       "                <tr>\n",
       "                        <th id=\"T_c90a1ea3_19b4_11ea_becb_ef15594c373clevel0_row0\" class=\"row_heading level0 row0\" >praca</th>\n",
       "                        <td id=\"T_c90a1ea3_19b4_11ea_becb_ef15594c373crow0_col0\" class=\"data row0 col0\" >0.021</td>\n",
       "            </tr>\n",
       "            <tr>\n",
       "                        <th id=\"T_c90a1ea3_19b4_11ea_becb_ef15594c373clevel0_row1\" class=\"row_heading level0 row1\" >robotnik</th>\n",
       "                        <td id=\"T_c90a1ea3_19b4_11ea_becb_ef15594c373crow1_col0\" class=\"data row1 col0\" >0.01216</td>\n",
       "            </tr>\n",
       "            <tr>\n",
       "                        <th id=\"T_c90a1ea3_19b4_11ea_becb_ef15594c373clevel0_row2\" class=\"row_heading level0 row2\" >załoga</th>\n",
       "                        <td id=\"T_c90a1ea3_19b4_11ea_becb_ef15594c373crow2_col0\" class=\"data row2 col0\" >0.01205</td>\n",
       "            </tr>\n",
       "            <tr>\n",
       "                        <th id=\"T_c90a1ea3_19b4_11ea_becb_ef15594c373clevel0_row3\" class=\"row_heading level0 row3\" >zakład</th>\n",
       "                        <td id=\"T_c90a1ea3_19b4_11ea_becb_ef15594c373crow3_col0\" class=\"data row3 col0\" >0.01145</td>\n",
       "            </tr>\n",
       "            <tr>\n",
       "                        <th id=\"T_c90a1ea3_19b4_11ea_becb_ef15594c373clevel0_row4\" class=\"row_heading level0 row4\" >dzień</th>\n",
       "                        <td id=\"T_c90a1ea3_19b4_11ea_becb_ef15594c373crow4_col0\" class=\"data row4 col0\" >0.01089</td>\n",
       "            </tr>\n",
       "            <tr>\n",
       "                        <th id=\"T_c90a1ea3_19b4_11ea_becb_ef15594c373clevel0_row5\" class=\"row_heading level0 row5\" >nowy</th>\n",
       "                        <td id=\"T_c90a1ea3_19b4_11ea_becb_ef15594c373crow5_col0\" class=\"data row5 col0\" >0.01086</td>\n",
       "            </tr>\n",
       "            <tr>\n",
       "                        <th id=\"T_c90a1ea3_19b4_11ea_becb_ef15594c373clevel0_row6\" class=\"row_heading level0 row6\" >wykonać</th>\n",
       "                        <td id=\"T_c90a1ea3_19b4_11ea_becb_ef15594c373crow6_col0\" class=\"data row6 col0\" >0.00886</td>\n",
       "            </tr>\n",
       "            <tr>\n",
       "                        <th id=\"T_c90a1ea3_19b4_11ea_becb_ef15594c373clevel0_row7\" class=\"row_heading level0 row7\" >fabryka</th>\n",
       "                        <td id=\"T_c90a1ea3_19b4_11ea_becb_ef15594c373crow7_col0\" class=\"data row7 col0\" >0.00874</td>\n",
       "            </tr>\n",
       "            <tr>\n",
       "                        <th id=\"T_c90a1ea3_19b4_11ea_becb_ef15594c373clevel0_row8\" class=\"row_heading level0 row8\" >plan</th>\n",
       "                        <td id=\"T_c90a1ea3_19b4_11ea_becb_ef15594c373crow8_col0\" class=\"data row8 col0\" >0.00871</td>\n",
       "            </tr>\n",
       "            <tr>\n",
       "                        <th id=\"T_c90a1ea3_19b4_11ea_becb_ef15594c373clevel0_row9\" class=\"row_heading level0 row9\" >zobowiązanie</th>\n",
       "                        <td id=\"T_c90a1ea3_19b4_11ea_becb_ef15594c373crow9_col0\" class=\"data row9 col0\" >0.00857</td>\n",
       "            </tr>\n",
       "    </tbody></table>"
      ]
     },
     "metadata": {},
     "output_type": "display_data"
    },
    {
     "data": {
      "text/plain": [
       "['2e14b709-1c86-4a41-875d-186aacbce0fe',\n",
       " '42e16674-6391-426a-bf9f-1968f2f4782d',\n",
       " '32444e73-34e4-4e48-8dfa-aeba2dd7b684',\n",
       " '5c595858-c362-4270-8141-67c67af68c5c',\n",
       " 'a51489d1-fe54-4238-bf7f-dc1fd7c38bda',\n",
       " 'fe3902ab-5767-486e-bd1e-c3a64441b538',\n",
       " 'c0666c07-cf9e-4155-9d62-dfb5ab501856',\n",
       " '17a9d6c8-ddb3-436a-9a0d-b573b5f8d48c',\n",
       " '278a9cdd-a00d-4a71-8d43-3e385901ac3d',\n",
       " '8da3a5da-69b1-4d1e-b196-c3bdaa61de15']"
      ]
     },
     "metadata": {},
     "output_type": "display_data"
    },
    {
     "data": {
      "text/html": [
       "<style  type=\"text/css\" >\n",
       "</style><table id=\"T_c90a1ea4_19b4_11ea_becb_ef15594c373c\" style='display:inline'><thead>    <tr>        <th class=\"blank level0\" ></th>        <th class=\"col_heading level0 col0\" >topic_5 @bigram</th>    </tr></thead><tbody>\n",
       "                <tr>\n",
       "                        <th id=\"T_c90a1ea4_19b4_11ea_becb_ef15594c373clevel0_row0\" class=\"row_heading level0 row0\" >zespół_artystyczny</th>\n",
       "                        <td id=\"T_c90a1ea4_19b4_11ea_becb_ef15594c373crow0_col0\" class=\"data row0 col0\" >0.01808</td>\n",
       "            </tr>\n",
       "            <tr>\n",
       "                        <th id=\"T_c90a1ea4_19b4_11ea_becb_ef15594c373clevel0_row1\" class=\"row_heading level0 row1\" >obóz_letni</th>\n",
       "                        <td id=\"T_c90a1ea4_19b4_11ea_becb_ef15594c373crow1_col0\" class=\"data row1 col0\" >0.01257</td>\n",
       "            </tr>\n",
       "            <tr>\n",
       "                        <th id=\"T_c90a1ea4_19b4_11ea_becb_ef15594c373clevel0_row2\" class=\"row_heading level0 row2\" >oficer_podoficer</th>\n",
       "                        <td id=\"T_c90a1ea4_19b4_11ea_becb_ef15594c373crow2_col0\" class=\"data row2 col0\" >0.01158</td>\n",
       "            </tr>\n",
       "            <tr>\n",
       "                        <th id=\"T_c90a1ea4_19b4_11ea_becb_ef15594c373clevel0_row3\" class=\"row_heading level0 row3\" >wóz_bojowy</th>\n",
       "                        <td id=\"T_c90a1ea4_19b4_11ea_becb_ef15594c373crow3_col0\" class=\"data row3 col0\" >0.00832</td>\n",
       "            </tr>\n",
       "            <tr>\n",
       "                        <th id=\"T_c90a1ea4_19b4_11ea_becb_ef15594c373clevel0_row4\" class=\"row_heading level0 row4\" >zajęcia_taktyczny</th>\n",
       "                        <td id=\"T_c90a1ea4_19b4_11ea_becb_ef15594c373crow4_col0\" class=\"data row4 col0\" >0.00827</td>\n",
       "            </tr>\n",
       "            <tr>\n",
       "                        <th id=\"T_c90a1ea4_19b4_11ea_becb_ef15594c373clevel0_row5\" class=\"row_heading level0 row5\" >sprzęt_bojowy</th>\n",
       "                        <td id=\"T_c90a1ea4_19b4_11ea_becb_ef15594c373crow5_col0\" class=\"data row5 col0\" >0.0074</td>\n",
       "            </tr>\n",
       "            <tr>\n",
       "                        <th id=\"T_c90a1ea4_19b4_11ea_becb_ef15594c373clevel0_row6\" class=\"row_heading level0 row6\" >pole_walka</th>\n",
       "                        <td id=\"T_c90a1ea4_19b4_11ea_becb_ef15594c373crow6_col0\" class=\"data row6 col0\" >0.00733</td>\n",
       "            </tr>\n",
       "            <tr>\n",
       "                        <th id=\"T_c90a1ea4_19b4_11ea_becb_ef15594c373clevel0_row7\" class=\"row_heading level0 row7\" >przyjaźń_Polska</th>\n",
       "                        <td id=\"T_c90a1ea4_19b4_11ea_becb_ef15594c373crow7_col0\" class=\"data row7 col0\" >0.00722</td>\n",
       "            </tr>\n",
       "            <tr>\n",
       "                        <th id=\"T_c90a1ea4_19b4_11ea_becb_ef15594c373clevel0_row8\" class=\"row_heading level0 row8\" >Polska_radziecki</th>\n",
       "                        <td id=\"T_c90a1ea4_19b4_11ea_becb_ef15594c373crow8_col0\" class=\"data row8 col0\" >0.00683</td>\n",
       "            </tr>\n",
       "            <tr>\n",
       "                        <th id=\"T_c90a1ea4_19b4_11ea_becb_ef15594c373clevel0_row9\" class=\"row_heading level0 row9\" >wysoki_poziom</th>\n",
       "                        <td id=\"T_c90a1ea4_19b4_11ea_becb_ef15594c373crow9_col0\" class=\"data row9 col0\" >0.00636</td>\n",
       "            </tr>\n",
       "    </tbody></table><style  type=\"text/css\" >\n",
       "</style><table id=\"T_c90a1ea5_19b4_11ea_becb_ef15594c373c\" style='display:inline'><thead>    <tr>        <th class=\"blank level0\" ></th>        <th class=\"col_heading level0 col0\" >topic_5 @lemmatized</th>    </tr></thead><tbody>\n",
       "                <tr>\n",
       "                        <th id=\"T_c90a1ea5_19b4_11ea_becb_ef15594c373clevel0_row0\" class=\"row_heading level0 row0\" >zespół</th>\n",
       "                        <td id=\"T_c90a1ea5_19b4_11ea_becb_ef15594c373crow0_col0\" class=\"data row0 col0\" >0.01075</td>\n",
       "            </tr>\n",
       "            <tr>\n",
       "                        <th id=\"T_c90a1ea5_19b4_11ea_becb_ef15594c373clevel0_row1\" class=\"row_heading level0 row1\" >czołg</th>\n",
       "                        <td id=\"T_c90a1ea5_19b4_11ea_becb_ef15594c373crow1_col0\" class=\"data row1 col0\" >0.00846</td>\n",
       "            </tr>\n",
       "            <tr>\n",
       "                        <th id=\"T_c90a1ea5_19b4_11ea_becb_ef15594c373clevel0_row2\" class=\"row_heading level0 row2\" >teren</th>\n",
       "                        <td id=\"T_c90a1ea5_19b4_11ea_becb_ef15594c373crow2_col0\" class=\"data row2 col0\" >0.00716</td>\n",
       "            </tr>\n",
       "            <tr>\n",
       "                        <th id=\"T_c90a1ea5_19b4_11ea_becb_ef15594c373clevel0_row3\" class=\"row_heading level0 row3\" >duży</th>\n",
       "                        <td id=\"T_c90a1ea5_19b4_11ea_becb_ef15594c373crow3_col0\" class=\"data row3 col0\" >0.00622</td>\n",
       "            </tr>\n",
       "            <tr>\n",
       "                        <th id=\"T_c90a1ea5_19b4_11ea_becb_ef15594c373clevel0_row4\" class=\"row_heading level0 row4\" >obóz</th>\n",
       "                        <td id=\"T_c90a1ea5_19b4_11ea_becb_ef15594c373crow4_col0\" class=\"data row4 col0\" >0.00618</td>\n",
       "            </tr>\n",
       "            <tr>\n",
       "                        <th id=\"T_c90a1ea5_19b4_11ea_becb_ef15594c373clevel0_row5\" class=\"row_heading level0 row5\" >artystyczny</th>\n",
       "                        <td id=\"T_c90a1ea5_19b4_11ea_becb_ef15594c373crow5_col0\" class=\"data row5 col0\" >0.00611</td>\n",
       "            </tr>\n",
       "            <tr>\n",
       "                        <th id=\"T_c90a1ea5_19b4_11ea_becb_ef15594c373clevel0_row6\" class=\"row_heading level0 row6\" >ćwiczenia</th>\n",
       "                        <td id=\"T_c90a1ea5_19b4_11ea_becb_ef15594c373crow6_col0\" class=\"data row6 col0\" >0.00611</td>\n",
       "            </tr>\n",
       "            <tr>\n",
       "                        <th id=\"T_c90a1ea5_19b4_11ea_becb_ef15594c373clevel0_row7\" class=\"row_heading level0 row7\" >zadanie</th>\n",
       "                        <td id=\"T_c90a1ea5_19b4_11ea_becb_ef15594c373crow7_col0\" class=\"data row7 col0\" >0.00586</td>\n",
       "            </tr>\n",
       "            <tr>\n",
       "                        <th id=\"T_c90a1ea5_19b4_11ea_becb_ef15594c373clevel0_row8\" class=\"row_heading level0 row8\" >należeć</th>\n",
       "                        <td id=\"T_c90a1ea5_19b4_11ea_becb_ef15594c373crow8_col0\" class=\"data row8 col0\" >0.00554</td>\n",
       "            </tr>\n",
       "            <tr>\n",
       "                        <th id=\"T_c90a1ea5_19b4_11ea_becb_ef15594c373clevel0_row9\" class=\"row_heading level0 row9\" >oficer</th>\n",
       "                        <td id=\"T_c90a1ea5_19b4_11ea_becb_ef15594c373crow9_col0\" class=\"data row9 col0\" >0.0054</td>\n",
       "            </tr>\n",
       "    </tbody></table>"
      ]
     },
     "metadata": {},
     "output_type": "display_data"
    },
    {
     "data": {
      "text/plain": [
       "['a42a1fce-bb10-40af-bc2e-b6d0af9fb466',\n",
       " 'a1ea6ca8-f6e5-42a9-8f7e-2f3e0c854546',\n",
       " 'af12566d-773a-4f96-ae71-ee23762792d5',\n",
       " '2accfe5b-6836-4f0f-b639-cd23631a9368',\n",
       " '49fcecd2-0c46-4481-a8c8-e549d0c2fef1',\n",
       " 'a2b3c7a1-36db-4fb8-8cb7-109dd3e04ce1',\n",
       " '37f92167-d554-4bc3-92dc-902c4ec79215',\n",
       " 'f9a9b0bf-0640-426c-a3e9-5968d5bdc5ea',\n",
       " 'd798e1e1-5a1f-46e6-abeb-774d08ccb1e0',\n",
       " '7f4a25ab-653c-4c0e-b740-3125538da0a1']"
      ]
     },
     "metadata": {},
     "output_type": "display_data"
    },
    {
     "data": {
      "text/html": [
       "<style  type=\"text/css\" >\n",
       "</style><table id=\"T_c90a1ea6_19b4_11ea_becb_ef15594c373c\" style='display:inline'><thead>    <tr>        <th class=\"blank level0\" ></th>        <th class=\"col_heading level0 col0\" >topic_6 @bigram</th>    </tr></thead><tbody>\n",
       "                <tr>\n",
       "                        <th id=\"T_c90a1ea6_19b4_11ea_becb_ef15594c373clevel0_row0\" class=\"row_heading level0 row0\" >związek_radziecki</th>\n",
       "                        <td id=\"T_c90a1ea6_19b4_11ea_becb_ef15594c373crow0_col0\" class=\"data row0 col0\" >0.05497</td>\n",
       "            </tr>\n",
       "            <tr>\n",
       "                        <th id=\"T_c90a1ea6_19b4_11ea_becb_ef15594c373clevel0_row1\" class=\"row_heading level0 row1\" >armia_radziecki</th>\n",
       "                        <td id=\"T_c90a1ea6_19b4_11ea_becb_ef15594c373crow1_col0\" class=\"data row1 col0\" >0.02499</td>\n",
       "            </tr>\n",
       "            <tr>\n",
       "                        <th id=\"T_c90a1ea6_19b4_11ea_becb_ef15594c373clevel0_row2\" class=\"row_heading level0 row2\" >naród_polski</th>\n",
       "                        <td id=\"T_c90a1ea6_19b4_11ea_becb_ef15594c373crow2_col0\" class=\"data row2 col0\" >0.02074</td>\n",
       "            </tr>\n",
       "            <tr>\n",
       "                        <th id=\"T_c90a1ea6_19b4_11ea_becb_ef15594c373clevel0_row3\" class=\"row_heading level0 row3\" >naród_radziecki</th>\n",
       "                        <td id=\"T_c90a1ea6_19b4_11ea_becb_ef15594c373crow3_col0\" class=\"data row3 col0\" >0.01503</td>\n",
       "            </tr>\n",
       "            <tr>\n",
       "                        <th id=\"T_c90a1ea6_19b4_11ea_becb_ef15594c373clevel0_row4\" class=\"row_heading level0 row4\" >towarzysz_Stalin</th>\n",
       "                        <td id=\"T_c90a1ea6_19b4_11ea_becb_ef15594c373crow4_col0\" class=\"data row4 col0\" >0.0119</td>\n",
       "            </tr>\n",
       "            <tr>\n",
       "                        <th id=\"T_c90a1ea6_19b4_11ea_becb_ef15594c373clevel0_row5\" class=\"row_heading level0 row5\" >Partia_komunistyczny</th>\n",
       "                        <td id=\"T_c90a1ea6_19b4_11ea_becb_ef15594c373crow5_col0\" class=\"data row5 col0\" >0.00943</td>\n",
       "            </tr>\n",
       "            <tr>\n",
       "                        <th id=\"T_c90a1ea6_19b4_11ea_becb_ef15594c373clevel0_row6\" class=\"row_heading level0 row6\" >klasa_robotniczy</th>\n",
       "                        <td id=\"T_c90a1ea6_19b4_11ea_becb_ef15594c373crow6_col0\" class=\"data row6 col0\" >0.00932</td>\n",
       "            </tr>\n",
       "            <tr>\n",
       "                        <th id=\"T_c90a1ea6_19b4_11ea_becb_ef15594c373clevel0_row7\" class=\"row_heading level0 row7\" >komunistyczny_Partia</th>\n",
       "                        <td id=\"T_c90a1ea6_19b4_11ea_becb_ef15594c373crow7_col0\" class=\"data row7 col0\" >0.00887</td>\n",
       "            </tr>\n",
       "            <tr>\n",
       "                        <th id=\"T_c90a1ea6_19b4_11ea_becb_ef15594c373clevel0_row8\" class=\"row_heading level0 row8\" >Lenin_Stalin</th>\n",
       "                        <td id=\"T_c90a1ea6_19b4_11ea_becb_ef15594c373crow8_col0\" class=\"data row8 col0\" >0.00771</td>\n",
       "            </tr>\n",
       "            <tr>\n",
       "                        <th id=\"T_c90a1ea6_19b4_11ea_becb_ef15594c373clevel0_row9\" class=\"row_heading level0 row9\" >człowiek_radziecki</th>\n",
       "                        <td id=\"T_c90a1ea6_19b4_11ea_becb_ef15594c373crow9_col0\" class=\"data row9 col0\" >0.00765</td>\n",
       "            </tr>\n",
       "    </tbody></table><style  type=\"text/css\" >\n",
       "</style><table id=\"T_c90a1ea7_19b4_11ea_becb_ef15594c373c\" style='display:inline'><thead>    <tr>        <th class=\"blank level0\" ></th>        <th class=\"col_heading level0 col0\" >topic_6 @lemmatized</th>    </tr></thead><tbody>\n",
       "                <tr>\n",
       "                        <th id=\"T_c90a1ea7_19b4_11ea_becb_ef15594c373clevel0_row0\" class=\"row_heading level0 row0\" >radziecki</th>\n",
       "                        <td id=\"T_c90a1ea7_19b4_11ea_becb_ef15594c373crow0_col0\" class=\"data row0 col0\" >0.03848</td>\n",
       "            </tr>\n",
       "            <tr>\n",
       "                        <th id=\"T_c90a1ea7_19b4_11ea_becb_ef15594c373clevel0_row1\" class=\"row_heading level0 row1\" >naród</th>\n",
       "                        <td id=\"T_c90a1ea7_19b4_11ea_becb_ef15594c373crow1_col0\" class=\"data row1 col0\" >0.01646</td>\n",
       "            </tr>\n",
       "            <tr>\n",
       "                        <th id=\"T_c90a1ea7_19b4_11ea_becb_ef15594c373clevel0_row2\" class=\"row_heading level0 row2\" >armia</th>\n",
       "                        <td id=\"T_c90a1ea7_19b4_11ea_becb_ef15594c373crow2_col0\" class=\"data row2 col0\" >0.01375</td>\n",
       "            </tr>\n",
       "            <tr>\n",
       "                        <th id=\"T_c90a1ea7_19b4_11ea_becb_ef15594c373clevel0_row3\" class=\"row_heading level0 row3\" >walka</th>\n",
       "                        <td id=\"T_c90a1ea7_19b4_11ea_becb_ef15594c373crow3_col0\" class=\"data row3 col0\" >0.01372</td>\n",
       "            </tr>\n",
       "            <tr>\n",
       "                        <th id=\"T_c90a1ea7_19b4_11ea_becb_ef15594c373clevel0_row4\" class=\"row_heading level0 row4\" >wielki</th>\n",
       "                        <td id=\"T_c90a1ea7_19b4_11ea_becb_ef15594c373crow4_col0\" class=\"data row4 col0\" >0.01195</td>\n",
       "            </tr>\n",
       "            <tr>\n",
       "                        <th id=\"T_c90a1ea7_19b4_11ea_becb_ef15594c373clevel0_row5\" class=\"row_heading level0 row5\" >Partia</th>\n",
       "                        <td id=\"T_c90a1ea7_19b4_11ea_becb_ef15594c373crow5_col0\" class=\"data row5 col0\" >0.01116</td>\n",
       "            </tr>\n",
       "            <tr>\n",
       "                        <th id=\"T_c90a1ea7_19b4_11ea_becb_ef15594c373clevel0_row6\" class=\"row_heading level0 row6\" >związek</th>\n",
       "                        <td id=\"T_c90a1ea7_19b4_11ea_becb_ef15594c373crow6_col0\" class=\"data row6 col0\" >0.01052</td>\n",
       "            </tr>\n",
       "            <tr>\n",
       "                        <th id=\"T_c90a1ea7_19b4_11ea_becb_ef15594c373clevel0_row7\" class=\"row_heading level0 row7\" >Stalin</th>\n",
       "                        <td id=\"T_c90a1ea7_19b4_11ea_becb_ef15594c373crow7_col0\" class=\"data row7 col0\" >0.01026</td>\n",
       "            </tr>\n",
       "            <tr>\n",
       "                        <th id=\"T_c90a1ea7_19b4_11ea_becb_ef15594c373clevel0_row8\" class=\"row_heading level0 row8\" >wojna</th>\n",
       "                        <td id=\"T_c90a1ea7_19b4_11ea_becb_ef15594c373crow8_col0\" class=\"data row8 col0\" >0.00878</td>\n",
       "            </tr>\n",
       "            <tr>\n",
       "                        <th id=\"T_c90a1ea7_19b4_11ea_becb_ef15594c373clevel0_row9\" class=\"row_heading level0 row9\" >hitlerowski</th>\n",
       "                        <td id=\"T_c90a1ea7_19b4_11ea_becb_ef15594c373crow9_col0\" class=\"data row9 col0\" >0.00804</td>\n",
       "            </tr>\n",
       "    </tbody></table>"
      ]
     },
     "metadata": {},
     "output_type": "display_data"
    },
    {
     "data": {
      "text/plain": [
       "['2a653a5a-da72-4bb9-b852-9b3c54b5af4d',\n",
       " '25ac62c0-03ff-481c-a292-94e5d60ad2d0',\n",
       " 'b6145d25-661c-4a0b-b81d-4ede2d2e1edf',\n",
       " 'b4052a34-86a2-4fb6-954f-11644952fc00',\n",
       " '117afb37-9172-4703-8861-0391636133cf',\n",
       " 'b8ffd08c-2c88-47a9-9db7-266895c9cc88',\n",
       " 'cc4bd2b2-7a55-4096-9883-b51caaf33ba1',\n",
       " 'ac487620-8b73-4d4f-b1e3-6cdaeb282057',\n",
       " 'bff60e70-d2f8-478f-9e4f-504075a473e4',\n",
       " 'f2d9e28e-7e04-4be8-84ae-f87859e3d89d']"
      ]
     },
     "metadata": {},
     "output_type": "display_data"
    }
   ],
   "source": [
    "\n",
    "n=7\n",
    "for line, topic_docs in list(zip(last_model_html, last_model_top_doc))[:n]:\n",
    "    display_html(line, raw=True)\n",
    "    display(topic_docs)"
   ]
  },
  {
   "cell_type": "code",
   "execution_count": 38,
   "metadata": {},
   "outputs": [
    {
     "data": {
      "text/html": [
       "<style  type=\"text/css\" >\n",
       "</style><table id=\"T_c90a1eb8_19b4_11ea_becb_ef15594c373c\" style='display:inline'><thead>    <tr>        <th class=\"blank level0\" ></th>        <th class=\"col_heading level0 col0\" >background_15 @bigram</th>    </tr></thead><tbody>\n",
       "                <tr>\n",
       "                        <th id=\"T_c90a1eb8_19b4_11ea_becb_ef15594c373clevel0_row0\" class=\"row_heading level0 row0\" >metr_sześcienny</th>\n",
       "                        <td id=\"T_c90a1eb8_19b4_11ea_becb_ef15594c373crow0_col0\" class=\"data row0 col0\" >0.00122</td>\n",
       "            </tr>\n",
       "            <tr>\n",
       "                        <th id=\"T_c90a1eb8_19b4_11ea_becb_ef15594c373clevel0_row1\" class=\"row_heading level0 row1\" >lewy_brzeg</th>\n",
       "                        <td id=\"T_c90a1eb8_19b4_11ea_becb_ef15594c373crow1_col0\" class=\"data row1 col0\" >0.00074</td>\n",
       "            </tr>\n",
       "            <tr>\n",
       "                        <th id=\"T_c90a1eb8_19b4_11ea_becb_ef15594c373clevel0_row2\" class=\"row_heading level0 row2\" >dom_dziecko</th>\n",
       "                        <td id=\"T_c90a1eb8_19b4_11ea_becb_ef15594c373crow2_col0\" class=\"data row2 col0\" >0.00066</td>\n",
       "            </tr>\n",
       "            <tr>\n",
       "                        <th id=\"T_c90a1eb8_19b4_11ea_becb_ef15594c373clevel0_row3\" class=\"row_heading level0 row3\" >zadawać_siebie</th>\n",
       "                        <td id=\"T_c90a1eb8_19b4_11ea_becb_ef15594c373crow3_col0\" class=\"data row3 col0\" >0.00064</td>\n",
       "            </tr>\n",
       "            <tr>\n",
       "                        <th id=\"T_c90a1eb8_19b4_11ea_becb_ef15594c373clevel0_row4\" class=\"row_heading level0 row4\" >człowiek_pracować</th>\n",
       "                        <td id=\"T_c90a1eb8_19b4_11ea_becb_ef15594c373crow4_col0\" class=\"data row4 col0\" >0.00062</td>\n",
       "            </tr>\n",
       "            <tr>\n",
       "                        <th id=\"T_c90a1eb8_19b4_11ea_becb_ef15594c373clevel0_row5\" class=\"row_heading level0 row5\" >kilkanaście_minuta</th>\n",
       "                        <td id=\"T_c90a1eb8_19b4_11ea_becb_ef15594c373crow5_col0\" class=\"data row5 col0\" >0.0006</td>\n",
       "            </tr>\n",
       "            <tr>\n",
       "                        <th id=\"T_c90a1eb8_19b4_11ea_becb_ef15594c373clevel0_row6\" class=\"row_heading level0 row6\" >wszystek_strona</th>\n",
       "                        <td id=\"T_c90a1eb8_19b4_11ea_becb_ef15594c373crow6_col0\" class=\"data row6 col0\" >0.00059</td>\n",
       "            </tr>\n",
       "            <tr>\n",
       "                        <th id=\"T_c90a1eb8_19b4_11ea_becb_ef15594c373clevel0_row7\" class=\"row_heading level0 row7\" >podejść_blisko</th>\n",
       "                        <td id=\"T_c90a1eb8_19b4_11ea_becb_ef15594c373crow7_col0\" class=\"data row7 col0\" >0.00059</td>\n",
       "            </tr>\n",
       "            <tr>\n",
       "                        <th id=\"T_c90a1eb8_19b4_11ea_becb_ef15594c373clevel0_row8\" class=\"row_heading level0 row8\" >godzina_rano</th>\n",
       "                        <td id=\"T_c90a1eb8_19b4_11ea_becb_ef15594c373crow8_col0\" class=\"data row8 col0\" >0.00058</td>\n",
       "            </tr>\n",
       "            <tr>\n",
       "                        <th id=\"T_c90a1eb8_19b4_11ea_becb_ef15594c373clevel0_row9\" class=\"row_heading level0 row9\" >poszukiwanie_praca</th>\n",
       "                        <td id=\"T_c90a1eb8_19b4_11ea_becb_ef15594c373crow9_col0\" class=\"data row9 col0\" >0.00058</td>\n",
       "            </tr>\n",
       "    </tbody></table><style  type=\"text/css\" >\n",
       "</style><table id=\"T_c90a1eb9_19b4_11ea_becb_ef15594c373c\" style='display:inline'><thead>    <tr>        <th class=\"blank level0\" ></th>        <th class=\"col_heading level0 col0\" >background_15 @lemmatized</th>    </tr></thead><tbody>\n",
       "                <tr>\n",
       "                        <th id=\"T_c90a1eb9_19b4_11ea_becb_ef15594c373clevel0_row0\" class=\"row_heading level0 row0\" >potem</th>\n",
       "                        <td id=\"T_c90a1eb9_19b4_11ea_becb_ef15594c373crow0_col0\" class=\"data row0 col0\" >0.00052</td>\n",
       "            </tr>\n",
       "            <tr>\n",
       "                        <th id=\"T_c90a1eb9_19b4_11ea_becb_ef15594c373clevel0_row1\" class=\"row_heading level0 row1\" >woda</th>\n",
       "                        <td id=\"T_c90a1eb9_19b4_11ea_becb_ef15594c373crow1_col0\" class=\"data row1 col0\" >0.0005</td>\n",
       "            </tr>\n",
       "            <tr>\n",
       "                        <th id=\"T_c90a1eb9_19b4_11ea_becb_ef15594c373clevel0_row2\" class=\"row_heading level0 row2\" >ulica</th>\n",
       "                        <td id=\"T_c90a1eb9_19b4_11ea_becb_ef15594c373crow2_col0\" class=\"data row2 col0\" >0.00048</td>\n",
       "            </tr>\n",
       "            <tr>\n",
       "                        <th id=\"T_c90a1eb9_19b4_11ea_becb_ef15594c373clevel0_row3\" class=\"row_heading level0 row3\" >drzewo</th>\n",
       "                        <td id=\"T_c90a1eb9_19b4_11ea_becb_ef15594c373crow3_col0\" class=\"data row3 col0\" >0.00045</td>\n",
       "            </tr>\n",
       "            <tr>\n",
       "                        <th id=\"T_c90a1eb9_19b4_11ea_becb_ef15594c373clevel0_row4\" class=\"row_heading level0 row4\" >słońce</th>\n",
       "                        <td id=\"T_c90a1eb9_19b4_11ea_becb_ef15594c373crow4_col0\" class=\"data row4 col0\" >0.00042</td>\n",
       "            </tr>\n",
       "            <tr>\n",
       "                        <th id=\"T_c90a1eb9_19b4_11ea_becb_ef15594c373clevel0_row5\" class=\"row_heading level0 row5\" >twarz</th>\n",
       "                        <td id=\"T_c90a1eb9_19b4_11ea_becb_ef15594c373crow5_col0\" class=\"data row5 col0\" >0.00041</td>\n",
       "            </tr>\n",
       "            <tr>\n",
       "                        <th id=\"T_c90a1eb9_19b4_11ea_becb_ef15594c373clevel0_row6\" class=\"row_heading level0 row6\" >głowa</th>\n",
       "                        <td id=\"T_c90a1eb9_19b4_11ea_becb_ef15594c373crow6_col0\" class=\"data row6 col0\" >0.00039</td>\n",
       "            </tr>\n",
       "            <tr>\n",
       "                        <th id=\"T_c90a1eb9_19b4_11ea_becb_ef15594c373clevel0_row7\" class=\"row_heading level0 row7\" >dno</th>\n",
       "                        <td id=\"T_c90a1eb9_19b4_11ea_becb_ef15594c373crow7_col0\" class=\"data row7 col0\" >0.00039</td>\n",
       "            </tr>\n",
       "            <tr>\n",
       "                        <th id=\"T_c90a1eb9_19b4_11ea_becb_ef15594c373clevel0_row8\" class=\"row_heading level0 row8\" >koparka</th>\n",
       "                        <td id=\"T_c90a1eb9_19b4_11ea_becb_ef15594c373crow8_col0\" class=\"data row8 col0\" >0.00035</td>\n",
       "            </tr>\n",
       "            <tr>\n",
       "                        <th id=\"T_c90a1eb9_19b4_11ea_becb_ef15594c373clevel0_row9\" class=\"row_heading level0 row9\" >nazywać</th>\n",
       "                        <td id=\"T_c90a1eb9_19b4_11ea_becb_ef15594c373crow9_col0\" class=\"data row9 col0\" >0.00034</td>\n",
       "            </tr>\n",
       "    </tbody></table>"
      ]
     },
     "metadata": {},
     "output_type": "display_data"
    },
    {
     "name": "stdout",
     "output_type": "stream",
     "text": [
      "cb899d8d-3001-49a9-a1bd-891e038a0e19\n",
      "17500512-9a92-4f7e-bc81-1ce790a37ccc\n",
      "0e3da76d-8f1c-49ed-af35-78378189be73\n",
      "c30b55fd-0817-49fe-8e81-088068f1827a\n",
      "c00aea82-3ce0-464a-ba72-5f7725016e8a\n",
      "4aac8267-67c1-44be-a543-db2a2fab724a\n",
      "e0642cf4-ff98-40ec-84ca-ed10d02e6e23\n",
      "76cc6841-2010-4bb8-9a9e-228eac739a32\n",
      "009eed78-2757-4b59-bff4-e4ff03832842\n",
      "a96799c9-9d8c-4a7f-be2b-f4fdd4ce614f\n"
     ]
    }
   ],
   "source": [
    "\n",
    "display_html(last_model_html[-1], raw=True)\n",
    "    \n",
    "topic_docs = last_model_top_doc[-1]\n",
    "topic_docs = [str(topic) for topic in topic_docs]\n",
    "for doc_id in topic_docs:\n",
    "    print(doc_id)"
   ]
  },
  {
   "cell_type": "code",
   "execution_count": 39,
   "metadata": {},
   "outputs": [
    {
     "data": {
      "text/plain": [
       "Experiment experiment2\n",
       "\n",
       "Experiment was made with BigARTM 0.10.0\n",
       "Tree:\n",
       "                              ┌##13h15m52s_08d12m2019y###\n",
       "                              ├##13h15m58s_08d12m2019y###\n",
       "                              ├##13h16m05s_08d12m2019y###\n",
       "                              ├##13h16m11s_08d12m2019y###\n",
       "                              ├##13h16m17s_08d12m2019y###\n",
       "                              ├##13h16m24s_08d12m2019y###\n",
       "                              ├##13h16m30s_08d12m2019y###\n",
       "                              ├##13h16m36s_08d12m2019y###\n",
       "                              ├##13h16m41s_08d12m2019y###\n",
       "<<<<<<<<<<<root>>>>>>>>>>>────┤\n",
       "                              ├##13h16m46s_08d12m2019y###\n",
       "                              ├##13h16m51s_08d12m2019y###\n",
       "                              ├##13h16m57s_08d12m2019y###\n",
       "                              │                                                            ┌##13h18m42s_08d12m2019y###\n",
       "                              │                                                            ├##13h18m50s_08d12m2019y###\n",
       "                              ├##13h17m03s_08d12m2019y###──────────────────────────────────┤\n",
       "                              │                                                            ├##13h18m59s_08d12m2019y###\n",
       "                              │                                                            └##13h19m06s_08d12m2019y###\n",
       "                              ├##13h17m09s_08d12m2019y###\n",
       "                              ├##13h17m15s_08d12m2019y###\n",
       "                              │                                                            ┌##13h18m04s_08d12m2019y###\n",
       "                              │                                                            ├##13h18m12s_08d12m2019y###\n",
       "                              ├##13h17m21s_08d12m2019y###──────────────────────────────────┤\n",
       "                              │                                                            ├##13h18m20s_08d12m2019y###\n",
       "                              │                                                            └##13h18m28s_08d12m2019y###\n",
       "                              ├##13h17m27s_08d12m2019y###\n",
       "                              └##13h17m34s_08d12m2019y###\n",
       "Cubes:\n",
       " START                        | REG_MODIFIER                                               | REG_MODIFIER                                              \n",
       "                              |                                                            |                                                           \n",
       " name:                        | tau_grid:                                                  | tau_grid:                                                 \n",
       "   ARTM                       |   0,                                                       |   -0.05,                                                  \n",
       " num_processors:              |   0.005,                                                   |   -0.01                                                   \n",
       "   3                          |   ...,                                                     | regularizer:                                              \n",
       " num_topics:                  |   0.02,                                                    |   name=smsp_theta_specific,                               \n",
       "   16                         |   0.025                                                    |   doc_titles=[],                                          \n",
       " topic_names:                 | regularizer:                                               |   doc_topic_coef=[],                                      \n",
       "   topic_0,                   |   name=decorrelation_phi,                                  |   alpha_iter=[],                                          \n",
       "   topic_1,                   |   class_ids=[@lemmatized],                                 |   topic_names=[topic_0, topic_1, ..., topic_13, topic_14],\n",
       "   ...,                       |   topic_names=[topic_0, topic_1, ..., topic_13, topic_14], |   tau=1.0                                                 \n",
       "   topic_14,                  |   tau=1.0                                                  |    +                                                      \n",
       "   background_15              |    +                                                       | tau_grid:                                                 \n",
       " class_ids:                   | tau_grid:                                                  |   0.01,                                                   \n",
       "   @lemmatized=1.0,           |   -0.05,                                                   |   0.1                                                     \n",
       "   @bigram=4.678379865960133  |   0,                                                       | name:                                                     \n",
       " seed:                        |   0.05                                                     |   smooth_theta_bcg                                        \n",
       "   -1                         | regularizer:                                               |                                                           \n",
       "                              |   name=smsp_phi_specific,                                  |                                                           \n",
       "                              |   class_ids=[@lemmatized],                                 |                                                           \n",
       "                              |   topic_names=[topic_0, topic_1, ..., topic_13, topic_14], |                                                           \n",
       "                              |   dictionary=,                                             |                                                           \n",
       "                              |   tau=1.0                                                  |                                                           \n",
       "                              |    +                                                       |                                                           \n",
       "                              | tau_grid:                                                  |                                                           \n",
       "                              |   0.1                                                      |                                                           \n",
       "                              | name:                                                      |                                                           \n",
       "                              |   smooth_phi_bcg                                           |                                                           \n",
       "                              |                                                            |                                                           \n",
       "──────────────────────────────+────────────────────────────────────────────────────────────+────────────────────────────────────────────────────────────+──────────────────────────────────────────────────────────\n",
       "                              |                                                            |                                                           "
      ]
     },
     "metadata": {},
     "output_type": "display_data"
    }
   ],
   "source": [
    "theta_cube = RegularizersModifierCube(\n",
    "    num_iter=10,\n",
    "    regularizer_parameters=[\n",
    "        {\n",
    "            'regularizer': artm.SmoothSparseThetaRegularizer(name=\"smsp_theta_specific\",\n",
    "                                                           topic_names=specific_topics),\n",
    "            'tau_grid': [-0.05, -0.01]\n",
    "        },\n",
    "        {\n",
    "            'name': \"smooth_theta_bcg\",\n",
    "            'tau_grid': [0.01, 0.1]\n",
    "        },\n",
    "    ],\n",
    "    verbose=True\n",
    ")\n",
    "theta_cube(models, demo_data)\n",
    "\n",
    "experiment.show()"
   ]
  },
  {
   "cell_type": "code",
   "execution_count": 40,
   "metadata": {},
   "outputs": [
    {
     "name": "stdout",
     "output_type": "stream",
     "text": [
      "2\n"
     ]
    }
   ],
   "source": [
    "query = (\n",
    "    \"TopicKernel@lemmatized.average_contrast > 0.92 * MAXIMUM(TopicKernel@lemmatized.average_contrast) \"\n",
    "    \"and TopicKernel@lemmatized.average_purity > 0.92 * MAXIMUM(TopicKernel@lemmatized.average_purity) \"\n",
    "    \"and PerplexityScore@all < 1.1 * MINIMUM(PerplexityScore@all) \"\n",
    "    \"and SparsityThetaScore > MEDIAN(SparsityThetaScore)\"\n",
    ")\n",
    "models = experiment.select(query)\n",
    "\n",
    "print(len(models))"
   ]
  },
  {
   "cell_type": "code",
   "execution_count": 41,
   "metadata": {},
   "outputs": [
    {
     "name": "stdout",
     "output_type": "stream",
     "text": [
      "smooth_phi_bcg 5.990796019900498\n",
      "smooth_theta_bcg 37.68857589984351\n",
      "decorrelation_phi 0.025\n",
      "smsp_phi_specific -0.17116560056858565\n",
      "smsp_theta_specific -1.076816454281243\n",
      "947.6901245117188\n",
      "0.48579949140548706\n",
      "0.3708178997039795\n",
      "------\n",
      "smooth_phi_bcg 5.990796019900498\n",
      "smooth_theta_bcg 37.68857589984351\n",
      "decorrelation_phi 0.02\n",
      "smsp_phi_specific -0.17116560056858565\n",
      "smsp_theta_specific -1.076816454281243\n",
      "947.5653686523438\n",
      "0.48541390895843506\n",
      "0.3692113757133484\n",
      "------\n"
     ]
    }
   ],
   "source": [
    "for model in models:\n",
    "    describe_model(model)"
   ]
  },
  {
   "cell_type": "code",
   "execution_count": 42,
   "metadata": {},
   "outputs": [],
   "source": [
    "best_model = models[0]\n"
   ]
  },
  {
   "cell_type": "code",
   "execution_count": 43,
   "metadata": {},
   "outputs": [],
   "source": [
    "first_model_top_tok = TopTokensViewer(best_model, num_top_tokens=10, method='phi')\n",
    "first_model_html =  first_model_top_tok.to_html(first_model_top_tok.view(),thresh=thresh)\n",
    "first_model_top_doc = TopDocumentsViewer(best_model, dataset=demo_data).view()"
   ]
  },
  {
   "cell_type": "code",
   "execution_count": 44,
   "metadata": {},
   "outputs": [
    {
     "data": {
      "text/html": [
       "<style  type=\"text/css\" >\n",
       "</style><table id=\"T_f8997624_19b4_11ea_becb_ef15594c373c\" style='display:inline'><thead>    <tr>        <th class=\"blank level0\" ></th>        <th class=\"col_heading level0 col0\" >topic_0 @bigram</th>    </tr></thead><tbody>\n",
       "                <tr>\n",
       "                        <th id=\"T_f8997624_19b4_11ea_becb_ef15594c373clevel0_row0\" class=\"row_heading level0 row0\" >organizacja_partyjny</th>\n",
       "                        <td id=\"T_f8997624_19b4_11ea_becb_ef15594c373crow0_col0\" class=\"data row0 col0\" >0.06384</td>\n",
       "            </tr>\n",
       "            <tr>\n",
       "                        <th id=\"T_f8997624_19b4_11ea_becb_ef15594c373clevel0_row1\" class=\"row_heading level0 row1\" >członek_Partia</th>\n",
       "                        <td id=\"T_f8997624_19b4_11ea_becb_ef15594c373crow1_col0\" class=\"data row1 col0\" >0.03993</td>\n",
       "            </tr>\n",
       "            <tr>\n",
       "                        <th id=\"T_f8997624_19b4_11ea_becb_ef15594c373clevel0_row2\" class=\"row_heading level0 row2\" >kandydat_Partia</th>\n",
       "                        <td id=\"T_f8997624_19b4_11ea_becb_ef15594c373crow2_col0\" class=\"data row2 col0\" >0.01209</td>\n",
       "            </tr>\n",
       "            <tr>\n",
       "                        <th id=\"T_f8997624_19b4_11ea_becb_ef15594c373clevel0_row3\" class=\"row_heading level0 row3\" >wydział_polityczny</th>\n",
       "                        <td id=\"T_f8997624_19b4_11ea_becb_ef15594c373crow3_col0\" class=\"data row3 col0\" >0.01202</td>\n",
       "            </tr>\n",
       "            <tr>\n",
       "                        <th id=\"T_f8997624_19b4_11ea_becb_ef15594c373clevel0_row4\" class=\"row_heading level0 row4\" >ZMP_owca</th>\n",
       "                        <td id=\"T_f8997624_19b4_11ea_becb_ef15594c373crow4_col0\" class=\"data row4 col0\" >0.01149</td>\n",
       "            </tr>\n",
       "            <tr>\n",
       "                        <th id=\"T_f8997624_19b4_11ea_becb_ef15594c373clevel0_row5\" class=\"row_heading level0 row5\" >praca_polityczny</th>\n",
       "                        <td id=\"T_f8997624_19b4_11ea_becb_ef15594c373crow5_col0\" class=\"data row5 col0\" >0.01014</td>\n",
       "            </tr>\n",
       "            <tr>\n",
       "                        <th id=\"T_f8997624_19b4_11ea_becb_ef15594c373clevel0_row6\" class=\"row_heading level0 row6\" >sprawozdawczo_wyborczy</th>\n",
       "                        <td id=\"T_f8997624_19b4_11ea_becb_ef15594c373crow6_col0\" class=\"data row6 col0\" >0.00982</td>\n",
       "            </tr>\n",
       "            <tr>\n",
       "                        <th id=\"T_f8997624_19b4_11ea_becb_ef15594c373clevel0_row7\" class=\"row_heading level0 row7\" >podstawowy_organizacja</th>\n",
       "                        <td id=\"T_f8997624_19b4_11ea_becb_ef15594c373crow7_col0\" class=\"data row7 col0\" >0.00916</td>\n",
       "            </tr>\n",
       "            <tr>\n",
       "                        <th id=\"T_f8997624_19b4_11ea_becb_ef15594c373clevel0_row8\" class=\"row_heading level0 row8\" >oddziałowy_organizacja</th>\n",
       "                        <td id=\"T_f8997624_19b4_11ea_becb_ef15594c373crow8_col0\" class=\"data row8 col0\" >0.00903</td>\n",
       "            </tr>\n",
       "            <tr>\n",
       "                        <th id=\"T_f8997624_19b4_11ea_becb_ef15594c373clevel0_row9\" class=\"row_heading level0 row9\" >członek_kandydat</th>\n",
       "                        <td id=\"T_f8997624_19b4_11ea_becb_ef15594c373crow9_col0\" class=\"data row9 col0\" >0.00826</td>\n",
       "            </tr>\n",
       "    </tbody></table><style  type=\"text/css\" >\n",
       "</style><table id=\"T_f8997625_19b4_11ea_becb_ef15594c373c\" style='display:inline'><thead>    <tr>        <th class=\"blank level0\" ></th>        <th class=\"col_heading level0 col0\" >topic_0 @lemmatized</th>    </tr></thead><tbody>\n",
       "                <tr>\n",
       "                        <th id=\"T_f8997625_19b4_11ea_becb_ef15594c373clevel0_row0\" class=\"row_heading level0 row0\" >partyjny</th>\n",
       "                        <td id=\"T_f8997625_19b4_11ea_becb_ef15594c373crow0_col0\" class=\"data row0 col0\" >0.04129</td>\n",
       "            </tr>\n",
       "            <tr>\n",
       "                        <th id=\"T_f8997625_19b4_11ea_becb_ef15594c373clevel0_row1\" class=\"row_heading level0 row1\" >praca</th>\n",
       "                        <td id=\"T_f8997625_19b4_11ea_becb_ef15594c373crow1_col0\" class=\"data row1 col0\" >0.03084</td>\n",
       "            </tr>\n",
       "            <tr>\n",
       "                        <th id=\"T_f8997625_19b4_11ea_becb_ef15594c373clevel0_row2\" class=\"row_heading level0 row2\" >organizacja</th>\n",
       "                        <td id=\"T_f8997625_19b4_11ea_becb_ef15594c373crow2_col0\" class=\"data row2 col0\" >0.02997</td>\n",
       "            </tr>\n",
       "            <tr>\n",
       "                        <th id=\"T_f8997625_19b4_11ea_becb_ef15594c373clevel0_row3\" class=\"row_heading level0 row3\" >Partia</th>\n",
       "                        <td id=\"T_f8997625_19b4_11ea_becb_ef15594c373crow3_col0\" class=\"data row3 col0\" >0.02472</td>\n",
       "            </tr>\n",
       "            <tr>\n",
       "                        <th id=\"T_f8997625_19b4_11ea_becb_ef15594c373clevel0_row4\" class=\"row_heading level0 row4\" >towarzysz</th>\n",
       "                        <td id=\"T_f8997625_19b4_11ea_becb_ef15594c373crow4_col0\" class=\"data row4 col0\" >0.0232</td>\n",
       "            </tr>\n",
       "            <tr>\n",
       "                        <th id=\"T_f8997625_19b4_11ea_becb_ef15594c373clevel0_row5\" class=\"row_heading level0 row5\" >członek</th>\n",
       "                        <td id=\"T_f8997625_19b4_11ea_becb_ef15594c373crow5_col0\" class=\"data row5 col0\" >0.02226</td>\n",
       "            </tr>\n",
       "            <tr>\n",
       "                        <th id=\"T_f8997625_19b4_11ea_becb_ef15594c373clevel0_row6\" class=\"row_heading level0 row6\" >polityczny</th>\n",
       "                        <td id=\"T_f8997625_19b4_11ea_becb_ef15594c373crow6_col0\" class=\"data row6 col0\" >0.0213</td>\n",
       "            </tr>\n",
       "            <tr>\n",
       "                        <th id=\"T_f8997625_19b4_11ea_becb_ef15594c373clevel0_row7\" class=\"row_heading level0 row7\" >ZMP</th>\n",
       "                        <td id=\"T_f8997625_19b4_11ea_becb_ef15594c373crow7_col0\" class=\"data row7 col0\" >0.02118</td>\n",
       "            </tr>\n",
       "            <tr>\n",
       "                        <th id=\"T_f8997625_19b4_11ea_becb_ef15594c373clevel0_row8\" class=\"row_heading level0 row8\" >zebranie</th>\n",
       "                        <td id=\"T_f8997625_19b4_11ea_becb_ef15594c373crow8_col0\" class=\"data row8 col0\" >0.01501</td>\n",
       "            </tr>\n",
       "            <tr>\n",
       "                        <th id=\"T_f8997625_19b4_11ea_becb_ef15594c373clevel0_row9\" class=\"row_heading level0 row9\" >zadanie</th>\n",
       "                        <td id=\"T_f8997625_19b4_11ea_becb_ef15594c373crow9_col0\" class=\"data row9 col0\" >0.01344</td>\n",
       "            </tr>\n",
       "    </tbody></table>"
      ]
     },
     "metadata": {},
     "output_type": "display_data"
    },
    {
     "data": {
      "text/plain": [
       "['dacf0686-a7e9-4561-9262-413140274424',\n",
       " 'a601b92b-ad7f-4520-b38c-fd95808677fd',\n",
       " 'ad204465-f97f-4513-adc5-f86ce14581af',\n",
       " '970930ca-054d-475d-9fdc-b18cf1a05ea0',\n",
       " 'e6f1902c-bbec-4806-80f1-3a136fdc870e',\n",
       " '3bbde974-942d-4a16-a94e-cb7e115cbbe8',\n",
       " '4dd7d372-5e53-4391-86b4-31b2d5ca0941',\n",
       " '02f23b0b-48da-4959-8d8f-4a8e035c03fb',\n",
       " '015b48b2-7fd1-41cb-95c0-3533147cf3f6',\n",
       " '319951df-295d-4006-86dc-e727d3aa527e']"
      ]
     },
     "metadata": {},
     "output_type": "display_data"
    },
    {
     "data": {
      "text/html": [
       "<style  type=\"text/css\" >\n",
       "</style><table id=\"T_f8997626_19b4_11ea_becb_ef15594c373c\" style='display:inline'><thead>    <tr>        <th class=\"blank level0\" ></th>        <th class=\"col_heading level0 col0\" >topic_1 @bigram</th>    </tr></thead><tbody>\n",
       "                <tr>\n",
       "                        <th id=\"T_f8997626_19b4_11ea_becb_ef15594c373clevel0_row0\" class=\"row_heading level0 row0\" >spółdzielnia_produkcyjny</th>\n",
       "                        <td id=\"T_f8997626_19b4_11ea_becb_ef15594c373crow0_col0\" class=\"data row0 col0\" >0.04692</td>\n",
       "            </tr>\n",
       "            <tr>\n",
       "                        <th id=\"T_f8997626_19b4_11ea_becb_ef15594c373clevel0_row1\" class=\"row_heading level0 row1\" >front_narodowy</th>\n",
       "                        <td id=\"T_f8997626_19b4_11ea_becb_ef15594c373crow1_col0\" class=\"data row1 col0\" >0.02493</td>\n",
       "            </tr>\n",
       "            <tr>\n",
       "                        <th id=\"T_f8997626_19b4_11ea_becb_ef15594c373clevel0_row2\" class=\"row_heading level0 row2\" >władza_ludowy</th>\n",
       "                        <td id=\"T_f8997626_19b4_11ea_becb_ef15594c373crow2_col0\" class=\"data row2 col0\" >0.01372</td>\n",
       "            </tr>\n",
       "            <tr>\n",
       "                        <th id=\"T_f8997626_19b4_11ea_becb_ef15594c373clevel0_row3\" class=\"row_heading level0 row3\" >członek_spółdzielnia</th>\n",
       "                        <td id=\"T_f8997626_19b4_11ea_becb_ef15594c373crow3_col0\" class=\"data row3 col0\" >0.01007</td>\n",
       "            </tr>\n",
       "            <tr>\n",
       "                        <th id=\"T_f8997626_19b4_11ea_becb_ef15594c373clevel0_row4\" class=\"row_heading level0 row4\" >Ziemia_odzyskać</th>\n",
       "                        <td id=\"T_f8997626_19b4_11ea_becb_ef15594c373crow4_col0\" class=\"data row4 col0\" >0.00902</td>\n",
       "            </tr>\n",
       "            <tr>\n",
       "                        <th id=\"T_f8997626_19b4_11ea_becb_ef15594c373clevel0_row5\" class=\"row_heading level0 row5\" >rada_narodowy</th>\n",
       "                        <td id=\"T_f8997626_19b4_11ea_becb_ef15594c373crow5_col0\" class=\"data row5 col0\" >0.00854</td>\n",
       "            </tr>\n",
       "            <tr>\n",
       "                        <th id=\"T_f8997626_19b4_11ea_becb_ef15594c373clevel0_row6\" class=\"row_heading level0 row6\" >Polska_ludowy</th>\n",
       "                        <td id=\"T_f8997626_19b4_11ea_becb_ef15594c373crow6_col0\" class=\"data row6 col0\" >0.00837</td>\n",
       "            </tr>\n",
       "            <tr>\n",
       "                        <th id=\"T_f8997626_19b4_11ea_becb_ef15594c373clevel0_row7\" class=\"row_heading level0 row7\" >Ziemia_zachodni</th>\n",
       "                        <td id=\"T_f8997626_19b4_11ea_becb_ef15594c373crow7_col0\" class=\"data row7 col0\" >0.00792</td>\n",
       "            </tr>\n",
       "            <tr>\n",
       "                        <th id=\"T_f8997626_19b4_11ea_becb_ef15594c373clevel0_row8\" class=\"row_heading level0 row8\" >Bolesław_Bierut</th>\n",
       "                        <td id=\"T_f8997626_19b4_11ea_becb_ef15594c373crow8_col0\" class=\"data row8 col0\" >0.00775</td>\n",
       "            </tr>\n",
       "            <tr>\n",
       "                        <th id=\"T_f8997626_19b4_11ea_becb_ef15594c373clevel0_row9\" class=\"row_heading level0 row9\" >spółdzielczość_produkcyjny</th>\n",
       "                        <td id=\"T_f8997626_19b4_11ea_becb_ef15594c373crow9_col0\" class=\"data row9 col0\" >0.00756</td>\n",
       "            </tr>\n",
       "    </tbody></table><style  type=\"text/css\" >\n",
       "</style><table id=\"T_f8997627_19b4_11ea_becb_ef15594c373c\" style='display:inline'><thead>    <tr>        <th class=\"blank level0\" ></th>        <th class=\"col_heading level0 col0\" >topic_1 @lemmatized</th>    </tr></thead><tbody>\n",
       "                <tr>\n",
       "                        <th id=\"T_f8997627_19b4_11ea_becb_ef15594c373clevel0_row0\" class=\"row_heading level0 row0\" >chłop</th>\n",
       "                        <td id=\"T_f8997627_19b4_11ea_becb_ef15594c373crow0_col0\" class=\"data row0 col0\" >0.02715</td>\n",
       "            </tr>\n",
       "            <tr>\n",
       "                        <th id=\"T_f8997627_19b4_11ea_becb_ef15594c373clevel0_row1\" class=\"row_heading level0 row1\" >spółdzielnia</th>\n",
       "                        <td id=\"T_f8997627_19b4_11ea_becb_ef15594c373crow1_col0\" class=\"data row1 col0\" >0.02257</td>\n",
       "            </tr>\n",
       "            <tr>\n",
       "                        <th id=\"T_f8997627_19b4_11ea_becb_ef15594c373clevel0_row2\" class=\"row_heading level0 row2\" >wieś</th>\n",
       "                        <td id=\"T_f8997627_19b4_11ea_becb_ef15594c373crow2_col0\" class=\"data row2 col0\" >0.01755</td>\n",
       "            </tr>\n",
       "            <tr>\n",
       "                        <th id=\"T_f8997627_19b4_11ea_becb_ef15594c373clevel0_row3\" class=\"row_heading level0 row3\" >produkcyjny</th>\n",
       "                        <td id=\"T_f8997627_19b4_11ea_becb_ef15594c373crow3_col0\" class=\"data row3 col0\" >0.01564</td>\n",
       "            </tr>\n",
       "            <tr>\n",
       "                        <th id=\"T_f8997627_19b4_11ea_becb_ef15594c373clevel0_row4\" class=\"row_heading level0 row4\" >powiat</th>\n",
       "                        <td id=\"T_f8997627_19b4_11ea_becb_ef15594c373crow4_col0\" class=\"data row4 col0\" >0.01416</td>\n",
       "            </tr>\n",
       "            <tr>\n",
       "                        <th id=\"T_f8997627_19b4_11ea_becb_ef15594c373clevel0_row5\" class=\"row_heading level0 row5\" >zboże</th>\n",
       "                        <td id=\"T_f8997627_19b4_11ea_becb_ef15594c373crow5_col0\" class=\"data row5 col0\" >0.0118</td>\n",
       "            </tr>\n",
       "            <tr>\n",
       "                        <th id=\"T_f8997627_19b4_11ea_becb_ef15594c373clevel0_row6\" class=\"row_heading level0 row6\" >gromada</th>\n",
       "                        <td id=\"T_f8997627_19b4_11ea_becb_ef15594c373crow6_col0\" class=\"data row6 col0\" >0.01111</td>\n",
       "            </tr>\n",
       "            <tr>\n",
       "                        <th id=\"T_f8997627_19b4_11ea_becb_ef15594c373clevel0_row7\" class=\"row_heading level0 row7\" >Ziemia</th>\n",
       "                        <td id=\"T_f8997627_19b4_11ea_becb_ef15594c373crow7_col0\" class=\"data row7 col0\" >0.01082</td>\n",
       "            </tr>\n",
       "            <tr>\n",
       "                        <th id=\"T_f8997627_19b4_11ea_becb_ef15594c373clevel0_row8\" class=\"row_heading level0 row8\" >praca</th>\n",
       "                        <td id=\"T_f8997627_19b4_11ea_becb_ef15594c373crow8_col0\" class=\"data row8 col0\" >0.00991</td>\n",
       "            </tr>\n",
       "            <tr>\n",
       "                        <th id=\"T_f8997627_19b4_11ea_becb_ef15594c373clevel0_row9\" class=\"row_heading level0 row9\" >nowy</th>\n",
       "                        <td id=\"T_f8997627_19b4_11ea_becb_ef15594c373crow9_col0\" class=\"data row9 col0\" >0.00841</td>\n",
       "            </tr>\n",
       "    </tbody></table>"
      ]
     },
     "metadata": {},
     "output_type": "display_data"
    },
    {
     "data": {
      "text/plain": [
       "['939b1be9-b903-47bf-98f8-85e9bd2b0e1a',\n",
       " 'f6ca8fc7-5fa6-4f5e-82c0-4d9e73e049e4',\n",
       " '0f1ec3ba-3e8c-4b54-a8ec-dfa6f6a744e6',\n",
       " '71636bf7-8167-4ad8-8264-3f561768ad22',\n",
       " 'b9e4620c-8793-453b-a863-9703cd8fbcc0',\n",
       " 'c2e61a50-99a2-4bd4-90e4-214f3c458f2e',\n",
       " '1b8d7da7-b7cf-479c-a4c9-c86bd0577ec4',\n",
       " 'f0167fc1-0676-4b17-b2a2-a1da999f84a0',\n",
       " '15e5ec9b-f374-4182-abe0-8ac840f03764',\n",
       " 'a22d6e72-1a38-4f22-a305-59950bb893a6']"
      ]
     },
     "metadata": {},
     "output_type": "display_data"
    },
    {
     "data": {
      "text/html": [
       "<style  type=\"text/css\" >\n",
       "</style><table id=\"T_f8997628_19b4_11ea_becb_ef15594c373c\" style='display:inline'><thead>    <tr>        <th class=\"blank level0\" ></th>        <th class=\"col_heading level0 col0\" >topic_2 @bigram</th>    </tr></thead><tbody>\n",
       "                <tr>\n",
       "                        <th id=\"T_f8997628_19b4_11ea_becb_ef15594c373clevel0_row0\" class=\"row_heading level0 row0\" >Niemcy_zachodni</th>\n",
       "                        <td id=\"T_f8997628_19b4_11ea_becb_ef15594c373crow0_col0\" class=\"data row0 col0\" >0.04441</td>\n",
       "            </tr>\n",
       "            <tr>\n",
       "                        <th id=\"T_f8997628_19b4_11ea_becb_ef15594c373clevel0_row1\" class=\"row_heading level0 row1\" >naród_niemiecki</th>\n",
       "                        <td id=\"T_f8997628_19b4_11ea_becb_ef15594c373crow1_col0\" class=\"data row1 col0\" >0.02378</td>\n",
       "            </tr>\n",
       "            <tr>\n",
       "                        <th id=\"T_f8997628_19b4_11ea_becb_ef15594c373clevel0_row2\" class=\"row_heading level0 row2\" >republika_demokratyczny</th>\n",
       "                        <td id=\"T_f8997628_19b4_11ea_becb_ef15594c373crow2_col0\" class=\"data row2 col0\" >0.02019</td>\n",
       "            </tr>\n",
       "            <tr>\n",
       "                        <th id=\"T_f8997628_19b4_11ea_becb_ef15594c373clevel0_row3\" class=\"row_heading level0 row3\" >niemiecki_republika</th>\n",
       "                        <td id=\"T_f8997628_19b4_11ea_becb_ef15594c373crow3_col0\" class=\"data row3 col0\" >0.0184</td>\n",
       "            </tr>\n",
       "            <tr>\n",
       "                        <th id=\"T_f8997628_19b4_11ea_becb_ef15594c373clevel0_row4\" class=\"row_heading level0 row4\" >imperialista_amerykański</th>\n",
       "                        <td id=\"T_f8997628_19b4_11ea_becb_ef15594c373crow4_col0\" class=\"data row4 col0\" >0.01353</td>\n",
       "            </tr>\n",
       "            <tr>\n",
       "                        <th id=\"T_f8997628_19b4_11ea_becb_ef15594c373clevel0_row5\" class=\"row_heading level0 row5\" >zachodnio_niemiecki</th>\n",
       "                        <td id=\"T_f8997628_19b4_11ea_becb_ef15594c373crow5_col0\" class=\"data row5 col0\" >0.01156</td>\n",
       "            </tr>\n",
       "            <tr>\n",
       "                        <th id=\"T_f8997628_19b4_11ea_becb_ef15594c373clevel0_row6\" class=\"row_heading level0 row6\" >nowy_wojna</th>\n",
       "                        <td id=\"T_f8997628_19b4_11ea_becb_ef15594c373crow6_col0\" class=\"data row6 col0\" >0.01122</td>\n",
       "            </tr>\n",
       "            <tr>\n",
       "                        <th id=\"T_f8997628_19b4_11ea_becb_ef15594c373clevel0_row7\" class=\"row_heading level0 row7\" >armia_europejski</th>\n",
       "                        <td id=\"T_f8997628_19b4_11ea_becb_ef15594c373crow7_col0\" class=\"data row7 col0\" >0.01016</td>\n",
       "            </tr>\n",
       "            <tr>\n",
       "                        <th id=\"T_f8997628_19b4_11ea_becb_ef15594c373clevel0_row8\" class=\"row_heading level0 row8\" >remilitaryzacja_Niemcy</th>\n",
       "                        <td id=\"T_f8997628_19b4_11ea_becb_ef15594c373crow8_col0\" class=\"data row8 col0\" >0.00995</td>\n",
       "            </tr>\n",
       "            <tr>\n",
       "                        <th id=\"T_f8997628_19b4_11ea_becb_ef15594c373clevel0_row9\" class=\"row_heading level0 row9\" >wojna_światowy</th>\n",
       "                        <td id=\"T_f8997628_19b4_11ea_becb_ef15594c373crow9_col0\" class=\"data row9 col0\" >0.00984</td>\n",
       "            </tr>\n",
       "    </tbody></table><style  type=\"text/css\" >\n",
       "</style><table id=\"T_f8997629_19b4_11ea_becb_ef15594c373c\" style='display:inline'><thead>    <tr>        <th class=\"blank level0\" ></th>        <th class=\"col_heading level0 col0\" >topic_2 @lemmatized</th>    </tr></thead><tbody>\n",
       "                <tr>\n",
       "                        <th id=\"T_f8997629_19b4_11ea_becb_ef15594c373clevel0_row0\" class=\"row_heading level0 row0\" >niemiecki</th>\n",
       "                        <td id=\"T_f8997629_19b4_11ea_becb_ef15594c373crow0_col0\" class=\"data row0 col0\" >0.03101</td>\n",
       "            </tr>\n",
       "            <tr>\n",
       "                        <th id=\"T_f8997629_19b4_11ea_becb_ef15594c373clevel0_row1\" class=\"row_heading level0 row1\" >Niemcy</th>\n",
       "                        <td id=\"T_f8997629_19b4_11ea_becb_ef15594c373crow1_col0\" class=\"data row1 col0\" >0.02285</td>\n",
       "            </tr>\n",
       "            <tr>\n",
       "                        <th id=\"T_f8997629_19b4_11ea_becb_ef15594c373clevel0_row2\" class=\"row_heading level0 row2\" >amerykański</th>\n",
       "                        <td id=\"T_f8997629_19b4_11ea_becb_ef15594c373crow2_col0\" class=\"data row2 col0\" >0.0175</td>\n",
       "            </tr>\n",
       "            <tr>\n",
       "                        <th id=\"T_f8997629_19b4_11ea_becb_ef15594c373clevel0_row3\" class=\"row_heading level0 row3\" >naród</th>\n",
       "                        <td id=\"T_f8997629_19b4_11ea_becb_ef15594c373crow3_col0\" class=\"data row3 col0\" >0.01734</td>\n",
       "            </tr>\n",
       "            <tr>\n",
       "                        <th id=\"T_f8997629_19b4_11ea_becb_ef15594c373clevel0_row4\" class=\"row_heading level0 row4\" >zachodni</th>\n",
       "                        <td id=\"T_f8997629_19b4_11ea_becb_ef15594c373crow4_col0\" class=\"data row4 col0\" >0.01688</td>\n",
       "            </tr>\n",
       "            <tr>\n",
       "                        <th id=\"T_f8997629_19b4_11ea_becb_ef15594c373clevel0_row5\" class=\"row_heading level0 row5\" >francuski</th>\n",
       "                        <td id=\"T_f8997629_19b4_11ea_becb_ef15594c373crow5_col0\" class=\"data row5 col0\" >0.01261</td>\n",
       "            </tr>\n",
       "            <tr>\n",
       "                        <th id=\"T_f8997629_19b4_11ea_becb_ef15594c373clevel0_row6\" class=\"row_heading level0 row6\" >wojna</th>\n",
       "                        <td id=\"T_f8997629_19b4_11ea_becb_ef15594c373crow6_col0\" class=\"data row6 col0\" >0.01075</td>\n",
       "            </tr>\n",
       "            <tr>\n",
       "                        <th id=\"T_f8997629_19b4_11ea_becb_ef15594c373clevel0_row7\" class=\"row_heading level0 row7\" >demokratyczny</th>\n",
       "                        <td id=\"T_f8997629_19b4_11ea_becb_ef15594c373crow7_col0\" class=\"data row7 col0\" >0.01046</td>\n",
       "            </tr>\n",
       "            <tr>\n",
       "                        <th id=\"T_f8997629_19b4_11ea_becb_ef15594c373clevel0_row8\" class=\"row_heading level0 row8\" >polityka</th>\n",
       "                        <td id=\"T_f8997629_19b4_11ea_becb_ef15594c373crow8_col0\" class=\"data row8 col0\" >0.00943</td>\n",
       "            </tr>\n",
       "            <tr>\n",
       "                        <th id=\"T_f8997629_19b4_11ea_becb_ef15594c373clevel0_row9\" class=\"row_heading level0 row9\" >wojenny</th>\n",
       "                        <td id=\"T_f8997629_19b4_11ea_becb_ef15594c373crow9_col0\" class=\"data row9 col0\" >0.0083</td>\n",
       "            </tr>\n",
       "    </tbody></table>"
      ]
     },
     "metadata": {},
     "output_type": "display_data"
    },
    {
     "data": {
      "text/plain": [
       "['c14a597a-3b18-4f3d-9a62-3a32e6365976',\n",
       " '0187c9f4-b119-4b59-9ae8-d9cbc514d698',\n",
       " '6b5d2d81-c290-4c1f-bc3a-d8716badfc3a',\n",
       " 'db377984-90b3-4130-8c8a-400980688a32',\n",
       " 'a36d8435-44a1-4bbd-80c9-84dcd933ac72',\n",
       " '95c3317c-d33a-4d35-ae94-223489720454',\n",
       " 'b6341c01-58e0-44ab-9d4b-86fbb2e5f6eb',\n",
       " 'cd14475a-c988-4788-ab0e-58c12c9d30f2',\n",
       " 'f193452c-858e-4dca-810d-7293a49000ae',\n",
       " '294d733d-0b9d-4f10-8218-fb2cd487a5e0']"
      ]
     },
     "metadata": {},
     "output_type": "display_data"
    },
    {
     "data": {
      "text/html": [
       "<style  type=\"text/css\" >\n",
       "</style><table id=\"T_f899762a_19b4_11ea_becb_ef15594c373c\" style='display:inline'><thead>    <tr>        <th class=\"blank level0\" ></th>        <th class=\"col_heading level0 col0\" >topic_3 @bigram</th>    </tr></thead><tbody>\n",
       "                <tr>\n",
       "                        <th id=\"T_f899762a_19b4_11ea_becb_ef15594c373clevel0_row0\" class=\"row_heading level0 row0\" >walka_pokój</th>\n",
       "                        <td id=\"T_f899762a_19b4_11ea_becb_ef15594c373crow0_col0\" class=\"data row0 col0\" >0.03272</td>\n",
       "            </tr>\n",
       "            <tr>\n",
       "                        <th id=\"T_f899762a_19b4_11ea_becb_ef15594c373clevel0_row1\" class=\"row_heading level0 row1\" >obrońca_pokój</th>\n",
       "                        <td id=\"T_f899762a_19b4_11ea_becb_ef15594c373crow1_col0\" class=\"data row1 col0\" >0.02632</td>\n",
       "            </tr>\n",
       "            <tr>\n",
       "                        <th id=\"T_f899762a_19b4_11ea_becb_ef15594c373clevel0_row2\" class=\"row_heading level0 row2\" >obrona_pokój</th>\n",
       "                        <td id=\"T_f899762a_19b4_11ea_becb_ef15594c373crow2_col0\" class=\"data row2 col0\" >0.02028</td>\n",
       "            </tr>\n",
       "            <tr>\n",
       "                        <th id=\"T_f899762a_19b4_11ea_becb_ef15594c373clevel0_row3\" class=\"row_heading level0 row3\" >podżegacz_wojenny</th>\n",
       "                        <td id=\"T_f899762a_19b4_11ea_becb_ef15594c373crow3_col0\" class=\"data row3 col0\" >0.01479</td>\n",
       "            </tr>\n",
       "            <tr>\n",
       "                        <th id=\"T_f899762a_19b4_11ea_becb_ef15594c373clevel0_row4\" class=\"row_heading level0 row4\" >kraj_demokracja</th>\n",
       "                        <td id=\"T_f899762a_19b4_11ea_becb_ef15594c373crow4_col0\" class=\"data row4 col0\" >0.01207</td>\n",
       "            </tr>\n",
       "            <tr>\n",
       "                        <th id=\"T_f899762a_19b4_11ea_becb_ef15594c373clevel0_row5\" class=\"row_heading level0 row5\" >rada_pokój</th>\n",
       "                        <td id=\"T_f899762a_19b4_11ea_becb_ef15594c373crow5_col0\" class=\"data row5 col0\" >0.01196</td>\n",
       "            </tr>\n",
       "            <tr>\n",
       "                        <th id=\"T_f899762a_19b4_11ea_becb_ef15594c373clevel0_row6\" class=\"row_heading level0 row6\" >obóz_pokój</th>\n",
       "                        <td id=\"T_f899762a_19b4_11ea_becb_ef15594c373crow6_col0\" class=\"data row6 col0\" >0.01174</td>\n",
       "            </tr>\n",
       "            <tr>\n",
       "                        <th id=\"T_f899762a_19b4_11ea_becb_ef15594c373clevel0_row7\" class=\"row_heading level0 row7\" >milion_człowiek</th>\n",
       "                        <td id=\"T_f899762a_19b4_11ea_becb_ef15594c373crow7_col0\" class=\"data row7 col0\" >0.01163</td>\n",
       "            </tr>\n",
       "            <tr>\n",
       "                        <th id=\"T_f899762a_19b4_11ea_becb_ef15594c373clevel0_row8\" class=\"row_heading level0 row8\" >światowy_rada</th>\n",
       "                        <td id=\"T_f899762a_19b4_11ea_becb_ef15594c373crow8_col0\" class=\"data row8 col0\" >0.01093</td>\n",
       "            </tr>\n",
       "            <tr>\n",
       "                        <th id=\"T_f899762a_19b4_11ea_becb_ef15594c373clevel0_row9\" class=\"row_heading level0 row9\" >demokracja_ludowy</th>\n",
       "                        <td id=\"T_f899762a_19b4_11ea_becb_ef15594c373crow9_col0\" class=\"data row9 col0\" >0.0107</td>\n",
       "            </tr>\n",
       "    </tbody></table><style  type=\"text/css\" >\n",
       "</style><table id=\"T_f899762b_19b4_11ea_becb_ef15594c373c\" style='display:inline'><thead>    <tr>        <th class=\"blank level0\" ></th>        <th class=\"col_heading level0 col0\" >topic_3 @lemmatized</th>    </tr></thead><tbody>\n",
       "                <tr>\n",
       "                        <th id=\"T_f899762b_19b4_11ea_becb_ef15594c373clevel0_row0\" class=\"row_heading level0 row0\" >pokój</th>\n",
       "                        <td id=\"T_f899762b_19b4_11ea_becb_ef15594c373crow0_col0\" class=\"data row0 col0\" >0.06413</td>\n",
       "            </tr>\n",
       "            <tr>\n",
       "                        <th id=\"T_f899762b_19b4_11ea_becb_ef15594c373clevel0_row1\" class=\"row_heading level0 row1\" >naród</th>\n",
       "                        <td id=\"T_f899762b_19b4_11ea_becb_ef15594c373crow1_col0\" class=\"data row1 col0\" >0.02149</td>\n",
       "            </tr>\n",
       "            <tr>\n",
       "                        <th id=\"T_f899762b_19b4_11ea_becb_ef15594c373clevel0_row2\" class=\"row_heading level0 row2\" >kraj</th>\n",
       "                        <td id=\"T_f899762b_19b4_11ea_becb_ef15594c373crow2_col0\" class=\"data row2 col0\" >0.01639</td>\n",
       "            </tr>\n",
       "            <tr>\n",
       "                        <th id=\"T_f899762b_19b4_11ea_becb_ef15594c373clevel0_row3\" class=\"row_heading level0 row3\" >walka</th>\n",
       "                        <td id=\"T_f899762b_19b4_11ea_becb_ef15594c373crow3_col0\" class=\"data row3 col0\" >0.01514</td>\n",
       "            </tr>\n",
       "            <tr>\n",
       "                        <th id=\"T_f899762b_19b4_11ea_becb_ef15594c373clevel0_row4\" class=\"row_heading level0 row4\" >światowy</th>\n",
       "                        <td id=\"T_f899762b_19b4_11ea_becb_ef15594c373crow4_col0\" class=\"data row4 col0\" >0.01228</td>\n",
       "            </tr>\n",
       "            <tr>\n",
       "                        <th id=\"T_f899762b_19b4_11ea_becb_ef15594c373clevel0_row5\" class=\"row_heading level0 row5\" >człowiek</th>\n",
       "                        <td id=\"T_f899762b_19b4_11ea_becb_ef15594c373crow5_col0\" class=\"data row5 col0\" >0.01195</td>\n",
       "            </tr>\n",
       "            <tr>\n",
       "                        <th id=\"T_f899762b_19b4_11ea_becb_ef15594c373clevel0_row6\" class=\"row_heading level0 row6\" >młodzież</th>\n",
       "                        <td id=\"T_f899762b_19b4_11ea_becb_ef15594c373crow6_col0\" class=\"data row6 col0\" >0.01104</td>\n",
       "            </tr>\n",
       "            <tr>\n",
       "                        <th id=\"T_f899762b_19b4_11ea_becb_ef15594c373clevel0_row7\" class=\"row_heading level0 row7\" >wszystek</th>\n",
       "                        <td id=\"T_f899762b_19b4_11ea_becb_ef15594c373crow7_col0\" class=\"data row7 col0\" >0.01022</td>\n",
       "            </tr>\n",
       "            <tr>\n",
       "                        <th id=\"T_f899762b_19b4_11ea_becb_ef15594c373clevel0_row8\" class=\"row_heading level0 row8\" >kongres</th>\n",
       "                        <td id=\"T_f899762b_19b4_11ea_becb_ef15594c373crow8_col0\" class=\"data row8 col0\" >0.01</td>\n",
       "            </tr>\n",
       "            <tr>\n",
       "                        <th id=\"T_f899762b_19b4_11ea_becb_ef15594c373clevel0_row9\" class=\"row_heading level0 row9\" >świat</th>\n",
       "                        <td id=\"T_f899762b_19b4_11ea_becb_ef15594c373crow9_col0\" class=\"data row9 col0\" >0.00888</td>\n",
       "            </tr>\n",
       "    </tbody></table>"
      ]
     },
     "metadata": {},
     "output_type": "display_data"
    },
    {
     "data": {
      "text/plain": [
       "['00a2b90d-fde7-413b-8957-e2ceb1b7f287',\n",
       " 'c890994d-8079-47de-b408-6547ec61b7fe',\n",
       " 'e7b77b09-bb8f-424a-a118-25f91a0ed51f',\n",
       " '1db7dfda-64a5-4081-80b1-c5c1e3317e38',\n",
       " '76c4938a-022c-4500-8341-bde775f89fab',\n",
       " '53f5979b-e64c-4ed8-be48-9979383f704f',\n",
       " '548fb2b8-561c-48d9-b007-71e37e08ae93',\n",
       " '97b102e1-edaa-4f76-ad8c-e86414e6570a',\n",
       " '28974d56-c388-4b9e-bd0e-4bf026fc23af',\n",
       " '45cb3b3b-a4d5-4946-9b77-064dffec2851']"
      ]
     },
     "metadata": {},
     "output_type": "display_data"
    },
    {
     "data": {
      "text/html": [
       "<style  type=\"text/css\" >\n",
       "</style><table id=\"T_f899762c_19b4_11ea_becb_ef15594c373c\" style='display:inline'><thead>    <tr>        <th class=\"blank level0\" ></th>        <th class=\"col_heading level0 col0\" >topic_4 @bigram</th>    </tr></thead><tbody>\n",
       "                <tr>\n",
       "                        <th id=\"T_f899762c_19b4_11ea_becb_ef15594c373clevel0_row0\" class=\"row_heading level0 row0\" >przodownik_praca</th>\n",
       "                        <td id=\"T_f899762c_19b4_11ea_becb_ef15594c373crow0_col0\" class=\"data row0 col0\" >0.02488</td>\n",
       "            </tr>\n",
       "            <tr>\n",
       "                        <th id=\"T_f899762c_19b4_11ea_becb_ef15594c373clevel0_row1\" class=\"row_heading level0 row1\" >nowy_huta</th>\n",
       "                        <td id=\"T_f899762c_19b4_11ea_becb_ef15594c373crow1_col0\" class=\"data row1 col0\" >0.02427</td>\n",
       "            </tr>\n",
       "            <tr>\n",
       "                        <th id=\"T_f899762c_19b4_11ea_becb_ef15594c373clevel0_row2\" class=\"row_heading level0 row2\" >plan_letni</th>\n",
       "                        <td id=\"T_f899762c_19b4_11ea_becb_ef15594c373crow2_col0\" class=\"data row2 col0\" >0.01494</td>\n",
       "            </tr>\n",
       "            <tr>\n",
       "                        <th id=\"T_f899762c_19b4_11ea_becb_ef15594c373clevel0_row3\" class=\"row_heading level0 row3\" >M_inaczej</th>\n",
       "                        <td id=\"T_f899762c_19b4_11ea_becb_ef15594c373crow3_col0\" class=\"data row3 col0\" >0.01356</td>\n",
       "            </tr>\n",
       "            <tr>\n",
       "                        <th id=\"T_f899762c_19b4_11ea_becb_ef15594c373clevel0_row4\" class=\"row_heading level0 row4\" >zakład_praca</th>\n",
       "                        <td id=\"T_f899762c_19b4_11ea_becb_ef15594c373crow4_col0\" class=\"data row4 col0\" >0.01353</td>\n",
       "            </tr>\n",
       "            <tr>\n",
       "                        <th id=\"T_f899762c_19b4_11ea_becb_ef15594c373clevel0_row5\" class=\"row_heading level0 row5\" >wykonać_plan</th>\n",
       "                        <td id=\"T_f899762c_19b4_11ea_becb_ef15594c373crow5_col0\" class=\"data row5 col0\" >0.01332</td>\n",
       "            </tr>\n",
       "            <tr>\n",
       "                        <th id=\"T_f899762c_19b4_11ea_becb_ef15594c373clevel0_row6\" class=\"row_heading level0 row6\" >proca_norma</th>\n",
       "                        <td id=\"T_f899762c_19b4_11ea_becb_ef15594c373crow6_col0\" class=\"data row6 col0\" >0.01229</td>\n",
       "            </tr>\n",
       "            <tr>\n",
       "                        <th id=\"T_f899762c_19b4_11ea_becb_ef15594c373clevel0_row7\" class=\"row_heading level0 row7\" >wydajność_praca</th>\n",
       "                        <td id=\"T_f899762c_19b4_11ea_becb_ef15594c373crow7_col0\" class=\"data row7 col0\" >0.00944</td>\n",
       "            </tr>\n",
       "            <tr>\n",
       "                        <th id=\"T_f899762c_19b4_11ea_becb_ef15594c373clevel0_row8\" class=\"row_heading level0 row8\" >wielki_piec</th>\n",
       "                        <td id=\"T_f899762c_19b4_11ea_becb_ef15594c373crow8_col0\" class=\"data row8 col0\" >0.00884</td>\n",
       "            </tr>\n",
       "            <tr>\n",
       "                        <th id=\"T_f899762c_19b4_11ea_becb_ef15594c373clevel0_row9\" class=\"row_heading level0 row9\" >uczcić_rocznica</th>\n",
       "                        <td id=\"T_f899762c_19b4_11ea_becb_ef15594c373crow9_col0\" class=\"data row9 col0\" >0.00841</td>\n",
       "            </tr>\n",
       "    </tbody></table><style  type=\"text/css\" >\n",
       "</style><table id=\"T_f899762d_19b4_11ea_becb_ef15594c373c\" style='display:inline'><thead>    <tr>        <th class=\"blank level0\" ></th>        <th class=\"col_heading level0 col0\" >topic_4 @lemmatized</th>    </tr></thead><tbody>\n",
       "                <tr>\n",
       "                        <th id=\"T_f899762d_19b4_11ea_becb_ef15594c373clevel0_row0\" class=\"row_heading level0 row0\" >praca</th>\n",
       "                        <td id=\"T_f899762d_19b4_11ea_becb_ef15594c373crow0_col0\" class=\"data row0 col0\" >0.02687</td>\n",
       "            </tr>\n",
       "            <tr>\n",
       "                        <th id=\"T_f899762d_19b4_11ea_becb_ef15594c373clevel0_row1\" class=\"row_heading level0 row1\" >robotnik</th>\n",
       "                        <td id=\"T_f899762d_19b4_11ea_becb_ef15594c373crow1_col0\" class=\"data row1 col0\" >0.01892</td>\n",
       "            </tr>\n",
       "            <tr>\n",
       "                        <th id=\"T_f899762d_19b4_11ea_becb_ef15594c373clevel0_row2\" class=\"row_heading level0 row2\" >zakład</th>\n",
       "                        <td id=\"T_f899762d_19b4_11ea_becb_ef15594c373crow2_col0\" class=\"data row2 col0\" >0.01753</td>\n",
       "            </tr>\n",
       "            <tr>\n",
       "                        <th id=\"T_f899762d_19b4_11ea_becb_ef15594c373clevel0_row3\" class=\"row_heading level0 row3\" >załoga</th>\n",
       "                        <td id=\"T_f899762d_19b4_11ea_becb_ef15594c373crow3_col0\" class=\"data row3 col0\" >0.01684</td>\n",
       "            </tr>\n",
       "            <tr>\n",
       "                        <th id=\"T_f899762d_19b4_11ea_becb_ef15594c373clevel0_row4\" class=\"row_heading level0 row4\" >zobowiązanie</th>\n",
       "                        <td id=\"T_f899762d_19b4_11ea_becb_ef15594c373crow4_col0\" class=\"data row4 col0\" >0.01515</td>\n",
       "            </tr>\n",
       "            <tr>\n",
       "                        <th id=\"T_f899762d_19b4_11ea_becb_ef15594c373clevel0_row5\" class=\"row_heading level0 row5\" >plan</th>\n",
       "                        <td id=\"T_f899762d_19b4_11ea_becb_ef15594c373crow5_col0\" class=\"data row5 col0\" >0.01415</td>\n",
       "            </tr>\n",
       "            <tr>\n",
       "                        <th id=\"T_f899762d_19b4_11ea_becb_ef15594c373clevel0_row6\" class=\"row_heading level0 row6\" >nowy</th>\n",
       "                        <td id=\"T_f899762d_19b4_11ea_becb_ef15594c373crow6_col0\" class=\"data row6 col0\" >0.0141</td>\n",
       "            </tr>\n",
       "            <tr>\n",
       "                        <th id=\"T_f899762d_19b4_11ea_becb_ef15594c373clevel0_row7\" class=\"row_heading level0 row7\" >huta</th>\n",
       "                        <td id=\"T_f899762d_19b4_11ea_becb_ef15594c373crow7_col0\" class=\"data row7 col0\" >0.01355</td>\n",
       "            </tr>\n",
       "            <tr>\n",
       "                        <th id=\"T_f899762d_19b4_11ea_becb_ef15594c373clevel0_row8\" class=\"row_heading level0 row8\" >wykonać</th>\n",
       "                        <td id=\"T_f899762d_19b4_11ea_becb_ef15594c373crow8_col0\" class=\"data row8 col0\" >0.01321</td>\n",
       "            </tr>\n",
       "            <tr>\n",
       "                        <th id=\"T_f899762d_19b4_11ea_becb_ef15594c373clevel0_row9\" class=\"row_heading level0 row9\" >fabryka</th>\n",
       "                        <td id=\"T_f899762d_19b4_11ea_becb_ef15594c373crow9_col0\" class=\"data row9 col0\" >0.01291</td>\n",
       "            </tr>\n",
       "    </tbody></table>"
      ]
     },
     "metadata": {},
     "output_type": "display_data"
    },
    {
     "data": {
      "text/plain": [
       "['2e14b709-1c86-4a41-875d-186aacbce0fe',\n",
       " '32444e73-34e4-4e48-8dfa-aeba2dd7b684',\n",
       " 'fe3902ab-5767-486e-bd1e-c3a64441b538',\n",
       " '31686cdc-b751-459b-9446-04db2cbccae3',\n",
       " '42e16674-6391-426a-bf9f-1968f2f4782d',\n",
       " 'c0666c07-cf9e-4155-9d62-dfb5ab501856',\n",
       " '0e95538c-955e-45b2-b182-66da41cd8e46',\n",
       " 'f6ba1b12-a656-454f-924a-4c451019f9a5',\n",
       " '278a9cdd-a00d-4a71-8d43-3e385901ac3d',\n",
       " '5c595858-c362-4270-8141-67c67af68c5c']"
      ]
     },
     "metadata": {},
     "output_type": "display_data"
    },
    {
     "data": {
      "text/html": [
       "<style  type=\"text/css\" >\n",
       "</style><table id=\"T_f899762e_19b4_11ea_becb_ef15594c373c\" style='display:inline'><thead>    <tr>        <th class=\"blank level0\" ></th>        <th class=\"col_heading level0 col0\" >topic_5 @bigram</th>    </tr></thead><tbody>\n",
       "                <tr>\n",
       "                        <th id=\"T_f899762e_19b4_11ea_becb_ef15594c373clevel0_row0\" class=\"row_heading level0 row0\" >zespół_artystyczny</th>\n",
       "                        <td id=\"T_f899762e_19b4_11ea_becb_ef15594c373crow0_col0\" class=\"data row0 col0\" >0.02269</td>\n",
       "            </tr>\n",
       "            <tr>\n",
       "                        <th id=\"T_f899762e_19b4_11ea_becb_ef15594c373clevel0_row1\" class=\"row_heading level0 row1\" >oficer_podoficer</th>\n",
       "                        <td id=\"T_f899762e_19b4_11ea_becb_ef15594c373crow1_col0\" class=\"data row1 col0\" >0.01561</td>\n",
       "            </tr>\n",
       "            <tr>\n",
       "                        <th id=\"T_f899762e_19b4_11ea_becb_ef15594c373clevel0_row2\" class=\"row_heading level0 row2\" >obóz_letni</th>\n",
       "                        <td id=\"T_f899762e_19b4_11ea_becb_ef15594c373crow2_col0\" class=\"data row2 col0\" >0.01532</td>\n",
       "            </tr>\n",
       "            <tr>\n",
       "                        <th id=\"T_f899762e_19b4_11ea_becb_ef15594c373clevel0_row3\" class=\"row_heading level0 row3\" >ćwiczenia_taktyczny</th>\n",
       "                        <td id=\"T_f899762e_19b4_11ea_becb_ef15594c373crow3_col0\" class=\"data row3 col0\" >0.01101</td>\n",
       "            </tr>\n",
       "            <tr>\n",
       "                        <th id=\"T_f899762e_19b4_11ea_becb_ef15594c373clevel0_row4\" class=\"row_heading level0 row4\" >wóz_bojowy</th>\n",
       "                        <td id=\"T_f899762e_19b4_11ea_becb_ef15594c373crow4_col0\" class=\"data row4 col0\" >0.01027</td>\n",
       "            </tr>\n",
       "            <tr>\n",
       "                        <th id=\"T_f899762e_19b4_11ea_becb_ef15594c373clevel0_row5\" class=\"row_heading level0 row5\" >pole_walka</th>\n",
       "                        <td id=\"T_f899762e_19b4_11ea_becb_ef15594c373crow5_col0\" class=\"data row5 col0\" >0.01019</td>\n",
       "            </tr>\n",
       "            <tr>\n",
       "                        <th id=\"T_f899762e_19b4_11ea_becb_ef15594c373clevel0_row6\" class=\"row_heading level0 row6\" >zajęcia_taktyczny</th>\n",
       "                        <td id=\"T_f899762e_19b4_11ea_becb_ef15594c373crow6_col0\" class=\"data row6 col0\" >0.00998</td>\n",
       "            </tr>\n",
       "            <tr>\n",
       "                        <th id=\"T_f899762e_19b4_11ea_becb_ef15594c373clevel0_row7\" class=\"row_heading level0 row7\" >sprzęt_bojowy</th>\n",
       "                        <td id=\"T_f899762e_19b4_11ea_becb_ef15594c373crow7_col0\" class=\"data row7 col0\" >0.00878</td>\n",
       "            </tr>\n",
       "            <tr>\n",
       "                        <th id=\"T_f899762e_19b4_11ea_becb_ef15594c373clevel0_row8\" class=\"row_heading level0 row8\" >przyjaźń_Polska</th>\n",
       "                        <td id=\"T_f899762e_19b4_11ea_becb_ef15594c373crow8_col0\" class=\"data row8 col0\" >0.0081</td>\n",
       "            </tr>\n",
       "            <tr>\n",
       "                        <th id=\"T_f899762e_19b4_11ea_becb_ef15594c373clevel0_row9\" class=\"row_heading level0 row9\" >wysoki_poziom</th>\n",
       "                        <td id=\"T_f899762e_19b4_11ea_becb_ef15594c373crow9_col0\" class=\"data row9 col0\" >0.00772</td>\n",
       "            </tr>\n",
       "    </tbody></table><style  type=\"text/css\" >\n",
       "</style><table id=\"T_f899762f_19b4_11ea_becb_ef15594c373c\" style='display:inline'><thead>    <tr>        <th class=\"blank level0\" ></th>        <th class=\"col_heading level0 col0\" >topic_5 @lemmatized</th>    </tr></thead><tbody>\n",
       "                <tr>\n",
       "                        <th id=\"T_f899762f_19b4_11ea_becb_ef15594c373clevel0_row0\" class=\"row_heading level0 row0\" >ćwiczenia</th>\n",
       "                        <td id=\"T_f899762f_19b4_11ea_becb_ef15594c373crow0_col0\" class=\"data row0 col0\" >0.01534</td>\n",
       "            </tr>\n",
       "            <tr>\n",
       "                        <th id=\"T_f899762f_19b4_11ea_becb_ef15594c373clevel0_row1\" class=\"row_heading level0 row1\" >zespół</th>\n",
       "                        <td id=\"T_f899762f_19b4_11ea_becb_ef15594c373crow1_col0\" class=\"data row1 col0\" >0.01198</td>\n",
       "            </tr>\n",
       "            <tr>\n",
       "                        <th id=\"T_f899762f_19b4_11ea_becb_ef15594c373clevel0_row2\" class=\"row_heading level0 row2\" >oficer</th>\n",
       "                        <td id=\"T_f899762f_19b4_11ea_becb_ef15594c373crow2_col0\" class=\"data row2 col0\" >0.01129</td>\n",
       "            </tr>\n",
       "            <tr>\n",
       "                        <th id=\"T_f899762f_19b4_11ea_becb_ef15594c373clevel0_row3\" class=\"row_heading level0 row3\" >bojowy</th>\n",
       "                        <td id=\"T_f899762f_19b4_11ea_becb_ef15594c373crow3_col0\" class=\"data row3 col0\" >0.0111</td>\n",
       "            </tr>\n",
       "            <tr>\n",
       "                        <th id=\"T_f899762f_19b4_11ea_becb_ef15594c373clevel0_row4\" class=\"row_heading level0 row4\" >czołg</th>\n",
       "                        <td id=\"T_f899762f_19b4_11ea_becb_ef15594c373crow4_col0\" class=\"data row4 col0\" >0.01069</td>\n",
       "            </tr>\n",
       "            <tr>\n",
       "                        <th id=\"T_f899762f_19b4_11ea_becb_ef15594c373clevel0_row5\" class=\"row_heading level0 row5\" >obóz</th>\n",
       "                        <td id=\"T_f899762f_19b4_11ea_becb_ef15594c373crow5_col0\" class=\"data row5 col0\" >0.01046</td>\n",
       "            </tr>\n",
       "            <tr>\n",
       "                        <th id=\"T_f899762f_19b4_11ea_becb_ef15594c373clevel0_row6\" class=\"row_heading level0 row6\" >zajęcia</th>\n",
       "                        <td id=\"T_f899762f_19b4_11ea_becb_ef15594c373crow6_col0\" class=\"data row6 col0\" >0.00987</td>\n",
       "            </tr>\n",
       "            <tr>\n",
       "                        <th id=\"T_f899762f_19b4_11ea_becb_ef15594c373clevel0_row7\" class=\"row_heading level0 row7\" >artystyczny</th>\n",
       "                        <td id=\"T_f899762f_19b4_11ea_becb_ef15594c373crow7_col0\" class=\"data row7 col0\" >0.00858</td>\n",
       "            </tr>\n",
       "            <tr>\n",
       "                        <th id=\"T_f899762f_19b4_11ea_becb_ef15594c373clevel0_row8\" class=\"row_heading level0 row8\" >teren</th>\n",
       "                        <td id=\"T_f899762f_19b4_11ea_becb_ef15594c373crow8_col0\" class=\"data row8 col0\" >0.00808</td>\n",
       "            </tr>\n",
       "            <tr>\n",
       "                        <th id=\"T_f899762f_19b4_11ea_becb_ef15594c373clevel0_row9\" class=\"row_heading level0 row9\" >należeć</th>\n",
       "                        <td id=\"T_f899762f_19b4_11ea_becb_ef15594c373crow9_col0\" class=\"data row9 col0\" >0.00787</td>\n",
       "            </tr>\n",
       "    </tbody></table>"
      ]
     },
     "metadata": {},
     "output_type": "display_data"
    },
    {
     "data": {
      "text/plain": [
       "['a42a1fce-bb10-40af-bc2e-b6d0af9fb466',\n",
       " '7f4a25ab-653c-4c0e-b740-3125538da0a1',\n",
       " 'a2b3c7a1-36db-4fb8-8cb7-109dd3e04ce1',\n",
       " 'a1ea6ca8-f6e5-42a9-8f7e-2f3e0c854546',\n",
       " 'f9a9b0bf-0640-426c-a3e9-5968d5bdc5ea',\n",
       " 'bb125cd0-316e-4349-83bf-e8402f97554b',\n",
       " 'b03ed7cf-26fa-42ab-8c87-0f22d78a7802',\n",
       " '49fcecd2-0c46-4481-a8c8-e549d0c2fef1',\n",
       " '86dbb1b8-e2b5-4b40-b9c0-58740c054249',\n",
       " 'c6816745-a64c-49c2-be8f-a4b9837708b4']"
      ]
     },
     "metadata": {},
     "output_type": "display_data"
    },
    {
     "data": {
      "text/html": [
       "<style  type=\"text/css\" >\n",
       "</style><table id=\"T_f8997630_19b4_11ea_becb_ef15594c373c\" style='display:inline'><thead>    <tr>        <th class=\"blank level0\" ></th>        <th class=\"col_heading level0 col0\" >topic_6 @bigram</th>    </tr></thead><tbody>\n",
       "                <tr>\n",
       "                        <th id=\"T_f8997630_19b4_11ea_becb_ef15594c373clevel0_row0\" class=\"row_heading level0 row0\" >związek_radziecki</th>\n",
       "                        <td id=\"T_f8997630_19b4_11ea_becb_ef15594c373crow0_col0\" class=\"data row0 col0\" >0.05855</td>\n",
       "            </tr>\n",
       "            <tr>\n",
       "                        <th id=\"T_f8997630_19b4_11ea_becb_ef15594c373clevel0_row1\" class=\"row_heading level0 row1\" >klasa_robotniczy</th>\n",
       "                        <td id=\"T_f8997630_19b4_11ea_becb_ef15594c373crow1_col0\" class=\"data row1 col0\" >0.02589</td>\n",
       "            </tr>\n",
       "            <tr>\n",
       "                        <th id=\"T_f8997630_19b4_11ea_becb_ef15594c373clevel0_row2\" class=\"row_heading level0 row2\" >armia_radziecki</th>\n",
       "                        <td id=\"T_f8997630_19b4_11ea_becb_ef15594c373crow2_col0\" class=\"data row2 col0\" >0.02536</td>\n",
       "            </tr>\n",
       "            <tr>\n",
       "                        <th id=\"T_f8997630_19b4_11ea_becb_ef15594c373clevel0_row3\" class=\"row_heading level0 row3\" >naród_polski</th>\n",
       "                        <td id=\"T_f8997630_19b4_11ea_becb_ef15594c373crow3_col0\" class=\"data row3 col0\" >0.02387</td>\n",
       "            </tr>\n",
       "            <tr>\n",
       "                        <th id=\"T_f8997630_19b4_11ea_becb_ef15594c373clevel0_row4\" class=\"row_heading level0 row4\" >naród_radziecki</th>\n",
       "                        <td id=\"T_f8997630_19b4_11ea_becb_ef15594c373crow4_col0\" class=\"data row4 col0\" >0.01601</td>\n",
       "            </tr>\n",
       "            <tr>\n",
       "                        <th id=\"T_f8997630_19b4_11ea_becb_ef15594c373clevel0_row5\" class=\"row_heading level0 row5\" >towarzysz_Stalin</th>\n",
       "                        <td id=\"T_f8997630_19b4_11ea_becb_ef15594c373crow5_col0\" class=\"data row5 col0\" >0.01232</td>\n",
       "            </tr>\n",
       "            <tr>\n",
       "                        <th id=\"T_f8997630_19b4_11ea_becb_ef15594c373clevel0_row6\" class=\"row_heading level0 row6\" >Partia_komunistyczny</th>\n",
       "                        <td id=\"T_f8997630_19b4_11ea_becb_ef15594c373crow6_col0\" class=\"data row6 col0\" >0.01205</td>\n",
       "            </tr>\n",
       "            <tr>\n",
       "                        <th id=\"T_f8997630_19b4_11ea_becb_ef15594c373clevel0_row7\" class=\"row_heading level0 row7\" >komunistyczny_Partia</th>\n",
       "                        <td id=\"T_f8997630_19b4_11ea_becb_ef15594c373crow7_col0\" class=\"data row7 col0\" >0.01084</td>\n",
       "            </tr>\n",
       "            <tr>\n",
       "                        <th id=\"T_f8997630_19b4_11ea_becb_ef15594c373clevel0_row8\" class=\"row_heading level0 row8\" >człowiek_radziecki</th>\n",
       "                        <td id=\"T_f8997630_19b4_11ea_becb_ef15594c373crow8_col0\" class=\"data row8 col0\" >0.00895</td>\n",
       "            </tr>\n",
       "            <tr>\n",
       "                        <th id=\"T_f8997630_19b4_11ea_becb_ef15594c373clevel0_row9\" class=\"row_heading level0 row9\" >rewolucja_październikowy</th>\n",
       "                        <td id=\"T_f8997630_19b4_11ea_becb_ef15594c373crow9_col0\" class=\"data row9 col0\" >0.00841</td>\n",
       "            </tr>\n",
       "    </tbody></table><style  type=\"text/css\" >\n",
       "</style><table id=\"T_f8997631_19b4_11ea_becb_ef15594c373c\" style='display:inline'><thead>    <tr>        <th class=\"blank level0\" ></th>        <th class=\"col_heading level0 col0\" >topic_6 @lemmatized</th>    </tr></thead><tbody>\n",
       "                <tr>\n",
       "                        <th id=\"T_f8997631_19b4_11ea_becb_ef15594c373clevel0_row0\" class=\"row_heading level0 row0\" >radziecki</th>\n",
       "                        <td id=\"T_f8997631_19b4_11ea_becb_ef15594c373crow0_col0\" class=\"data row0 col0\" >0.045</td>\n",
       "            </tr>\n",
       "            <tr>\n",
       "                        <th id=\"T_f8997631_19b4_11ea_becb_ef15594c373clevel0_row1\" class=\"row_heading level0 row1\" >naród</th>\n",
       "                        <td id=\"T_f8997631_19b4_11ea_becb_ef15594c373crow1_col0\" class=\"data row1 col0\" >0.02571</td>\n",
       "            </tr>\n",
       "            <tr>\n",
       "                        <th id=\"T_f8997631_19b4_11ea_becb_ef15594c373clevel0_row2\" class=\"row_heading level0 row2\" >walka</th>\n",
       "                        <td id=\"T_f8997631_19b4_11ea_becb_ef15594c373crow2_col0\" class=\"data row2 col0\" >0.02255</td>\n",
       "            </tr>\n",
       "            <tr>\n",
       "                        <th id=\"T_f8997631_19b4_11ea_becb_ef15594c373clevel0_row3\" class=\"row_heading level0 row3\" >wielki</th>\n",
       "                        <td id=\"T_f8997631_19b4_11ea_becb_ef15594c373crow3_col0\" class=\"data row3 col0\" >0.0161</td>\n",
       "            </tr>\n",
       "            <tr>\n",
       "                        <th id=\"T_f8997631_19b4_11ea_becb_ef15594c373clevel0_row4\" class=\"row_heading level0 row4\" >Partia</th>\n",
       "                        <td id=\"T_f8997631_19b4_11ea_becb_ef15594c373crow4_col0\" class=\"data row4 col0\" >0.01597</td>\n",
       "            </tr>\n",
       "            <tr>\n",
       "                        <th id=\"T_f8997631_19b4_11ea_becb_ef15594c373clevel0_row5\" class=\"row_heading level0 row5\" >polski</th>\n",
       "                        <td id=\"T_f8997631_19b4_11ea_becb_ef15594c373crow5_col0\" class=\"data row5 col0\" >0.01588</td>\n",
       "            </tr>\n",
       "            <tr>\n",
       "                        <th id=\"T_f8997631_19b4_11ea_becb_ef15594c373clevel0_row6\" class=\"row_heading level0 row6\" >armia</th>\n",
       "                        <td id=\"T_f8997631_19b4_11ea_becb_ef15594c373crow6_col0\" class=\"data row6 col0\" >0.01486</td>\n",
       "            </tr>\n",
       "            <tr>\n",
       "                        <th id=\"T_f8997631_19b4_11ea_becb_ef15594c373clevel0_row7\" class=\"row_heading level0 row7\" >związek</th>\n",
       "                        <td id=\"T_f8997631_19b4_11ea_becb_ef15594c373crow7_col0\" class=\"data row7 col0\" >0.01376</td>\n",
       "            </tr>\n",
       "            <tr>\n",
       "                        <th id=\"T_f8997631_19b4_11ea_becb_ef15594c373clevel0_row8\" class=\"row_heading level0 row8\" >Stalin</th>\n",
       "                        <td id=\"T_f8997631_19b4_11ea_becb_ef15594c373crow8_col0\" class=\"data row8 col0\" >0.0124</td>\n",
       "            </tr>\n",
       "            <tr>\n",
       "                        <th id=\"T_f8997631_19b4_11ea_becb_ef15594c373clevel0_row9\" class=\"row_heading level0 row9\" >robotniczy</th>\n",
       "                        <td id=\"T_f8997631_19b4_11ea_becb_ef15594c373crow9_col0\" class=\"data row9 col0\" >0.01063</td>\n",
       "            </tr>\n",
       "    </tbody></table>"
      ]
     },
     "metadata": {},
     "output_type": "display_data"
    },
    {
     "data": {
      "text/plain": [
       "['b6145d25-661c-4a0b-b81d-4ede2d2e1edf',\n",
       " 'b8ffd08c-2c88-47a9-9db7-266895c9cc88',\n",
       " 'f2d9e28e-7e04-4be8-84ae-f87859e3d89d',\n",
       " '2a653a5a-da72-4bb9-b852-9b3c54b5af4d',\n",
       " '358e9913-b34e-46f3-b9a5-7255cadee690',\n",
       " 'b4052a34-86a2-4fb6-954f-11644952fc00',\n",
       " '25ac62c0-03ff-481c-a292-94e5d60ad2d0',\n",
       " 'bff60e70-d2f8-478f-9e4f-504075a473e4',\n",
       " 'cc4bd2b2-7a55-4096-9883-b51caaf33ba1',\n",
       " 'd27ef5bb-db1a-4642-b251-79b0fcc980dc']"
      ]
     },
     "metadata": {},
     "output_type": "display_data"
    },
    {
     "data": {
      "text/html": [
       "<style  type=\"text/css\" >\n",
       "</style><table id=\"T_f8997632_19b4_11ea_becb_ef15594c373c\" style='display:inline'><thead>    <tr>        <th class=\"blank level0\" ></th>        <th class=\"col_heading level0 col0\" >topic_7 @bigram</th>    </tr></thead><tbody>\n",
       "                <tr>\n",
       "                        <th id=\"T_f8997632_19b4_11ea_becb_ef15594c373clevel0_row0\" class=\"row_heading level0 row0\" >wojsko_polski</th>\n",
       "                        <td id=\"T_f8997632_19b4_11ea_becb_ef15594c373crow0_col0\" class=\"data row0 col0\" >0.04983</td>\n",
       "            </tr>\n",
       "            <tr>\n",
       "                        <th id=\"T_f8997632_19b4_11ea_becb_ef15594c373clevel0_row1\" class=\"row_heading level0 row1\" >Polska_ludowy</th>\n",
       "                        <td id=\"T_f8997632_19b4_11ea_becb_ef15594c373crow1_col0\" class=\"data row1 col0\" >0.0285</td>\n",
       "            </tr>\n",
       "            <tr>\n",
       "                        <th id=\"T_f8997632_19b4_11ea_becb_ef15594c373clevel0_row2\" class=\"row_heading level0 row2\" >ludowy_wojsko</th>\n",
       "                        <td id=\"T_f8997632_19b4_11ea_becb_ef15594c373crow2_col0\" class=\"data row2 col0\" >0.02438</td>\n",
       "            </tr>\n",
       "            <tr>\n",
       "                        <th id=\"T_f8997632_19b4_11ea_becb_ef15594c373clevel0_row3\" class=\"row_heading level0 row3\" >naród_polski</th>\n",
       "                        <td id=\"T_f8997632_19b4_11ea_becb_ef15594c373crow3_col0\" class=\"data row3 col0\" >0.01732</td>\n",
       "            </tr>\n",
       "            <tr>\n",
       "                        <th id=\"T_f8997632_19b4_11ea_becb_ef15594c373clevel0_row4\" class=\"row_heading level0 row4\" >rzeczpospolita_ludowy</th>\n",
       "                        <td id=\"T_f8997632_19b4_11ea_becb_ef15594c373crow4_col0\" class=\"data row4 col0\" >0.01258</td>\n",
       "            </tr>\n",
       "            <tr>\n",
       "                        <th id=\"T_f8997632_19b4_11ea_becb_ef15594c373clevel0_row5\" class=\"row_heading level0 row5\" >polski_rzeczpospolita</th>\n",
       "                        <td id=\"T_f8997632_19b4_11ea_becb_ef15594c373crow5_col0\" class=\"data row5 col0\" >0.01255</td>\n",
       "            </tr>\n",
       "            <tr>\n",
       "                        <th id=\"T_f8997632_19b4_11ea_becb_ef15594c373clevel0_row6\" class=\"row_heading level0 row6\" >armia_radziecki</th>\n",
       "                        <td id=\"T_f8997632_19b4_11ea_becb_ef15594c373crow6_col0\" class=\"data row6 col0\" >0.01157</td>\n",
       "            </tr>\n",
       "            <tr>\n",
       "                        <th id=\"T_f8997632_19b4_11ea_becb_ef15594c373clevel0_row7\" class=\"row_heading level0 row7\" >ludowy_ojczyzna</th>\n",
       "                        <td id=\"T_f8997632_19b4_11ea_becb_ef15594c373crow7_col0\" class=\"data row7 col0\" >0.01037</td>\n",
       "            </tr>\n",
       "            <tr>\n",
       "                        <th id=\"T_f8997632_19b4_11ea_becb_ef15594c373clevel0_row8\" class=\"row_heading level0 row8\" >lud_pracować</th>\n",
       "                        <td id=\"T_f8997632_19b4_11ea_becb_ef15594c373crow8_col0\" class=\"data row8 col0\" >0.00848</td>\n",
       "            </tr>\n",
       "            <tr>\n",
       "                        <th id=\"T_f8997632_19b4_11ea_becb_ef15594c373clevel0_row9\" class=\"row_heading level0 row9\" >Bolesław_Bierut</th>\n",
       "                        <td id=\"T_f8997632_19b4_11ea_becb_ef15594c373crow9_col0\" class=\"data row9 col0\" >0.00773</td>\n",
       "            </tr>\n",
       "    </tbody></table><style  type=\"text/css\" >\n",
       "</style><table id=\"T_f8997633_19b4_11ea_becb_ef15594c373c\" style='display:inline'><thead>    <tr>        <th class=\"blank level0\" ></th>        <th class=\"col_heading level0 col0\" >topic_7 @lemmatized</th>    </tr></thead><tbody>\n",
       "                <tr>\n",
       "                        <th id=\"T_f8997633_19b4_11ea_becb_ef15594c373clevel0_row0\" class=\"row_heading level0 row0\" >polski</th>\n",
       "                        <td id=\"T_f8997633_19b4_11ea_becb_ef15594c373crow0_col0\" class=\"data row0 col0\" >0.04364</td>\n",
       "            </tr>\n",
       "            <tr>\n",
       "                        <th id=\"T_f8997633_19b4_11ea_becb_ef15594c373clevel0_row1\" class=\"row_heading level0 row1\" >ludowy</th>\n",
       "                        <td id=\"T_f8997633_19b4_11ea_becb_ef15594c373crow1_col0\" class=\"data row1 col0\" >0.0302</td>\n",
       "            </tr>\n",
       "            <tr>\n",
       "                        <th id=\"T_f8997633_19b4_11ea_becb_ef15594c373clevel0_row2\" class=\"row_heading level0 row2\" >wojsko</th>\n",
       "                        <td id=\"T_f8997633_19b4_11ea_becb_ef15594c373crow2_col0\" class=\"data row2 col0\" >0.0241</td>\n",
       "            </tr>\n",
       "            <tr>\n",
       "                        <th id=\"T_f8997633_19b4_11ea_becb_ef15594c373clevel0_row3\" class=\"row_heading level0 row3\" >żołnierz</th>\n",
       "                        <td id=\"T_f8997633_19b4_11ea_becb_ef15594c373crow3_col0\" class=\"data row3 col0\" >0.02054</td>\n",
       "            </tr>\n",
       "            <tr>\n",
       "                        <th id=\"T_f8997633_19b4_11ea_becb_ef15594c373clevel0_row4\" class=\"row_heading level0 row4\" >Polska</th>\n",
       "                        <td id=\"T_f8997633_19b4_11ea_becb_ef15594c373crow4_col0\" class=\"data row4 col0\" >0.01763</td>\n",
       "            </tr>\n",
       "            <tr>\n",
       "                        <th id=\"T_f8997633_19b4_11ea_becb_ef15594c373clevel0_row5\" class=\"row_heading level0 row5\" >ojczyzna</th>\n",
       "                        <td id=\"T_f8997633_19b4_11ea_becb_ef15594c373crow5_col0\" class=\"data row5 col0\" >0.01394</td>\n",
       "            </tr>\n",
       "            <tr>\n",
       "                        <th id=\"T_f8997633_19b4_11ea_becb_ef15594c373clevel0_row6\" class=\"row_heading level0 row6\" >naród</th>\n",
       "                        <td id=\"T_f8997633_19b4_11ea_becb_ef15594c373crow6_col0\" class=\"data row6 col0\" >0.01125</td>\n",
       "            </tr>\n",
       "            <tr>\n",
       "                        <th id=\"T_f8997633_19b4_11ea_becb_ef15594c373clevel0_row7\" class=\"row_heading level0 row7\" >armia</th>\n",
       "                        <td id=\"T_f8997633_19b4_11ea_becb_ef15594c373crow7_col0\" class=\"data row7 col0\" >0.00794</td>\n",
       "            </tr>\n",
       "            <tr>\n",
       "                        <th id=\"T_f8997633_19b4_11ea_becb_ef15594c373clevel0_row8\" class=\"row_heading level0 row8\" >wojskowy</th>\n",
       "                        <td id=\"T_f8997633_19b4_11ea_becb_ef15594c373crow8_col0\" class=\"data row8 col0\" >0.00764</td>\n",
       "            </tr>\n",
       "            <tr>\n",
       "                        <th id=\"T_f8997633_19b4_11ea_becb_ef15594c373clevel0_row9\" class=\"row_heading level0 row9\" >radziecki</th>\n",
       "                        <td id=\"T_f8997633_19b4_11ea_becb_ef15594c373crow9_col0\" class=\"data row9 col0\" >0.00745</td>\n",
       "            </tr>\n",
       "    </tbody></table>"
      ]
     },
     "metadata": {},
     "output_type": "display_data"
    },
    {
     "data": {
      "text/plain": [
       "['7636ca0b-8f22-4b4e-9a8b-f2363486890e',\n",
       " '199097de-b5da-464c-9527-47d6c5bc9fd9',\n",
       " '4e354c3e-6996-4d58-bf49-60f61f1d969f',\n",
       " '42ce043b-06b1-45bb-918b-35d6630ccada',\n",
       " '83e44ae8-9cb0-472c-97b6-45d473eaa4ec',\n",
       " '026dbde8-27ba-4609-a7c1-bc9873c8e38e',\n",
       " '033aac38-afeb-4632-96e5-84ea6a6b90ca',\n",
       " 'd9f156a9-bb40-4cac-a544-71301f0f84d7',\n",
       " '60fd268d-5696-4439-b4b2-197f3b7054bb',\n",
       " 'df50391f-d363-416e-862e-725e96052d27']"
      ]
     },
     "metadata": {},
     "output_type": "display_data"
    },
    {
     "data": {
      "text/html": [
       "<style  type=\"text/css\" >\n",
       "</style><table id=\"T_f8997634_19b4_11ea_becb_ef15594c373c\" style='display:inline'><thead>    <tr>        <th class=\"blank level0\" ></th>        <th class=\"col_heading level0 col0\" >topic_8 @bigram</th>    </tr></thead><tbody>\n",
       "                <tr>\n",
       "                        <th id=\"T_f8997634_19b4_11ea_becb_ef15594c373clevel0_row0\" class=\"row_heading level0 row0\" >młody_oficer</th>\n",
       "                        <td id=\"T_f8997634_19b4_11ea_becb_ef15594c373crow0_col0\" class=\"data row0 col0\" >0.01278</td>\n",
       "            </tr>\n",
       "            <tr>\n",
       "                        <th id=\"T_f8997634_19b4_11ea_becb_ef15594c373clevel0_row1\" class=\"row_heading level0 row1\" >służba_wartowniczy</th>\n",
       "                        <td id=\"T_f8997634_19b4_11ea_becb_ef15594c373crow1_col0\" class=\"data row1 col0\" >0.01259</td>\n",
       "            </tr>\n",
       "            <tr>\n",
       "                        <th id=\"T_f8997634_19b4_11ea_becb_ef15594c373clevel0_row2\" class=\"row_heading level0 row2\" >pomoc_naukowy</th>\n",
       "                        <td id=\"T_f8997634_19b4_11ea_becb_ef15594c373crow2_col0\" class=\"data row2 col0\" >0.0104</td>\n",
       "            </tr>\n",
       "            <tr>\n",
       "                        <th id=\"T_f8997634_19b4_11ea_becb_ef15594c373clevel0_row3\" class=\"row_heading level0 row3\" >pełnieć_służba</th>\n",
       "                        <td id=\"T_f8997634_19b4_11ea_becb_ef15594c373crow3_col0\" class=\"data row3 col0\" >0.01031</td>\n",
       "            </tr>\n",
       "            <tr>\n",
       "                        <th id=\"T_f8997634_19b4_11ea_becb_ef15594c373clevel0_row4\" class=\"row_heading level0 row4\" >Sala_wykładowy</th>\n",
       "                        <td id=\"T_f8997634_19b4_11ea_becb_ef15594c373crow4_col0\" class=\"data row4 col0\" >0.00929</td>\n",
       "            </tr>\n",
       "            <tr>\n",
       "                        <th id=\"T_f8997634_19b4_11ea_becb_ef15594c373clevel0_row5\" class=\"row_heading level0 row5\" >dowódca_oddział</th>\n",
       "                        <td id=\"T_f8997634_19b4_11ea_becb_ef15594c373crow5_col0\" class=\"data row5 col0\" >0.00755</td>\n",
       "            </tr>\n",
       "            <tr>\n",
       "                        <th id=\"T_f8997634_19b4_11ea_becb_ef15594c373clevel0_row6\" class=\"row_heading level0 row6\" >regulamin_służba</th>\n",
       "                        <td id=\"T_f8997634_19b4_11ea_becb_ef15594c373crow6_col0\" class=\"data row6 col0\" >0.00732</td>\n",
       "            </tr>\n",
       "            <tr>\n",
       "                        <th id=\"T_f8997634_19b4_11ea_becb_ef15594c373clevel0_row7\" class=\"row_heading level0 row7\" >szkoła_oficerski</th>\n",
       "                        <td id=\"T_f8997634_19b4_11ea_becb_ef15594c373crow7_col0\" class=\"data row7 col0\" >0.00709</td>\n",
       "            </tr>\n",
       "            <tr>\n",
       "                        <th id=\"T_f8997634_19b4_11ea_becb_ef15594c373clevel0_row8\" class=\"row_heading level0 row8\" >służba_wewnętrzny</th>\n",
       "                        <td id=\"T_f8997634_19b4_11ea_becb_ef15594c373crow8_col0\" class=\"data row8 col0\" >0.00685</td>\n",
       "            </tr>\n",
       "            <tr>\n",
       "                        <th id=\"T_f8997634_19b4_11ea_becb_ef15594c373clevel0_row9\" class=\"row_heading level0 row9\" >młody_pilot</th>\n",
       "                        <td id=\"T_f8997634_19b4_11ea_becb_ef15594c373crow9_col0\" class=\"data row9 col0\" >0.00678</td>\n",
       "            </tr>\n",
       "    </tbody></table><style  type=\"text/css\" >\n",
       "</style><table id=\"T_f8997635_19b4_11ea_becb_ef15594c373c\" style='display:inline'><thead>    <tr>        <th class=\"blank level0\" ></th>        <th class=\"col_heading level0 col0\" >topic_8 @lemmatized</th>    </tr></thead><tbody>\n",
       "                <tr>\n",
       "                        <th id=\"T_f8997635_19b4_11ea_becb_ef15594c373clevel0_row0\" class=\"row_heading level0 row0\" >oficer</th>\n",
       "                        <td id=\"T_f8997635_19b4_11ea_becb_ef15594c373crow0_col0\" class=\"data row0 col0\" >0.01907</td>\n",
       "            </tr>\n",
       "            <tr>\n",
       "                        <th id=\"T_f8997635_19b4_11ea_becb_ef15594c373clevel0_row1\" class=\"row_heading level0 row1\" >praca</th>\n",
       "                        <td id=\"T_f8997635_19b4_11ea_becb_ef15594c373crow1_col0\" class=\"data row1 col0\" >0.01594</td>\n",
       "            </tr>\n",
       "            <tr>\n",
       "                        <th id=\"T_f8997635_19b4_11ea_becb_ef15594c373clevel0_row2\" class=\"row_heading level0 row2\" >służba</th>\n",
       "                        <td id=\"T_f8997635_19b4_11ea_becb_ef15594c373crow2_col0\" class=\"data row2 col0\" >0.01293</td>\n",
       "            </tr>\n",
       "            <tr>\n",
       "                        <th id=\"T_f8997635_19b4_11ea_becb_ef15594c373clevel0_row3\" class=\"row_heading level0 row3\" >sprzęt</th>\n",
       "                        <td id=\"T_f8997635_19b4_11ea_becb_ef15594c373crow3_col0\" class=\"data row3 col0\" >0.01201</td>\n",
       "            </tr>\n",
       "            <tr>\n",
       "                        <th id=\"T_f8997635_19b4_11ea_becb_ef15594c373clevel0_row4\" class=\"row_heading level0 row4\" >oddział</th>\n",
       "                        <td id=\"T_f8997635_19b4_11ea_becb_ef15594c373crow4_col0\" class=\"data row4 col0\" >0.01174</td>\n",
       "            </tr>\n",
       "            <tr>\n",
       "                        <th id=\"T_f8997635_19b4_11ea_becb_ef15594c373clevel0_row5\" class=\"row_heading level0 row5\" >żołnierz</th>\n",
       "                        <td id=\"T_f8997635_19b4_11ea_becb_ef15594c373crow5_col0\" class=\"data row5 col0\" >0.00985</td>\n",
       "            </tr>\n",
       "            <tr>\n",
       "                        <th id=\"T_f8997635_19b4_11ea_becb_ef15594c373clevel0_row6\" class=\"row_heading level0 row6\" >dowódca</th>\n",
       "                        <td id=\"T_f8997635_19b4_11ea_becb_ef15594c373crow6_col0\" class=\"data row6 col0\" >0.0094</td>\n",
       "            </tr>\n",
       "            <tr>\n",
       "                        <th id=\"T_f8997635_19b4_11ea_becb_ef15594c373clevel0_row7\" class=\"row_heading level0 row7\" >pilot</th>\n",
       "                        <td id=\"T_f8997635_19b4_11ea_becb_ef15594c373crow7_col0\" class=\"data row7 col0\" >0.00935</td>\n",
       "            </tr>\n",
       "            <tr>\n",
       "                        <th id=\"T_f8997635_19b4_11ea_becb_ef15594c373clevel0_row8\" class=\"row_heading level0 row8\" >przygotować</th>\n",
       "                        <td id=\"T_f8997635_19b4_11ea_becb_ef15594c373crow8_col0\" class=\"data row8 col0\" >0.00909</td>\n",
       "            </tr>\n",
       "            <tr>\n",
       "                        <th id=\"T_f8997635_19b4_11ea_becb_ef15594c373clevel0_row9\" class=\"row_heading level0 row9\" >lotniczy</th>\n",
       "                        <td id=\"T_f8997635_19b4_11ea_becb_ef15594c373crow9_col0\" class=\"data row9 col0\" >0.00814</td>\n",
       "            </tr>\n",
       "    </tbody></table>"
      ]
     },
     "metadata": {},
     "output_type": "display_data"
    },
    {
     "data": {
      "text/plain": [
       "['08d7dbac-da87-41a2-a260-79c946f93cfb',\n",
       " '00bfc6f0-e9a2-47b5-b77f-2183893478a6',\n",
       " '65ab697e-71b3-4018-8039-a0005cdbe7d9',\n",
       " '772bf383-a0e1-4a1a-b17e-ff76341e6e1b',\n",
       " '560dec05-e957-4ac8-a045-596d45a504bd',\n",
       " 'ae3a1b92-efba-4b3a-9dbf-6a59f789a0a3',\n",
       " 'eb64a5dc-867b-43f2-a242-d3d9102080f9',\n",
       " '8d3744c7-ac80-44d9-8348-f7514cac4929',\n",
       " '6ca9b7e3-9a96-4973-aa29-d02f31def36e',\n",
       " '54acd4b4-4028-4940-866d-454ec7c2252f']"
      ]
     },
     "metadata": {},
     "output_type": "display_data"
    },
    {
     "data": {
      "text/html": [
       "<style  type=\"text/css\" >\n",
       "</style><table id=\"T_f8997636_19b4_11ea_becb_ef15594c373c\" style='display:inline'><thead>    <tr>        <th class=\"blank level0\" ></th>        <th class=\"col_heading level0 col0\" >topic_9 @bigram</th>    </tr></thead><tbody>\n",
       "                <tr>\n",
       "                        <th id=\"T_f8997636_19b4_11ea_becb_ef15594c373clevel0_row0\" class=\"row_heading level0 row0\" >republika_ludowy</th>\n",
       "                        <td id=\"T_f8997636_19b4_11ea_becb_ef15594c373crow0_col0\" class=\"data row0 col0\" >0.03019</td>\n",
       "            </tr>\n",
       "            <tr>\n",
       "                        <th id=\"T_f8997636_19b4_11ea_becb_ef15594c373clevel0_row1\" class=\"row_heading level0 row1\" >chiński_republika</th>\n",
       "                        <td id=\"T_f8997636_19b4_11ea_becb_ef15594c373crow1_col0\" class=\"data row1 col0\" >0.02508</td>\n",
       "            </tr>\n",
       "            <tr>\n",
       "                        <th id=\"T_f8997636_19b4_11ea_becb_ef15594c373clevel0_row2\" class=\"row_heading level0 row2\" >rada_narodowy</th>\n",
       "                        <td id=\"T_f8997636_19b4_11ea_becb_ef15594c373crow2_col0\" class=\"data row2 col0\" >0.01839</td>\n",
       "            </tr>\n",
       "            <tr>\n",
       "                        <th id=\"T_f8997636_19b4_11ea_becb_ef15594c373clevel0_row3\" class=\"row_heading level0 row3\" >naród_koreański</th>\n",
       "                        <td id=\"T_f8997636_19b4_11ea_becb_ef15594c373crow3_col0\" class=\"data row3 col0\" >0.01556</td>\n",
       "            </tr>\n",
       "            <tr>\n",
       "                        <th id=\"T_f8997636_19b4_11ea_becb_ef15594c373clevel0_row4\" class=\"row_heading level0 row4\" >ludowo_demokratyczny</th>\n",
       "                        <td id=\"T_f8997636_19b4_11ea_becb_ef15594c373crow4_col0\" class=\"data row4 col0\" >0.01275</td>\n",
       "            </tr>\n",
       "            <tr>\n",
       "                        <th id=\"T_f8997636_19b4_11ea_becb_ef15594c373clevel0_row5\" class=\"row_heading level0 row5\" >rada_państwo</th>\n",
       "                        <td id=\"T_f8997636_19b4_11ea_becb_ef15594c373crow5_col0\" class=\"data row5 col0\" >0.01249</td>\n",
       "            </tr>\n",
       "            <tr>\n",
       "                        <th id=\"T_f8997636_19b4_11ea_becb_ef15594c373clevel0_row6\" class=\"row_heading level0 row6\" >armia_ludowy</th>\n",
       "                        <td id=\"T_f8997636_19b4_11ea_becb_ef15594c373crow6_col0\" class=\"data row6 col0\" >0.01247</td>\n",
       "            </tr>\n",
       "            <tr>\n",
       "                        <th id=\"T_f8997636_19b4_11ea_becb_ef15594c373clevel0_row7\" class=\"row_heading level0 row7\" >jeniec_wojenny</th>\n",
       "                        <td id=\"T_f8997636_19b4_11ea_becb_ef15594c373crow7_col0\" class=\"data row7 col0\" >0.01222</td>\n",
       "            </tr>\n",
       "            <tr>\n",
       "                        <th id=\"T_f8997636_19b4_11ea_becb_ef15594c373clevel0_row8\" class=\"row_heading level0 row8\" >naród_chiński</th>\n",
       "                        <td id=\"T_f8997636_19b4_11ea_becb_ef15594c373crow8_col0\" class=\"data row8 col0\" >0.01184</td>\n",
       "            </tr>\n",
       "            <tr>\n",
       "                        <th id=\"T_f8997636_19b4_11ea_becb_ef15594c373clevel0_row9\" class=\"row_heading level0 row9\" >koreański_republika</th>\n",
       "                        <td id=\"T_f8997636_19b4_11ea_becb_ef15594c373crow9_col0\" class=\"data row9 col0\" >0.01026</td>\n",
       "            </tr>\n",
       "    </tbody></table><style  type=\"text/css\" >\n",
       "</style><table id=\"T_f8997637_19b4_11ea_becb_ef15594c373c\" style='display:inline'><thead>    <tr>        <th class=\"blank level0\" ></th>        <th class=\"col_heading level0 col0\" >topic_9 @lemmatized</th>    </tr></thead><tbody>\n",
       "                <tr>\n",
       "                        <th id=\"T_f8997637_19b4_11ea_becb_ef15594c373clevel0_row0\" class=\"row_heading level0 row0\" >amerykański</th>\n",
       "                        <td id=\"T_f8997637_19b4_11ea_becb_ef15594c373crow0_col0\" class=\"data row0 col0\" >0.02484</td>\n",
       "            </tr>\n",
       "            <tr>\n",
       "                        <th id=\"T_f8997637_19b4_11ea_becb_ef15594c373clevel0_row1\" class=\"row_heading level0 row1\" >chiński</th>\n",
       "                        <td id=\"T_f8997637_19b4_11ea_becb_ef15594c373crow1_col0\" class=\"data row1 col0\" >0.02004</td>\n",
       "            </tr>\n",
       "            <tr>\n",
       "                        <th id=\"T_f8997637_19b4_11ea_becb_ef15594c373clevel0_row2\" class=\"row_heading level0 row2\" >koreański</th>\n",
       "                        <td id=\"T_f8997637_19b4_11ea_becb_ef15594c373crow2_col0\" class=\"data row2 col0\" >0.01645</td>\n",
       "            </tr>\n",
       "            <tr>\n",
       "                        <th id=\"T_f8997637_19b4_11ea_becb_ef15594c373clevel0_row3\" class=\"row_heading level0 row3\" >Korea</th>\n",
       "                        <td id=\"T_f8997637_19b4_11ea_becb_ef15594c373crow3_col0\" class=\"data row3 col0\" >0.0159</td>\n",
       "            </tr>\n",
       "            <tr>\n",
       "                        <th id=\"T_f8997637_19b4_11ea_becb_ef15594c373clevel0_row4\" class=\"row_heading level0 row4\" >ludowy</th>\n",
       "                        <td id=\"T_f8997637_19b4_11ea_becb_ef15594c373crow4_col0\" class=\"data row4 col0\" >0.01507</td>\n",
       "            </tr>\n",
       "            <tr>\n",
       "                        <th id=\"T_f8997637_19b4_11ea_becb_ef15594c373clevel0_row5\" class=\"row_heading level0 row5\" >rada</th>\n",
       "                        <td id=\"T_f8997637_19b4_11ea_becb_ef15594c373crow5_col0\" class=\"data row5 col0\" >0.01491</td>\n",
       "            </tr>\n",
       "            <tr>\n",
       "                        <th id=\"T_f8997637_19b4_11ea_becb_ef15594c373clevel0_row6\" class=\"row_heading level0 row6\" >sprawa</th>\n",
       "                        <td id=\"T_f8997637_19b4_11ea_becb_ef15594c373crow6_col0\" class=\"data row6 col0\" >0.01117</td>\n",
       "            </tr>\n",
       "            <tr>\n",
       "                        <th id=\"T_f8997637_19b4_11ea_becb_ef15594c373clevel0_row7\" class=\"row_heading level0 row7\" >republika</th>\n",
       "                        <td id=\"T_f8997637_19b4_11ea_becb_ef15594c373crow7_col0\" class=\"data row7 col0\" >0.01024</td>\n",
       "            </tr>\n",
       "            <tr>\n",
       "                        <th id=\"T_f8997637_19b4_11ea_becb_ef15594c373clevel0_row8\" class=\"row_heading level0 row8\" >przedstawiciel</th>\n",
       "                        <td id=\"T_f8997637_19b4_11ea_becb_ef15594c373crow8_col0\" class=\"data row8 col0\" >0.00782</td>\n",
       "            </tr>\n",
       "            <tr>\n",
       "                        <th id=\"T_f8997637_19b4_11ea_becb_ef15594c373clevel0_row9\" class=\"row_heading level0 row9\" >rząd</th>\n",
       "                        <td id=\"T_f8997637_19b4_11ea_becb_ef15594c373crow9_col0\" class=\"data row9 col0\" >0.00743</td>\n",
       "            </tr>\n",
       "    </tbody></table>"
      ]
     },
     "metadata": {},
     "output_type": "display_data"
    },
    {
     "data": {
      "text/plain": [
       "['1a011507-4ba2-47b5-a29f-a568cd7945d0',\n",
       " '9bbba276-a6f2-490d-980f-314bc2ab7299',\n",
       " 'ac125e31-91b8-4413-83ea-e795f7d5c723',\n",
       " '66a71f77-5b4c-4dbd-9e98-4767063c769a',\n",
       " '30d1aafe-fe24-4d6a-a944-743470aa86a0',\n",
       " 'ae135aae-499b-48c8-a2df-206b0de2f8fa',\n",
       " '597b017e-bfe9-4dea-a817-27dd113407cd',\n",
       " '216b648d-c305-4040-9d38-2af0d1537562',\n",
       " 'd1ab0656-6212-4fb4-b185-d2d5e155c4aa',\n",
       " '05334506-109e-468b-b93e-dafbb1971fdd']"
      ]
     },
     "metadata": {},
     "output_type": "display_data"
    },
    {
     "data": {
      "text/html": [
       "<style  type=\"text/css\" >\n",
       "</style><table id=\"T_f8997638_19b4_11ea_becb_ef15594c373c\" style='display:inline'><thead>    <tr>        <th class=\"blank level0\" ></th>        <th class=\"col_heading level0 col0\" >topic_10 @bigram</th>    </tr></thead><tbody>\n",
       "                <tr>\n",
       "                        <th id=\"T_f8997638_19b4_11ea_becb_ef15594c373clevel0_row0\" class=\"row_heading level0 row0\" >Stany_zjednoczyć</th>\n",
       "                        <td id=\"T_f8997638_19b4_11ea_becb_ef15594c373crow0_col0\" class=\"data row0 col0\" >0.03661</td>\n",
       "            </tr>\n",
       "            <tr>\n",
       "                        <th id=\"T_f8997638_19b4_11ea_becb_ef15594c373clevel0_row1\" class=\"row_heading level0 row1\" >związek_radziecki</th>\n",
       "                        <td id=\"T_f8997638_19b4_11ea_becb_ef15594c373crow1_col0\" class=\"data row1 col0\" >0.03025</td>\n",
       "            </tr>\n",
       "            <tr>\n",
       "                        <th id=\"T_f8997638_19b4_11ea_becb_ef15594c373clevel0_row2\" class=\"row_heading level0 row2\" >sprawa_zagraniczny</th>\n",
       "                        <td id=\"T_f8997638_19b4_11ea_becb_ef15594c373crow2_col0\" class=\"data row2 col0\" >0.01836</td>\n",
       "            </tr>\n",
       "            <tr>\n",
       "                        <th id=\"T_f8997638_19b4_11ea_becb_ef15594c373clevel0_row3\" class=\"row_heading level0 row3\" >rząd_radziecki</th>\n",
       "                        <td id=\"T_f8997638_19b4_11ea_becb_ef15594c373crow3_col0\" class=\"data row3 col0\" >0.01475</td>\n",
       "            </tr>\n",
       "            <tr>\n",
       "                        <th id=\"T_f8997638_19b4_11ea_becb_ef15594c373clevel0_row4\" class=\"row_heading level0 row4\" >siła_zbrojny</th>\n",
       "                        <td id=\"T_f8997638_19b4_11ea_becb_ef15594c373crow4_col0\" class=\"data row4 col0\" >0.01381</td>\n",
       "            </tr>\n",
       "            <tr>\n",
       "                        <th id=\"T_f8997638_19b4_11ea_becb_ef15594c373clevel0_row5\" class=\"row_heading level0 row5\" >minister_sprawa</th>\n",
       "                        <td id=\"T_f8997638_19b4_11ea_becb_ef15594c373crow5_col0\" class=\"data row5 col0\" >0.01318</td>\n",
       "            </tr>\n",
       "            <tr>\n",
       "                        <th id=\"T_f8997638_19b4_11ea_becb_ef15594c373clevel0_row6\" class=\"row_heading level0 row6\" >zgromadzenie_ogólny</th>\n",
       "                        <td id=\"T_f8997638_19b4_11ea_becb_ef15594c373crow6_col0\" class=\"data row6 col0\" >0.01258</td>\n",
       "            </tr>\n",
       "            <tr>\n",
       "                        <th id=\"T_f8997638_19b4_11ea_becb_ef15594c373clevel0_row7\" class=\"row_heading level0 row7\" >Bronia_atomowy</th>\n",
       "                        <td id=\"T_f8997638_19b4_11ea_becb_ef15594c373crow7_col0\" class=\"data row7 col0\" >0.01177</td>\n",
       "            </tr>\n",
       "            <tr>\n",
       "                        <th id=\"T_f8997638_19b4_11ea_becb_ef15594c373clevel0_row8\" class=\"row_heading level0 row8\" >mocarstwo_zachodni</th>\n",
       "                        <td id=\"T_f8997638_19b4_11ea_becb_ef15594c373crow8_col0\" class=\"data row8 col0\" >0.01016</td>\n",
       "            </tr>\n",
       "            <tr>\n",
       "                        <th id=\"T_f8997638_19b4_11ea_becb_ef15594c373clevel0_row9\" class=\"row_heading level0 row9\" >delegacja_radziecki</th>\n",
       "                        <td id=\"T_f8997638_19b4_11ea_becb_ef15594c373crow9_col0\" class=\"data row9 col0\" >0.00969</td>\n",
       "            </tr>\n",
       "    </tbody></table><style  type=\"text/css\" >\n",
       "</style><table id=\"T_f8997639_19b4_11ea_becb_ef15594c373c\" style='display:inline'><thead>    <tr>        <th class=\"blank level0\" ></th>        <th class=\"col_heading level0 col0\" >topic_10 @lemmatized</th>    </tr></thead><tbody>\n",
       "                <tr>\n",
       "                        <th id=\"T_f8997639_19b4_11ea_becb_ef15594c373clevel0_row0\" class=\"row_heading level0 row0\" >sprawa</th>\n",
       "                        <td id=\"T_f8997639_19b4_11ea_becb_ef15594c373crow0_col0\" class=\"data row0 col0\" >0.0206</td>\n",
       "            </tr>\n",
       "            <tr>\n",
       "                        <th id=\"T_f8997639_19b4_11ea_becb_ef15594c373clevel0_row1\" class=\"row_heading level0 row1\" >rząd</th>\n",
       "                        <td id=\"T_f8997639_19b4_11ea_becb_ef15594c373crow1_col0\" class=\"data row1 col0\" >0.01958</td>\n",
       "            </tr>\n",
       "            <tr>\n",
       "                        <th id=\"T_f8997639_19b4_11ea_becb_ef15594c373clevel0_row2\" class=\"row_heading level0 row2\" >radziecki</th>\n",
       "                        <td id=\"T_f8997639_19b4_11ea_becb_ef15594c373crow2_col0\" class=\"data row2 col0\" >0.01913</td>\n",
       "            </tr>\n",
       "            <tr>\n",
       "                        <th id=\"T_f8997639_19b4_11ea_becb_ef15594c373clevel0_row3\" class=\"row_heading level0 row3\" >zjednoczyć</th>\n",
       "                        <td id=\"T_f8997639_19b4_11ea_becb_ef15594c373crow3_col0\" class=\"data row3 col0\" >0.0117</td>\n",
       "            </tr>\n",
       "            <tr>\n",
       "                        <th id=\"T_f8997639_19b4_11ea_becb_ef15594c373clevel0_row4\" class=\"row_heading level0 row4\" >USA</th>\n",
       "                        <td id=\"T_f8997639_19b4_11ea_becb_ef15594c373crow4_col0\" class=\"data row4 col0\" >0.01053</td>\n",
       "            </tr>\n",
       "            <tr>\n",
       "                        <th id=\"T_f8997639_19b4_11ea_becb_ef15594c373clevel0_row5\" class=\"row_heading level0 row5\" >Stany</th>\n",
       "                        <td id=\"T_f8997639_19b4_11ea_becb_ef15594c373crow5_col0\" class=\"data row5 col0\" >0.00916</td>\n",
       "            </tr>\n",
       "            <tr>\n",
       "                        <th id=\"T_f8997639_19b4_11ea_becb_ef15594c373clevel0_row6\" class=\"row_heading level0 row6\" >propozycja</th>\n",
       "                        <td id=\"T_f8997639_19b4_11ea_becb_ef15594c373crow6_col0\" class=\"data row6 col0\" >0.0088</td>\n",
       "            </tr>\n",
       "            <tr>\n",
       "                        <th id=\"T_f8997639_19b4_11ea_becb_ef15594c373clevel0_row7\" class=\"row_heading level0 row7\" >mocarstwo</th>\n",
       "                        <td id=\"T_f8997639_19b4_11ea_becb_ef15594c373crow7_col0\" class=\"data row7 col0\" >0.00847</td>\n",
       "            </tr>\n",
       "            <tr>\n",
       "                        <th id=\"T_f8997639_19b4_11ea_becb_ef15594c373clevel0_row8\" class=\"row_heading level0 row8\" >związek</th>\n",
       "                        <td id=\"T_f8997639_19b4_11ea_becb_ef15594c373crow8_col0\" class=\"data row8 col0\" >0.00831</td>\n",
       "            </tr>\n",
       "            <tr>\n",
       "                        <th id=\"T_f8997639_19b4_11ea_becb_ef15594c373clevel0_row9\" class=\"row_heading level0 row9\" >amerykański</th>\n",
       "                        <td id=\"T_f8997639_19b4_11ea_becb_ef15594c373crow9_col0\" class=\"data row9 col0\" >0.00759</td>\n",
       "            </tr>\n",
       "    </tbody></table>"
      ]
     },
     "metadata": {},
     "output_type": "display_data"
    },
    {
     "data": {
      "text/plain": [
       "['7198bd52-76f5-47c4-a1e2-f496ae06b070',\n",
       " '91d84c07-0ef9-4282-bd75-22c167f7dc4a',\n",
       " 'a6674f2f-3e95-4aa7-8382-88c83d6d146a',\n",
       " '8bb19cd3-a4f4-4086-8fbc-d999884f11b5',\n",
       " '6b05d8cb-966c-4116-b897-f2e7fd21f244',\n",
       " '8e160fe9-3f70-452d-bba2-27fbd0a22f82',\n",
       " '8e868f23-9dc9-4262-b47f-ebf9db72df21',\n",
       " '6f375c12-6764-4de7-b56f-2886127c6b4b',\n",
       " '8b658308-2a59-4ffb-9247-de647dca3763',\n",
       " '8937e4a0-888c-4d56-8110-45e6bb441a63']"
      ]
     },
     "metadata": {},
     "output_type": "display_data"
    },
    {
     "data": {
      "text/html": [
       "<style  type=\"text/css\" >\n",
       "</style><table id=\"T_f899763a_19b4_11ea_becb_ef15594c373c\" style='display:inline'><thead>    <tr>        <th class=\"blank level0\" ></th>        <th class=\"col_heading level0 col0\" >topic_11 @bigram</th>    </tr></thead><tbody>\n",
       "                <tr>\n",
       "                        <th id=\"T_f899763a_19b4_11ea_becb_ef15594c373clevel0_row0\" class=\"row_heading level0 row0\" >dowódca_drużyna</th>\n",
       "                        <td id=\"T_f899763a_19b4_11ea_becb_ef15594c373crow0_col0\" class=\"data row0 col0\" >0.02463</td>\n",
       "            </tr>\n",
       "            <tr>\n",
       "                        <th id=\"T_f899763a_19b4_11ea_becb_ef15594c373clevel0_row1\" class=\"row_heading level0 row1\" >dowódca_pluton</th>\n",
       "                        <td id=\"T_f899763a_19b4_11ea_becb_ef15594c373crow1_col0\" class=\"data row1 col0\" >0.01855</td>\n",
       "            </tr>\n",
       "            <tr>\n",
       "                        <th id=\"T_f899763a_19b4_11ea_becb_ef15594c373clevel0_row2\" class=\"row_heading level0 row2\" >młody_żołnierz</th>\n",
       "                        <td id=\"T_f899763a_19b4_11ea_becb_ef15594c373crow2_col0\" class=\"data row2 col0\" >0.01377</td>\n",
       "            </tr>\n",
       "            <tr>\n",
       "                        <th id=\"T_f899763a_19b4_11ea_becb_ef15594c373clevel0_row3\" class=\"row_heading level0 row3\" >marynarka_wojenny</th>\n",
       "                        <td id=\"T_f899763a_19b4_11ea_becb_ef15594c373crow3_col0\" class=\"data row3 col0\" >0.01364</td>\n",
       "            </tr>\n",
       "            <tr>\n",
       "                        <th id=\"T_f899763a_19b4_11ea_becb_ef15594c373clevel0_row4\" class=\"row_heading level0 row4\" >dowódca_pododdział</th>\n",
       "                        <td id=\"T_f899763a_19b4_11ea_becb_ef15594c373crow4_col0\" class=\"data row4 col0\" >0.01211</td>\n",
       "            </tr>\n",
       "            <tr>\n",
       "                        <th id=\"T_f899763a_19b4_11ea_becb_ef15594c373clevel0_row5\" class=\"row_heading level0 row5\" >dowódca_kompania</th>\n",
       "                        <td id=\"T_f899763a_19b4_11ea_becb_ef15594c373crow5_col0\" class=\"data row5 col0\" >0.01035</td>\n",
       "            </tr>\n",
       "            <tr>\n",
       "                        <th id=\"T_f899763a_19b4_11ea_becb_ef15594c373clevel0_row6\" class=\"row_heading level0 row6\" >szkoła_podoficerski</th>\n",
       "                        <td id=\"T_f899763a_19b4_11ea_becb_ef15594c373crow6_col0\" class=\"data row6 col0\" >0.00861</td>\n",
       "            </tr>\n",
       "            <tr>\n",
       "                        <th id=\"T_f899763a_19b4_11ea_becb_ef15594c373clevel0_row7\" class=\"row_heading level0 row7\" >przodownik_wyszkolenie</th>\n",
       "                        <td id=\"T_f899763a_19b4_11ea_becb_ef15594c373crow7_col0\" class=\"data row7 col0\" >0.00773</td>\n",
       "            </tr>\n",
       "            <tr>\n",
       "                        <th id=\"T_f899763a_19b4_11ea_becb_ef15594c373clevel0_row8\" class=\"row_heading level0 row8\" >służba_wojskowy</th>\n",
       "                        <td id=\"T_f899763a_19b4_11ea_becb_ef15594c373crow8_col0\" class=\"data row8 col0\" >0.00667</td>\n",
       "            </tr>\n",
       "            <tr>\n",
       "                        <th id=\"T_f899763a_19b4_11ea_becb_ef15594c373clevel0_row9\" class=\"row_heading level0 row9\" >wyszkolenie_bojowy</th>\n",
       "                        <td id=\"T_f899763a_19b4_11ea_becb_ef15594c373crow9_col0\" class=\"data row9 col0\" >0.00622</td>\n",
       "            </tr>\n",
       "    </tbody></table><style  type=\"text/css\" >\n",
       "</style><table id=\"T_f899763b_19b4_11ea_becb_ef15594c373c\" style='display:inline'><thead>    <tr>        <th class=\"blank level0\" ></th>        <th class=\"col_heading level0 col0\" >topic_11 @lemmatized</th>    </tr></thead><tbody>\n",
       "                <tr>\n",
       "                        <th id=\"T_f899763b_19b4_11ea_becb_ef15594c373clevel0_row0\" class=\"row_heading level0 row0\" >dowódca</th>\n",
       "                        <td id=\"T_f899763b_19b4_11ea_becb_ef15594c373crow0_col0\" class=\"data row0 col0\" >0.04983</td>\n",
       "            </tr>\n",
       "            <tr>\n",
       "                        <th id=\"T_f899763b_19b4_11ea_becb_ef15594c373clevel0_row1\" class=\"row_heading level0 row1\" >żołnierz</th>\n",
       "                        <td id=\"T_f899763b_19b4_11ea_becb_ef15594c373crow1_col0\" class=\"data row1 col0\" >0.03157</td>\n",
       "            </tr>\n",
       "            <tr>\n",
       "                        <th id=\"T_f899763b_19b4_11ea_becb_ef15594c373clevel0_row2\" class=\"row_heading level0 row2\" >oficer</th>\n",
       "                        <td id=\"T_f899763b_19b4_11ea_becb_ef15594c373crow2_col0\" class=\"data row2 col0\" >0.01949</td>\n",
       "            </tr>\n",
       "            <tr>\n",
       "                        <th id=\"T_f899763b_19b4_11ea_becb_ef15594c373clevel0_row3\" class=\"row_heading level0 row3\" >pododdział</th>\n",
       "                        <td id=\"T_f899763b_19b4_11ea_becb_ef15594c373crow3_col0\" class=\"data row3 col0\" >0.01908</td>\n",
       "            </tr>\n",
       "            <tr>\n",
       "                        <th id=\"T_f899763b_19b4_11ea_becb_ef15594c373clevel0_row4\" class=\"row_heading level0 row4\" >podoficer</th>\n",
       "                        <td id=\"T_f899763b_19b4_11ea_becb_ef15594c373crow4_col0\" class=\"data row4 col0\" >0.01906</td>\n",
       "            </tr>\n",
       "            <tr>\n",
       "                        <th id=\"T_f899763b_19b4_11ea_becb_ef15594c373clevel0_row5\" class=\"row_heading level0 row5\" >bojowy</th>\n",
       "                        <td id=\"T_f899763b_19b4_11ea_becb_ef15594c373crow5_col0\" class=\"data row5 col0\" >0.01134</td>\n",
       "            </tr>\n",
       "            <tr>\n",
       "                        <th id=\"T_f899763b_19b4_11ea_becb_ef15594c373clevel0_row6\" class=\"row_heading level0 row6\" >podwładny</th>\n",
       "                        <td id=\"T_f899763b_19b4_11ea_becb_ef15594c373crow6_col0\" class=\"data row6 col0\" >0.011</td>\n",
       "            </tr>\n",
       "            <tr>\n",
       "                        <th id=\"T_f899763b_19b4_11ea_becb_ef15594c373clevel0_row7\" class=\"row_heading level0 row7\" >drużyna</th>\n",
       "                        <td id=\"T_f899763b_19b4_11ea_becb_ef15594c373crow7_col0\" class=\"data row7 col0\" >0.01068</td>\n",
       "            </tr>\n",
       "            <tr>\n",
       "                        <th id=\"T_f899763b_19b4_11ea_becb_ef15594c373clevel0_row8\" class=\"row_heading level0 row8\" >pluton</th>\n",
       "                        <td id=\"T_f899763b_19b4_11ea_becb_ef15594c373crow8_col0\" class=\"data row8 col0\" >0.01053</td>\n",
       "            </tr>\n",
       "            <tr>\n",
       "                        <th id=\"T_f899763b_19b4_11ea_becb_ef15594c373clevel0_row9\" class=\"row_heading level0 row9\" >zajęcia</th>\n",
       "                        <td id=\"T_f899763b_19b4_11ea_becb_ef15594c373crow9_col0\" class=\"data row9 col0\" >0.00979</td>\n",
       "            </tr>\n",
       "    </tbody></table>"
      ]
     },
     "metadata": {},
     "output_type": "display_data"
    },
    {
     "data": {
      "text/plain": [
       "['8ba843e5-5520-488a-8072-d1f4afe29f8b',\n",
       " '1deef393-d156-4e2b-b9db-c8f6963ee66f',\n",
       " '1cbc24c4-4f93-40f3-a65d-1b5fb39e9853',\n",
       " 'f929b09b-ddb8-4e73-8f63-efb304712171',\n",
       " '6651dde5-e778-4153-a5fe-3c28eac2f3ce',\n",
       " '426436d3-23ce-4bbc-9450-57ba62f01b81',\n",
       " '168eafe3-fb6e-4e36-9035-16c58ee683a5',\n",
       " '83eb0e4c-5ad4-4671-9d9b-26075ebc11d3',\n",
       " '1d3107fc-9a65-481f-af1b-13ef5a3117ae',\n",
       " '6f40b96c-cfc1-4d7b-8ed6-1285ad51a6b5']"
      ]
     },
     "metadata": {},
     "output_type": "display_data"
    },
    {
     "data": {
      "text/html": [
       "<style  type=\"text/css\" >\n",
       "</style><table id=\"T_f899763c_19b4_11ea_becb_ef15594c373c\" style='display:inline'><thead>    <tr>        <th class=\"blank level0\" ></th>        <th class=\"col_heading level0 col0\" >topic_12 @bigram</th>    </tr></thead><tbody>\n",
       "                <tr>\n",
       "                        <th id=\"T_f899763c_19b4_11ea_becb_ef15594c373clevel0_row0\" class=\"row_heading level0 row0\" >masa_pracować</th>\n",
       "                        <td id=\"T_f899763c_19b4_11ea_becb_ef15594c373crow0_col0\" class=\"data row0 col0\" >0.01953</td>\n",
       "            </tr>\n",
       "            <tr>\n",
       "                        <th id=\"T_f899763c_19b4_11ea_becb_ef15594c373clevel0_row1\" class=\"row_heading level0 row1\" >gospodarka_narodowy</th>\n",
       "                        <td id=\"T_f899763c_19b4_11ea_becb_ef15594c373crow1_col0\" class=\"data row1 col0\" >0.01675</td>\n",
       "            </tr>\n",
       "            <tr>\n",
       "                        <th id=\"T_f899763c_19b4_11ea_becb_ef15594c373clevel0_row2\" class=\"row_heading level0 row2\" >ii_zjazd</th>\n",
       "                        <td id=\"T_f899763c_19b4_11ea_becb_ef15594c373crow2_col0\" class=\"data row2 col0\" >0.01431</td>\n",
       "            </tr>\n",
       "            <tr>\n",
       "                        <th id=\"T_f899763c_19b4_11ea_becb_ef15594c373clevel0_row3\" class=\"row_heading level0 row3\" >plan_letni</th>\n",
       "                        <td id=\"T_f899763c_19b4_11ea_becb_ef15594c373crow3_col0\" class=\"data row3 col0\" >0.01302</td>\n",
       "            </tr>\n",
       "            <tr>\n",
       "                        <th id=\"T_f899763c_19b4_11ea_becb_ef15594c373clevel0_row4\" class=\"row_heading level0 row4\" >człowiek_praca</th>\n",
       "                        <td id=\"T_f899763c_19b4_11ea_becb_ef15594c373crow4_col0\" class=\"data row4 col0\" >0.01141</td>\n",
       "            </tr>\n",
       "            <tr>\n",
       "                        <th id=\"T_f899763c_19b4_11ea_becb_ef15594c373clevel0_row5\" class=\"row_heading level0 row5\" >stopa_życiowy</th>\n",
       "                        <td id=\"T_f899763c_19b4_11ea_becb_ef15594c373crow5_col0\" class=\"data row5 col0\" >0.01057</td>\n",
       "            </tr>\n",
       "            <tr>\n",
       "                        <th id=\"T_f899763c_19b4_11ea_becb_ef15594c373clevel0_row6\" class=\"row_heading level0 row6\" >rada_minister</th>\n",
       "                        <td id=\"T_f899763c_19b4_11ea_becb_ef15594c373crow6_col0\" class=\"data row6 col0\" >0.00849</td>\n",
       "            </tr>\n",
       "            <tr>\n",
       "                        <th id=\"T_f899763c_19b4_11ea_becb_ef15594c373clevel0_row7\" class=\"row_heading level0 row7\" >związek_radziecki</th>\n",
       "                        <td id=\"T_f899763c_19b4_11ea_becb_ef15594c373crow7_col0\" class=\"data row7 col0\" >0.00834</td>\n",
       "            </tr>\n",
       "            <tr>\n",
       "                        <th id=\"T_f899763c_19b4_11ea_becb_ef15594c373clevel0_row8\" class=\"row_heading level0 row8\" >wzrost_produkcja</th>\n",
       "                        <td id=\"T_f899763c_19b4_11ea_becb_ef15594c373crow8_col0\" class=\"data row8 col0\" >0.00708</td>\n",
       "            </tr>\n",
       "            <tr>\n",
       "                        <th id=\"T_f899763c_19b4_11ea_becb_ef15594c373clevel0_row9\" class=\"row_heading level0 row9\" >władza_ludowy</th>\n",
       "                        <td id=\"T_f899763c_19b4_11ea_becb_ef15594c373crow9_col0\" class=\"data row9 col0\" >0.00702</td>\n",
       "            </tr>\n",
       "    </tbody></table><style  type=\"text/css\" >\n",
       "</style><table id=\"T_f899763d_19b4_11ea_becb_ef15594c373c\" style='display:inline'><thead>    <tr>        <th class=\"blank level0\" ></th>        <th class=\"col_heading level0 col0\" >topic_12 @lemmatized</th>    </tr></thead><tbody>\n",
       "                <tr>\n",
       "                        <th id=\"T_f899763d_19b4_11ea_becb_ef15594c373clevel0_row0\" class=\"row_heading level0 row0\" >rozwój</th>\n",
       "                        <td id=\"T_f899763d_19b4_11ea_becb_ef15594c373crow0_col0\" class=\"data row0 col0\" >0.01453</td>\n",
       "            </tr>\n",
       "            <tr>\n",
       "                        <th id=\"T_f899763d_19b4_11ea_becb_ef15594c373clevel0_row1\" class=\"row_heading level0 row1\" >produkcja</th>\n",
       "                        <td id=\"T_f899763d_19b4_11ea_becb_ef15594c373crow1_col0\" class=\"data row1 col0\" >0.01228</td>\n",
       "            </tr>\n",
       "            <tr>\n",
       "                        <th id=\"T_f899763d_19b4_11ea_becb_ef15594c373clevel0_row2\" class=\"row_heading level0 row2\" >przemysł</th>\n",
       "                        <td id=\"T_f899763d_19b4_11ea_becb_ef15594c373crow2_col0\" class=\"data row2 col0\" >0.01151</td>\n",
       "            </tr>\n",
       "            <tr>\n",
       "                        <th id=\"T_f899763d_19b4_11ea_becb_ef15594c373clevel0_row3\" class=\"row_heading level0 row3\" >gospodarka</th>\n",
       "                        <td id=\"T_f899763d_19b4_11ea_becb_ef15594c373crow3_col0\" class=\"data row3 col0\" >0.01145</td>\n",
       "            </tr>\n",
       "            <tr>\n",
       "                        <th id=\"T_f899763d_19b4_11ea_becb_ef15594c373clevel0_row4\" class=\"row_heading level0 row4\" >kraj</th>\n",
       "                        <td id=\"T_f899763d_19b4_11ea_becb_ef15594c373crow4_col0\" class=\"data row4 col0\" >0.0113</td>\n",
       "            </tr>\n",
       "            <tr>\n",
       "                        <th id=\"T_f899763d_19b4_11ea_becb_ef15594c373clevel0_row5\" class=\"row_heading level0 row5\" >proca</th>\n",
       "                        <td id=\"T_f899763d_19b4_11ea_becb_ef15594c373crow5_col0\" class=\"data row5 col0\" >0.01075</td>\n",
       "            </tr>\n",
       "            <tr>\n",
       "                        <th id=\"T_f899763d_19b4_11ea_becb_ef15594c373clevel0_row6\" class=\"row_heading level0 row6\" >nowy</th>\n",
       "                        <td id=\"T_f899763d_19b4_11ea_becb_ef15594c373crow6_col0\" class=\"data row6 col0\" >0.01036</td>\n",
       "            </tr>\n",
       "            <tr>\n",
       "                        <th id=\"T_f899763d_19b4_11ea_becb_ef15594c373clevel0_row7\" class=\"row_heading level0 row7\" >pracować</th>\n",
       "                        <td id=\"T_f899763d_19b4_11ea_becb_ef15594c373crow7_col0\" class=\"data row7 col0\" >0.00937</td>\n",
       "            </tr>\n",
       "            <tr>\n",
       "                        <th id=\"T_f899763d_19b4_11ea_becb_ef15594c373clevel0_row8\" class=\"row_heading level0 row8\" >plan</th>\n",
       "                        <td id=\"T_f899763d_19b4_11ea_becb_ef15594c373crow8_col0\" class=\"data row8 col0\" >0.00902</td>\n",
       "            </tr>\n",
       "            <tr>\n",
       "                        <th id=\"T_f899763d_19b4_11ea_becb_ef15594c373clevel0_row9\" class=\"row_heading level0 row9\" >wzrost</th>\n",
       "                        <td id=\"T_f899763d_19b4_11ea_becb_ef15594c373crow9_col0\" class=\"data row9 col0\" >0.00841</td>\n",
       "            </tr>\n",
       "    </tbody></table>"
      ]
     },
     "metadata": {},
     "output_type": "display_data"
    },
    {
     "data": {
      "text/plain": [
       "['97551a88-9652-42fc-b850-6994a82f7ba2',\n",
       " 'a4242041-1bef-4a62-9311-fdf334839fba',\n",
       " 'dd0bbc96-4625-4a52-9b55-87d2bb7f1ab3',\n",
       " 'f80ac07f-102b-4de6-8c7f-3850983cfc49',\n",
       " '6c3fa849-3384-477b-bd87-cd4f0a886ae7',\n",
       " '67c2963d-53f8-4eb6-b2be-4fa5d73474cc',\n",
       " 'f1fb94b8-13d1-4aa4-b1e0-781ad49257ff',\n",
       " 'c2004cf9-2699-4059-b980-063ddd8fe895',\n",
       " '3390abca-95d7-41eb-93e0-c6d27120ec4d',\n",
       " 'b304643d-3697-4a06-9a13-faa6bd2c6195']"
      ]
     },
     "metadata": {},
     "output_type": "display_data"
    },
    {
     "data": {
      "text/html": [
       "<style  type=\"text/css\" >\n",
       "</style><table id=\"T_f899763e_19b4_11ea_becb_ef15594c373c\" style='display:inline'><thead>    <tr>        <th class=\"blank level0\" ></th>        <th class=\"col_heading level0 col0\" >topic_13 @bigram</th>    </tr></thead><tbody>\n",
       "                <tr>\n",
       "                        <th id=\"T_f899763e_19b4_11ea_becb_ef15594c373clevel0_row0\" class=\"row_heading level0 row0\" >St_szeregowy</th>\n",
       "                        <td id=\"T_f899763e_19b4_11ea_becb_ef15594c373crow0_col0\" class=\"data row0 col0\" >0.02268</td>\n",
       "            </tr>\n",
       "            <tr>\n",
       "                        <th id=\"T_f899763e_19b4_11ea_becb_ef15594c373clevel0_row1\" class=\"row_heading level0 row1\" >ZMP_owca</th>\n",
       "                        <td id=\"T_f899763e_19b4_11ea_becb_ef15594c373crow1_col0\" class=\"data row1 col0\" >0.01279</td>\n",
       "            </tr>\n",
       "            <tr>\n",
       "                        <th id=\"T_f899763e_19b4_11ea_becb_ef15594c373clevel0_row2\" class=\"row_heading level0 row2\" >dobry_wynik</th>\n",
       "                        <td id=\"T_f899763e_19b4_11ea_becb_ef15594c373crow2_col0\" class=\"data row2 col0\" >0.01269</td>\n",
       "            </tr>\n",
       "            <tr>\n",
       "                        <th id=\"T_f899763e_19b4_11ea_becb_ef15594c373clevel0_row3\" class=\"row_heading level0 row3\" >zastępca_dowódca</th>\n",
       "                        <td id=\"T_f899763e_19b4_11ea_becb_ef15594c373crow3_col0\" class=\"data row3 col0\" >0.01204</td>\n",
       "            </tr>\n",
       "            <tr>\n",
       "                        <th id=\"T_f899763e_19b4_11ea_becb_ef15594c373clevel0_row4\" class=\"row_heading level0 row4\" >St_strz</th>\n",
       "                        <td id=\"T_f899763e_19b4_11ea_becb_ef15594c373crow4_col0\" class=\"data row4 col0\" >0.01038</td>\n",
       "            </tr>\n",
       "            <tr>\n",
       "                        <th id=\"T_f899763e_19b4_11ea_becb_ef15594c373clevel0_row5\" class=\"row_heading level0 row5\" >pododdział_oficer</th>\n",
       "                        <td id=\"T_f899763e_19b4_11ea_becb_ef15594c373crow5_col0\" class=\"data row5 col0\" >0.00937</td>\n",
       "            </tr>\n",
       "            <tr>\n",
       "                        <th id=\"T_f899763e_19b4_11ea_becb_ef15594c373clevel0_row6\" class=\"row_heading level0 row6\" >sprawa_polityczny</th>\n",
       "                        <td id=\"T_f899763e_19b4_11ea_becb_ef15594c373crow6_col0\" class=\"data row6 col0\" >0.0083</td>\n",
       "            </tr>\n",
       "            <tr>\n",
       "                        <th id=\"T_f899763e_19b4_11ea_becb_ef15594c373clevel0_row7\" class=\"row_heading level0 row7\" >M_inaczej</th>\n",
       "                        <td id=\"T_f899763e_19b4_11ea_becb_ef15594c373crow7_col0\" class=\"data row7 col0\" >0.00769</td>\n",
       "            </tr>\n",
       "            <tr>\n",
       "                        <th id=\"T_f899763e_19b4_11ea_becb_ef15594c373clevel0_row8\" class=\"row_heading level0 row8\" >koło_ZMP</th>\n",
       "                        <td id=\"T_f899763e_19b4_11ea_becb_ef15594c373crow8_col0\" class=\"data row8 col0\" >0.00747</td>\n",
       "            </tr>\n",
       "            <tr>\n",
       "                        <th id=\"T_f899763e_19b4_11ea_becb_ef15594c373clevel0_row9\" class=\"row_heading level0 row9\" >St_sierż</th>\n",
       "                        <td id=\"T_f899763e_19b4_11ea_becb_ef15594c373crow9_col0\" class=\"data row9 col0\" >0.00721</td>\n",
       "            </tr>\n",
       "    </tbody></table><style  type=\"text/css\" >\n",
       "</style><table id=\"T_f899763f_19b4_11ea_becb_ef15594c373c\" style='display:inline'><thead>    <tr>        <th class=\"blank level0\" ></th>        <th class=\"col_heading level0 col0\" >topic_13 @lemmatized</th>    </tr></thead><tbody>\n",
       "                <tr>\n",
       "                        <th id=\"T_f899763f_19b4_11ea_becb_ef15594c373clevel0_row0\" class=\"row_heading level0 row0\" >żołnierz</th>\n",
       "                        <td id=\"T_f899763f_19b4_11ea_becb_ef15594c373crow0_col0\" class=\"data row0 col0\" >0.01602</td>\n",
       "            </tr>\n",
       "            <tr>\n",
       "                        <th id=\"T_f899763f_19b4_11ea_becb_ef15594c373clevel0_row1\" class=\"row_heading level0 row1\" >dobry</th>\n",
       "                        <td id=\"T_f899763f_19b4_11ea_becb_ef15594c373crow1_col0\" class=\"data row1 col0\" >0.01428</td>\n",
       "            </tr>\n",
       "            <tr>\n",
       "                        <th id=\"T_f899763f_19b4_11ea_becb_ef15594c373clevel0_row2\" class=\"row_heading level0 row2\" >sportowy</th>\n",
       "                        <td id=\"T_f899763f_19b4_11ea_becb_ef15594c373crow2_col0\" class=\"data row2 col0\" >0.01315</td>\n",
       "            </tr>\n",
       "            <tr>\n",
       "                        <th id=\"T_f899763f_19b4_11ea_becb_ef15594c373clevel0_row3\" class=\"row_heading level0 row3\" >szeregowy</th>\n",
       "                        <td id=\"T_f899763f_19b4_11ea_becb_ef15594c373crow3_col0\" class=\"data row3 col0\" >0.01307</td>\n",
       "            </tr>\n",
       "            <tr>\n",
       "                        <th id=\"T_f899763f_19b4_11ea_becb_ef15594c373clevel0_row4\" class=\"row_heading level0 row4\" >kapral</th>\n",
       "                        <td id=\"T_f899763f_19b4_11ea_becb_ef15594c373crow4_col0\" class=\"data row4 col0\" >0.01188</td>\n",
       "            </tr>\n",
       "            <tr>\n",
       "                        <th id=\"T_f899763f_19b4_11ea_becb_ef15594c373clevel0_row5\" class=\"row_heading level0 row5\" >sport</th>\n",
       "                        <td id=\"T_f899763f_19b4_11ea_becb_ef15594c373crow5_col0\" class=\"data row5 col0\" >0.01108</td>\n",
       "            </tr>\n",
       "            <tr>\n",
       "                        <th id=\"T_f899763f_19b4_11ea_becb_ef15594c373clevel0_row6\" class=\"row_heading level0 row6\" >St</th>\n",
       "                        <td id=\"T_f899763f_19b4_11ea_becb_ef15594c373crow6_col0\" class=\"data row6 col0\" >0.00991</td>\n",
       "            </tr>\n",
       "            <tr>\n",
       "                        <th id=\"T_f899763f_19b4_11ea_becb_ef15594c373clevel0_row7\" class=\"row_heading level0 row7\" >strzelanie</th>\n",
       "                        <td id=\"T_f899763f_19b4_11ea_becb_ef15594c373crow7_col0\" class=\"data row7 col0\" >0.00979</td>\n",
       "            </tr>\n",
       "            <tr>\n",
       "                        <th id=\"T_f899763f_19b4_11ea_becb_ef15594c373clevel0_row8\" class=\"row_heading level0 row8\" >wynik</th>\n",
       "                        <td id=\"T_f899763f_19b4_11ea_becb_ef15594c373crow8_col0\" class=\"data row8 col0\" >0.00972</td>\n",
       "            </tr>\n",
       "            <tr>\n",
       "                        <th id=\"T_f899763f_19b4_11ea_becb_ef15594c373clevel0_row9\" class=\"row_heading level0 row9\" >oficer</th>\n",
       "                        <td id=\"T_f899763f_19b4_11ea_becb_ef15594c373crow9_col0\" class=\"data row9 col0\" >0.00886</td>\n",
       "            </tr>\n",
       "    </tbody></table>"
      ]
     },
     "metadata": {},
     "output_type": "display_data"
    },
    {
     "data": {
      "text/plain": [
       "['628a8b41-8a53-4d63-977f-6f8ee07c3c92',\n",
       " 'fec364e9-84b3-443d-84c8-b49d5f07c112',\n",
       " '7326d678-e68e-48a2-bf35-b3123fceb09e',\n",
       " '77decc4f-bd3e-440a-abcf-65f4ed8247c9',\n",
       " 'caf8ba87-5899-47ce-98d7-fc960a472694',\n",
       " '694e83fc-bdc2-482f-a638-42cc7a09a2ab',\n",
       " 'ebf21a1e-6125-4f92-ae6d-4c91a89165ae',\n",
       " '45832bab-0e54-41d6-a635-f682e40bdcb7',\n",
       " '0fb6fc10-82cf-4861-82c5-17729fb98363',\n",
       " 'b131a65f-0a61-4cad-a1c0-4a51266e9f60']"
      ]
     },
     "metadata": {},
     "output_type": "display_data"
    }
   ],
   "source": [
    "from IPython.display import clear_output, display_html\n",
    "\n",
    "n=14\n",
    "for line, topic_docs in list(zip(first_model_html, first_model_top_doc))[:n]:\n",
    "    display_html(line, raw=True)\n",
    "    display(topic_docs)"
   ]
  },
  {
   "cell_type": "code",
   "execution_count": 45,
   "metadata": {},
   "outputs": [
    {
     "data": {
      "text/html": [
       "<style  type=\"text/css\" >\n",
       "</style><table id=\"T_f8997642_19b4_11ea_becb_ef15594c373c\" style='display:inline'><thead>    <tr>        <th class=\"blank level0\" ></th>        <th class=\"col_heading level0 col0\" >background_15 @bigram</th>    </tr></thead><tbody>\n",
       "                <tr>\n",
       "                        <th id=\"T_f8997642_19b4_11ea_becb_ef15594c373clevel0_row0\" class=\"row_heading level0 row0\" >M_inaczej</th>\n",
       "                        <td id=\"T_f8997642_19b4_11ea_becb_ef15594c373crow0_col0\" class=\"data row0 col0\" >0.00313</td>\n",
       "            </tr>\n",
       "            <tr>\n",
       "                        <th id=\"T_f8997642_19b4_11ea_becb_ef15594c373clevel0_row1\" class=\"row_heading level0 row1\" >raz_pierwszy</th>\n",
       "                        <td id=\"T_f8997642_19b4_11ea_becb_ef15594c373crow1_col0\" class=\"data row1 col0\" >0.00263</td>\n",
       "            </tr>\n",
       "            <tr>\n",
       "                        <th id=\"T_f8997642_19b4_11ea_becb_ef15594c373clevel0_row2\" class=\"row_heading level0 row2\" >pierwszy_dzień</th>\n",
       "                        <td id=\"T_f8997642_19b4_11ea_becb_ef15594c373crow2_col0\" class=\"data row2 col0\" >0.00236</td>\n",
       "            </tr>\n",
       "            <tr>\n",
       "                        <th id=\"T_f8997642_19b4_11ea_becb_ef15594c373clevel0_row3\" class=\"row_heading level0 row3\" >brać_udział</th>\n",
       "                        <td id=\"T_f8997642_19b4_11ea_becb_ef15594c373crow3_col0\" class=\"data row3 col0\" >0.00221</td>\n",
       "            </tr>\n",
       "            <tr>\n",
       "                        <th id=\"T_f8997642_19b4_11ea_becb_ef15594c373clevel0_row4\" class=\"row_heading level0 row4\" >siebie_sprawa</th>\n",
       "                        <td id=\"T_f8997642_19b4_11ea_becb_ef15594c373crow4_col0\" class=\"data row4 col0\" >0.00156</td>\n",
       "            </tr>\n",
       "            <tr>\n",
       "                        <th id=\"T_f8997642_19b4_11ea_becb_ef15594c373clevel0_row5\" class=\"row_heading level0 row5\" >coraz_duży</th>\n",
       "                        <td id=\"T_f8997642_19b4_11ea_becb_ef15594c373crow5_col0\" class=\"data row5 col0\" >0.0013</td>\n",
       "            </tr>\n",
       "            <tr>\n",
       "                        <th id=\"T_f8997642_19b4_11ea_becb_ef15594c373clevel0_row6\" class=\"row_heading level0 row6\" >daleki_ciąg</th>\n",
       "                        <td id=\"T_f8997642_19b4_11ea_becb_ef15594c373crow6_col0\" class=\"data row6 col0\" >0.00127</td>\n",
       "            </tr>\n",
       "            <tr>\n",
       "                        <th id=\"T_f8997642_19b4_11ea_becb_ef15594c373clevel0_row7\" class=\"row_heading level0 row7\" >służba_wojskowy</th>\n",
       "                        <td id=\"T_f8997642_19b4_11ea_becb_ef15594c373crow7_col0\" class=\"data row7 col0\" >0.00125</td>\n",
       "            </tr>\n",
       "            <tr>\n",
       "                        <th id=\"T_f8997642_19b4_11ea_becb_ef15594c373clevel0_row8\" class=\"row_heading level0 row8\" >długi_czas</th>\n",
       "                        <td id=\"T_f8997642_19b4_11ea_becb_ef15594c373crow8_col0\" class=\"data row8 col0\" >0.00123</td>\n",
       "            </tr>\n",
       "            <tr>\n",
       "                        <th id=\"T_f8997642_19b4_11ea_becb_ef15594c373clevel0_row9\" class=\"row_heading level0 row9\" >zdawać_siebie</th>\n",
       "                        <td id=\"T_f8997642_19b4_11ea_becb_ef15594c373crow9_col0\" class=\"data row9 col0\" >0.00119</td>\n",
       "            </tr>\n",
       "    </tbody></table><style  type=\"text/css\" >\n",
       "</style><table id=\"T_f8997643_19b4_11ea_becb_ef15594c373c\" style='display:inline'><thead>    <tr>        <th class=\"blank level0\" ></th>        <th class=\"col_heading level0 col0\" >background_15 @lemmatized</th>    </tr></thead><tbody>\n",
       "                <tr>\n",
       "                        <th id=\"T_f8997643_19b4_11ea_becb_ef15594c373clevel0_row0\" class=\"row_heading level0 row0\" >czas</th>\n",
       "                        <td id=\"T_f8997643_19b4_11ea_becb_ef15594c373crow0_col0\" class=\"data row0 col0\" >0.00359</td>\n",
       "            </tr>\n",
       "            <tr>\n",
       "                        <th id=\"T_f8997643_19b4_11ea_becb_ef15594c373clevel0_row1\" class=\"row_heading level0 row1\" >praca</th>\n",
       "                        <td id=\"T_f8997643_19b4_11ea_becb_ef15594c373crow1_col0\" class=\"data row1 col0\" >0.00305</td>\n",
       "            </tr>\n",
       "            <tr>\n",
       "                        <th id=\"T_f8997643_19b4_11ea_becb_ef15594c373clevel0_row2\" class=\"row_heading level0 row2\" >móc</th>\n",
       "                        <td id=\"T_f8997643_19b4_11ea_becb_ef15594c373crow2_col0\" class=\"data row2 col0\" >0.00303</td>\n",
       "            </tr>\n",
       "            <tr>\n",
       "                        <th id=\"T_f8997643_19b4_11ea_becb_ef15594c373clevel0_row3\" class=\"row_heading level0 row3\" >CO</th>\n",
       "                        <td id=\"T_f8997643_19b4_11ea_becb_ef15594c373crow3_col0\" class=\"data row3 col0\" >0.00275</td>\n",
       "            </tr>\n",
       "            <tr>\n",
       "                        <th id=\"T_f8997643_19b4_11ea_becb_ef15594c373clevel0_row4\" class=\"row_heading level0 row4\" >człowiek</th>\n",
       "                        <td id=\"T_f8997643_19b4_11ea_becb_ef15594c373crow4_col0\" class=\"data row4 col0\" >0.0027</td>\n",
       "            </tr>\n",
       "            <tr>\n",
       "                        <th id=\"T_f8997643_19b4_11ea_becb_ef15594c373clevel0_row5\" class=\"row_heading level0 row5\" >siebie</th>\n",
       "                        <td id=\"T_f8997643_19b4_11ea_becb_ef15594c373crow5_col0\" class=\"data row5 col0\" >0.00256</td>\n",
       "            </tr>\n",
       "            <tr>\n",
       "                        <th id=\"T_f8997643_19b4_11ea_becb_ef15594c373clevel0_row6\" class=\"row_heading level0 row6\" >pierwszy</th>\n",
       "                        <td id=\"T_f8997643_19b4_11ea_becb_ef15594c373crow6_col0\" class=\"data row6 col0\" >0.00238</td>\n",
       "            </tr>\n",
       "            <tr>\n",
       "                        <th id=\"T_f8997643_19b4_11ea_becb_ef15594c373clevel0_row7\" class=\"row_heading level0 row7\" >duży</th>\n",
       "                        <td id=\"T_f8997643_19b4_11ea_becb_ef15594c373crow7_col0\" class=\"data row7 col0\" >0.00218</td>\n",
       "            </tr>\n",
       "            <tr>\n",
       "                        <th id=\"T_f8997643_19b4_11ea_becb_ef15594c373clevel0_row8\" class=\"row_heading level0 row8\" >zostać</th>\n",
       "                        <td id=\"T_f8997643_19b4_11ea_becb_ef15594c373crow8_col0\" class=\"data row8 col0\" >0.00216</td>\n",
       "            </tr>\n",
       "            <tr>\n",
       "                        <th id=\"T_f8997643_19b4_11ea_becb_ef15594c373clevel0_row9\" class=\"row_heading level0 row9\" >dzień</th>\n",
       "                        <td id=\"T_f8997643_19b4_11ea_becb_ef15594c373crow9_col0\" class=\"data row9 col0\" >0.00216</td>\n",
       "            </tr>\n",
       "    </tbody></table>"
      ]
     },
     "metadata": {},
     "output_type": "display_data"
    },
    {
     "name": "stdout",
     "output_type": "stream",
     "text": [
      "c30b55fd-0817-49fe-8e81-088068f1827a\n",
      "4aac8267-67c1-44be-a543-db2a2fab724a\n",
      "06411c57-f3d2-45b2-9db9-0a3c94c209c1\n",
      "fc705ad9-c46e-435a-b7ee-7a8b4c0130a7\n",
      "009eed78-2757-4b59-bff4-e4ff03832842\n",
      "cb899d8d-3001-49a9-a1bd-891e038a0e19\n",
      "bffd4a3e-82dd-4185-939c-25f631cd329d\n",
      "b49692a8-f263-4a02-8419-44d479c24e0a\n",
      "a14b7aae-471b-4075-8522-795daaea71e8\n",
      "b2bf3f94-565f-4055-b896-ee427ceeecbe\n"
     ]
    }
   ],
   "source": [
    "display_html(first_model_html[-1], raw=True)\n",
    "    \n",
    "topic_docs = first_model_top_doc[-1]\n",
    "topic_docs = [str(topic) for topic in topic_docs]\n",
    "for doc_id in topic_docs:\n",
    "    print(doc_id)"
   ]
  },
  {
   "cell_type": "code",
   "execution_count": 46,
   "metadata": {},
   "outputs": [
    {
     "data": {
      "text/plain": [
       "Experiment experiment2\n",
       "\n",
       "Experiment was made with BigARTM 0.10.0\n",
       "Tree:\n",
       "                              ┌##13h15m52s_08d12m2019y###\n",
       "                              ├##13h15m58s_08d12m2019y###\n",
       "                              ├##13h16m05s_08d12m2019y###\n",
       "                              ├##13h16m11s_08d12m2019y###\n",
       "                              ├##13h16m17s_08d12m2019y###\n",
       "                              ├##13h16m24s_08d12m2019y###\n",
       "                              ├##13h16m30s_08d12m2019y###\n",
       "                              ├##13h16m36s_08d12m2019y###\n",
       "                              ├##13h16m41s_08d12m2019y###\n",
       "<<<<<<<<<<<root>>>>>>>>>>>────┤\n",
       "                              ├##13h16m46s_08d12m2019y###\n",
       "                              ├##13h16m51s_08d12m2019y###\n",
       "                              ├##13h16m57s_08d12m2019y###\n",
       "                              │                                                            ┌##13h18m42s_08d12m2019y###\n",
       "                              │                                                            ├##13h18m50s_08d12m2019y###\n",
       "                              ├##13h17m03s_08d12m2019y###──────────────────────────────────┤\n",
       "                              │                                                            ├##13h18m59s_08d12m2019y###\n",
       "                              │                                                            └##13h19m06s_08d12m2019y###\n",
       "                              ├##13h17m09s_08d12m2019y###\n",
       "                              ├##13h17m15s_08d12m2019y###\n",
       "                              │                                                            ┌##13h18m04s_08d12m2019y###\n",
       "                              │                                                            ├##13h18m12s_08d12m2019y###\n",
       "                              ├##13h17m21s_08d12m2019y###──────────────────────────────────┤\n",
       "                              │                                                            ├##13h18m20s_08d12m2019y###\n",
       "                              │                                                            └##13h18m28s_08d12m2019y###\n",
       "                              ├##13h17m27s_08d12m2019y###\n",
       "                              └##13h17m34s_08d12m2019y###\n",
       "Cubes:\n",
       " START                        | REG_MODIFIER                                               | REG_MODIFIER                                                                                         \n",
       "                              |                                                            |                                                                                                      \n",
       " name:                        | tau_grid:                                                  | tau_grid:                                                                                            \n",
       "   ARTM                       |   0,                                                       |   -0.05,                                                                                             \n",
       " num_processors:              |   0.005,                                                   |   -0.01                                                                                              \n",
       "   3                          |   ...,                                                     | regularizer:                                                                                         \n",
       " num_topics:                  |   0.02,                                                    |   name=smsp_theta_specific,                                                                          \n",
       "   16                         |   0.025                                                    |   doc_titles=[],                                                                                     \n",
       " topic_names:                 | regularizer:                                               |   doc_topic_coef=[],                                                                                 \n",
       "   topic_0,                   |   name=decorrelation_phi,                                  |   alpha_iter=[],                                                                                     \n",
       "   topic_1,                   |   class_ids=[@lemmatized],                                 |   topic_names=[topic_0, topic_1, ..., topic_13, topic_14],                                           \n",
       "   ...,                       |   topic_names=[topic_0, topic_1, ..., topic_13, topic_14], |   tau=1.0                                                                                            \n",
       "   topic_14,                  |   tau=1.0                                                  |    +                                                                                                 \n",
       "   background_15              |    +                                                       | tau_grid:                                                                                            \n",
       " class_ids:                   | tau_grid:                                                  |   0.01,                                                                                              \n",
       "   @lemmatized=1.0,           |   -0.05,                                                   |   0.1                                                                                                \n",
       "   @bigram=4.678379865960133  |   0,                                                       | name:                                                                                                \n",
       " seed:                        |   0.05                                                     |   smooth_theta_bcg                                                                                   \n",
       "   -1                         | regularizer:                                               |                                                                                                      \n",
       "                              |   name=smsp_phi_specific,                                  |                                                                                                      \n",
       "                              |   class_ids=[@lemmatized],                                 |                                                                                                      \n",
       "                              |   topic_names=[topic_0, topic_1, ..., topic_13, topic_14], |                                                                                                      \n",
       "                              |   dictionary=,                                             |                                                                                                      \n",
       "                              |   tau=1.0                                                  |                                                                                                      \n",
       "                              |    +                                                       |                                                                                                      \n",
       "                              | tau_grid:                                                  |                                                                                                      \n",
       "                              |   0.1                                                      |                                                                                                      \n",
       "                              | name:                                                      |                                                                                                      \n",
       "                              |   smooth_phi_bcg                                           |                                                                                                      \n",
       "                              |                                                            |                                                                                                      \n",
       "──────────────────────────────+────────────────────────────────────────────────────────────+───────────────────────────────────────────────────────────────────────────────────────────────────────+─────────────────────────────────────────────────────────────────────────────────────────────────────\n",
       "                              |                                                            | stage criteria 1:                                                                                    \n",
       "                              |                                                            |     TopicKernel@lemmatized.average_contrast > 0.92 * MAXIMUM(TopicKernel@lemmatized.average_contrast)\n",
       "                              |                                                            |     TopicKernel@lemmatized.average_purity > 0.92 * MAXIMUM(TopicKernel@lemmatized.average_purity)    \n",
       "                              |                                                            |     PerplexityScore@all < 1.1 * MINIMUM(PerplexityScore@all)                                         \n",
       "                              |                                                            |     SparsityThetaScore > MEDIAN(SparsityThetaScore)                                                  \n",
       "                              |                                                            |                                                                                                      "
      ]
     },
     "metadata": {},
     "output_type": "display_data"
    }
   ],
   "source": [
    "experiment.set_criteria(cube_index=2, criteria=query)\n",
    "experiment.show()"
   ]
  },
  {
   "cell_type": "code",
   "execution_count": 47,
   "metadata": {},
   "outputs": [],
   "source": [
    "from topicnet.viewers import TopDocumentsViewer\n",
    "from IPython.display import display_html, display"
   ]
  },
  {
   "cell_type": "code",
   "execution_count": 48,
   "metadata": {},
   "outputs": [],
   "source": [
    "tdv = TopDocumentsViewer(best_model, demo_data)"
   ]
  },
  {
   "cell_type": "code",
   "execution_count": 49,
   "metadata": {},
   "outputs": [],
   "source": [
    "top_docs = tdv.view()"
   ]
  },
  {
   "cell_type": "code",
   "execution_count": 50,
   "metadata": {},
   "outputs": [
    {
     "name": "stdout",
     "output_type": "stream",
     "text": [
      "//////topic_0//////\n"
     ]
    },
    {
     "data": {
      "text/html": [
       "<b>dacf0686-a7e9-4561-9262-413140274424</b><br /> Dotychczasowa praca nad rozwojem ideologicznym poszczególnych członków partii nie była zadawalająca , świadczyło o tym wiele przykładów . Np "
      ]
     },
     "metadata": {},
     "output_type": "display_data"
    },
    {
     "data": {
      "text/html": [
       "<b>a601b92b-ad7f-4520-b38c-fd95808677fd</b><br /> Członkowie oddziałowej organizacji partyjnej szeroko omówili tę sprawę . Występujący w dyskusji towarzysze stwierdzili , że pododdział ma wielu przodujących szeregowców i podoficerów , którzy przy odpowiedniej pracy nad nimi winni byli znaleźć się w szeregach partii "
      ]
     },
     "metadata": {},
     "output_type": "display_data"
    },
    {
     "data": {
      "text/html": [
       "<b>ad204465-f97f-4513-adc5-f86ce14581af</b><br /> Towarzysz Bierut na VII Plenum Komitetu Centralnego PZPR wskazał , że : \" Szczególne znaczenie dla podniesienia stanu organizacyjnego i polepszenia jakościowego składu partii posiada uchwala KC z grudnia ub . roku \" "
      ]
     },
     "metadata": {},
     "output_type": "display_data"
    },
    {
     "data": {
      "text/html": [
       "<b>970930ca-054d-475d-9fdc-b18cf1a05ea0</b><br /> Jedno z podstawowych zadań , jakie stoją przed waszą organizacją oddziałową , to udzielanie partyjnej opieki i pomocy zarządom kół ZMP — pouczał nowowybranego sekretarza oddziałowej organizacji partyjnej , elewa Zielińskiego , sekretarz komitetu , tow . Krzemiński "
      ]
     },
     "metadata": {},
     "output_type": "display_data"
    },
    {
     "data": {
      "text/html": [
       "<b>e6f1902c-bbec-4806-80f1-3a136fdc870e</b><br /> W minionym roku szkolnym trzeba było pokonywać poważne trudności , które utrudniały normalne szkolenie . Zdarzały się nawet wypadki zrywania szkolenia z powodu małej frekwencji uczestników "
      ]
     },
     "metadata": {},
     "output_type": "display_data"
    },
    {
     "data": {
      "text/html": [
       "<b>3bbde974-942d-4a16-a94e-cb7e115cbbe8</b><br /> Zebrania sprawozdawczo - wyborcze kół ZMP w Wojsku odbywają się w warunkach wielkiego wzrostu politycznej aktywności mas żołnierskich , w okresie gdy cały naród polski ofiarnym , patriotycznym wysiłkiem realizuje porywające zadania II Zjazdu PZPR . Przebieg zebrań sprawozdawczo - wyborczych ZMP pokazuje , że dzięki troskliwemu kierownictwu aparatu politycznego i organizacji partyjnych organizacje ZMP poważnie okrzepły "
      ]
     },
     "metadata": {},
     "output_type": "display_data"
    },
    {
     "data": {
      "text/html": [
       "<b>4dd7d372-5e53-4391-86b4-31b2d5ca0941</b><br /> Pomoże im to niewątpliwie ocenić , jak uchwały te były realizowane w pracy partyjnej . Towarzysz Kojder słusznie wiele uwagi poświecił zanalizowaniu rozwoju ideologicznego członków i kandydatów partii oraz ich aktywności politycznej "
      ]
     },
     "metadata": {},
     "output_type": "display_data"
    },
    {
     "data": {
      "text/html": [
       "<b>02f23b0b-48da-4959-8d8f-4a8e035c03fb</b><br /> Partia nasza stale oczyszcza się z elementów obcoklasowych , karierowiczowskich i wrogich , lecz przyjmuje do swych szeregów najbardziej uświadomionych robotników i pracujących chłopów , którzy codziennym swoim ofiarnym trudem wprowadzają w czyn idee partii . W wyniku niesłusznego stanowiska komitetu partyjnego i egzekutyw oddziałowych organizacji partyjnych w sprawie wzrostu szeregów partyjnych , podczas szkolenia na obozie letnim został przyjęty w poczet kandydatów partii tylko jeden oficer L "
      ]
     },
     "metadata": {},
     "output_type": "display_data"
    },
    {
     "data": {
      "text/html": [
       "<b>015b48b2-7fd1-41cb-95c0-3533147cf3f6</b><br /> Z perspektywy tych kilku miesięcy można postawić pytanie : jak komitet partyjny , którego sekretarzem jest tow . Krutysza , realizuje uchwałę ? – Nasza organizacja partyjna – mówi tow "
      ]
     },
     "metadata": {},
     "output_type": "display_data"
    },
    {
     "data": {
      "text/html": [
       "<b>319951df-295d-4006-86dc-e727d3aa527e</b><br /> Członkowie partii z zainteresowaniem wysłuchali wystąpień przodowników . Zebranie zaktywizowało całą organizację , do walki o wyniki wyszkolenia "
      ]
     },
     "metadata": {},
     "output_type": "display_data"
    },
    {
     "name": "stdout",
     "output_type": "stream",
     "text": [
      "===================\n",
      "//////topic_1//////\n"
     ]
    },
    {
     "data": {
      "text/html": [
       "<b>939b1be9-b903-47bf-98f8-85e9bd2b0e1a</b><br /> Prawie we wszystkich województwach rolnicy przystąpili już do siewów zbóż jarych . Nasilenie prac siewnych przy sprzyjającej nadal pogodzie wzmaga się z każdym dniem "
      ]
     },
     "metadata": {},
     "output_type": "display_data"
    },
    {
     "data": {
      "text/html": [
       "<b>f6ca8fc7-5fa6-4f5e-82c0-4d9e73e049e4</b><br /> Prace wiosenne trwają już we wszystkich częściach kraju . Utrzymująca się pogoda umożliwia gospodarzą indywidualnym , członkom spółdzielni produkcyjnych i robotnikom PGR szybkie przeprowadzanie siewów "
      ]
     },
     "metadata": {},
     "output_type": "display_data"
    },
    {
     "data": {
      "text/html": [
       "<b>0f1ec3ba-3e8c-4b54-a8ec-dfa6f6a744e6</b><br /> ( Od kor . ) "
      ]
     },
     "metadata": {},
     "output_type": "display_data"
    },
    {
     "data": {
      "text/html": [
       "<b>71636bf7-8167-4ad8-8264-3f561768ad22</b><br /> A wiec mamy już oczekiwane przez wszystkich wyniki wyborów do rad narodowych — cyfry świadczące o wielkim sukcesie Frontu Narodowego zespalającego cały nasz naród w walce o coraz piękniejszą Polskę , w walce o socjalizm i potęgę ludowej ojczyzny , w walce o dostatnie życie i dobrobyt dla wszystkich obywateli , naszego kraju . Cyfra ilustrująca , jaki procent uprawnionych do głosowania wzięło udział w wyborach — ok "
      ]
     },
     "metadata": {},
     "output_type": "display_data"
    },
    {
     "data": {
      "text/html": [
       "<b>b9e4620c-8793-453b-a863-9703cd8fbcc0</b><br /> Obok publikujemy nieoficjalne , wstępne dane o wynikach wyborów do Sejmu Polskiej Rzeczypospolitej Ludowej . Ponad 95 procent uprawnionych do głosowania uczestniczyło w wyborach , przeszło 99 procent oddanych głosów padło na listy Frontu Narodowego "
      ]
     },
     "metadata": {},
     "output_type": "display_data"
    },
    {
     "data": {
      "text/html": [
       "<b>c2e61a50-99a2-4bd4-90e4-214f3c458f2e</b><br /> Sprawnie przebiegają również prace żniwne w przodującej na Dolnym Śląsku spółdzielni w Wilczkowie w tym samym powiecie . Spółdzielcy z Wilczkowa zakończyli w ubiegłą sobotę sprzęt rzepaku i jęczmienia ozimego , a do 7 lipca skosili żyto na ponad 20 ha "
      ]
     },
     "metadata": {},
     "output_type": "display_data"
    },
    {
     "data": {
      "text/html": [
       "<b>1b8d7da7-b7cf-479c-a4c9-c86bd0577ec4</b><br /> Prastare mury Krakowa gościły onegdaj najlepszych synów polskiej wsi . Na ogólnopolskie dożynki — radosne święto milionowych mas pracujących zarówno wsi jak i miast , zjechali mało i średniorolni chłopi , wyróżniający się wzorową pracą na roli i sukcesami w hodowli oraz patriotyczną postawą w spełnianiu obowiązków wobec państwa "
      ]
     },
     "metadata": {},
     "output_type": "display_data"
    },
    {
     "data": {
      "text/html": [
       "<b>f0167fc1-0676-4b17-b2a2-a1da999f84a0</b><br /> Ogłoszony został Program Wyborczy Frontu Narodowego , Frontu , w którym jednoczą się wszyscy Polacy w walce o rozkwit i siłę Polskiej Rzeczypospolitej Ludowej , o wzrost dobrobytu i coraz lepszą przyszłość ludzi pracy , w walce o umocnienie niepodległości Zjednoczonej Ojczyzny , o utrzymanie i utrwalenie pokoju , w walce z najmitami imperializmu , którzy chcieli by nasz naród rozbić i osłabić . Program Wyborczy Frontu Narodowego podsumowuje historyczne osiągnięcia Polski Ludowej i wskazuje zadania , których realizacja w ciągu bieżącego dziesięciolecia uczyni Polskę \" krajem potężnego nowoczesnego przemysłu , krajem rozwijającego się , postępowego rolnictwa , krajem wysokiej kultury , jednym z przodujących krajów Europy \" "
      ]
     },
     "metadata": {},
     "output_type": "display_data"
    },
    {
     "data": {
      "text/html": [
       "<b>15e5ec9b-f374-4182-abe0-8ac840f03764</b><br /> Dzisiejszy Zjazd Ogólnokrajowy zbiega się z 20 rocznicą zjazdu kołchoźników radzieckich . Ten historyczny Zjazd dał wytyczne , według których kształtowały się i rozwijały kołchozy radzieckie , na których my się wzorujemy , umacniając nasze spółdzielnie produkcyjne "
      ]
     },
     "metadata": {},
     "output_type": "display_data"
    },
    {
     "data": {
      "text/html": [
       "<b>a22d6e72-1a38-4f22-a305-59950bb893a6</b><br /> Manifestacyjne odstawy , tzw . „ dni zbożowe ” odbywają się w różnych częściach kraju niemal codziennie "
      ]
     },
     "metadata": {},
     "output_type": "display_data"
    },
    {
     "name": "stdout",
     "output_type": "stream",
     "text": [
      "===================\n",
      "//////topic_2//////\n"
     ]
    },
    {
     "data": {
      "text/html": [
       "<b>c14a597a-3b18-4f3d-9a62-3a32e6365976</b><br /> Berlin ( pap ) — Niemieckie dzienniki demokratyczne podkreślają doniosłość Konferencji międzynarodowej w sprawie pokojowego rozwiązania problemu niemieckiego dla dalszej walki narodu niemieckiego na wschodzie i zachodzie kraju przeciwko układom miedzy Bonn a mocarstwami zachodnimi , dla walki o jedność Niemiec i o traktat pokojowy . \" Neues Deutschland \" stwierdza w artykule wstępnym , że wyniki konferencji mają duże znaczenie nie tylko dla samych Niemiec , lecz i dla dalszych losów narodów europejskich "
      ]
     },
     "metadata": {},
     "output_type": "display_data"
    },
    {
     "data": {
      "text/html": [
       "<b>0187c9f4-b119-4b59-9ae8-d9cbc514d698</b><br /> „ Kłamstwo , że Wschód zagraża rzekomo naszemu życiu i bezpieczeństwu — powiedział Reimann — to parawan , na którym amerykańscy i niemieccy imperialiści ukrywają swe prawdziwe agresywne cele . Ktokolwiek spojrzy uważnie na politykę imperialistów amerykańskich na całym świecie , a zwłaszcza w Niemczech zachodnich , musi dojść do wniosku , że poza plecami narodu niemieckiego i przy czynnej współpracy Adenauera przygotowuje się likwidację wszystkich suwerennych praw narodu niemieckiego "
      ]
     },
     "metadata": {},
     "output_type": "display_data"
    },
    {
     "data": {
      "text/html": [
       "<b>6b5d2d81-c290-4c1f-bc3a-d8716badfc3a</b><br /> Berlin ( pap ) — Z Bonn donoszą , że podczas debaty w parlamencie zachodnio - niemieckim przewodniczący Komunistycznej Partii Niemiec ( KPD ) Max Reimann wygłosił przemówienie , w którym zdemaskował zgubne dla pokoju i dla jedności Niemiec militarystyczne plany adenauerowskich agentów imperializmu amerykańskiego . Podczas gdy kanclerz Adenauer - powiedział Reimann — uzasadnia tu konieczność wprowadzenia powszechnej służby wojskowej w całym narodzie niemieckim wzmaga potężny ruch protestu , który dowodzi jasno , że między rządem w Bonn a narodem niemieckim istnieje głęboka przepaść "
      ]
     },
     "metadata": {},
     "output_type": "display_data"
    },
    {
     "data": {
      "text/html": [
       "<b>db377984-90b3-4130-8c8a-400980688a32</b><br /> Przywódcy niemieckiego demokratycznego Frontu Narodowego zdawali sobie od samego początku sprawę , że bez podjęcia tej walki , bez wygrania tej bitwy nie ma mowy o wygraniu bitwy o Niemcy demokratyczne , o Niemcy zjednoczone , jednym słowem , o nowe Niemcy . Bitwa ta wciąż jeszcze trwa , ale już dziś można stwierdzić , że musi się ona skończyć zwycięstwem sił demokratycznych "
      ]
     },
     "metadata": {},
     "output_type": "display_data"
    },
    {
     "data": {
      "text/html": [
       "<b>a36d8435-44a1-4bbd-80c9-84dcd933ac72</b><br /> W historycznym okresie budowania Niemiec Demokratycznych , a następnie na stanowisku prezydenta NRD Wilhelm Pieck wielokrotnie podkreślał przed narodem niemieckim i wobec całego świata swój stosunek do Polski Ludowej , i do wspólnych , przyjaznych perspektyw rozwojowych obydwu krajów . Mocne i dobitne wypowiedzi prezydenta Piecka , nakreślające kierunek polityki NRD , wywołały w obozie imperialistycznym i wśród jego adenauerowskich sługusów przerażenie i nienawiść "
      ]
     },
     "metadata": {},
     "output_type": "display_data"
    },
    {
     "data": {
      "text/html": [
       "<b>95c3317c-d33a-4d35-ae94-223489720454</b><br /> Dwa lata temu , 6 lipca 1950 roku , w Zgorzelcu nad Nysą Łużycką podpisany został między Rzeczpospolitą Polską a Niemiecką Republiką Demokratyczną układ o wytyczeniu ustalonej i istniejącej polsko - niemieckiej granicy państwowej . Układ uznał granicę na Odrze i Nysie \" jako nienaruszalną granicę pokoju i przyjaźni , która nie dzieli , lecz łączy oba narody \" "
      ]
     },
     "metadata": {},
     "output_type": "display_data"
    },
    {
     "data": {
      "text/html": [
       "<b>b6341c01-58e0-44ab-9d4b-86fbb2e5f6eb</b><br /> Sekretarz generalny zrzeszenia związków zawodowych okręgu paryskiego Eugene Henaff wygłosił przemówienie , w którym stwierdził , że rząd francuski wzmaga na rozkaz imperialistów amerykańskich przygotowania do agresywnej wojny i przy pomocy zdradzieckich rozłamowych amerykańskich związków zawodowych zamierza rozpocząć akcję represyjną w stosunku do Powszechnej Konfederacji Pracy ( CGT ) . Jednocześnie reakcja francuska domaga się zakazu działalności Partii Komunistycznej "
      ]
     },
     "metadata": {},
     "output_type": "display_data"
    },
    {
     "data": {
      "text/html": [
       "<b>cd14475a-c988-4788-ab0e-58c12c9d30f2</b><br /> Zakończony przed kilku dniami Kongres prawicowych socjalistów francuskich SFIO powziął uchwalę popierającą ratyfikację układu o „ europejskiej wspólnocie obronnej ” , czyli — mówiąc innymi słowy — uchwałę popierającą remilitaryzację Niemiec zachodnich . Zarówno w Waszyngtonie jak i w Bonn wyniki Kongresu SFIO powitane zostały z ogromną radością "
      ]
     },
     "metadata": {},
     "output_type": "display_data"
    },
    {
     "data": {
      "text/html": [
       "<b>f193452c-858e-4dca-810d-7293a49000ae</b><br /> W realizacji tej polityki USA dążą do utrwalenia podziału Niemiec , do uniemożliwienia narodowi niemieckiemu włączenia się do rodziny miłujących pokój narodów . Waszyngton narzuca Niemcom zachodnim separatystyczny traktat , każe tworzyć armię w Bonn i na jej czele stawia oprawców nieszczęść i masowych mordów , dokonywanych w okresie ostatniej wojny "
      ]
     },
     "metadata": {},
     "output_type": "display_data"
    },
    {
     "data": {
      "text/html": [
       "<b>294d733d-0b9d-4f10-8218-fb2cd487a5e0</b><br /> Sojusznicy hitlerowcówOstatnie miesiące przyniosły z krajów paktu atlantyckiego szereg wiadomości , świadczących o tym , że w osobach prawicowych socjalistów imperializm amerykański posiada gorliwych orędowników odbudowy hitlerowskiego Wehrmachtu , orędowników sojuszu z hitlerowskimi zbrodniarzami wojennymi . Zdradzając najżywotniejsze interesy narodu francuskiego , „ socjaliści ” Mollet i Moch głoszą konieczność remilitaryzacji Niemiec i popierają socjaldemokratę niemieckiego Schumachera , który jest jednym z najzacieklejszych odwetowców niemieckich , który , jak sam powiedział , marzy o „ działaniach wojennych nad Niemnem i Wisłą ” "
      ]
     },
     "metadata": {},
     "output_type": "display_data"
    },
    {
     "name": "stdout",
     "output_type": "stream",
     "text": [
      "===================\n",
      "//////topic_3//////\n"
     ]
    },
    {
     "data": {
      "text/html": [
       "<b>00a2b90d-fde7-413b-8957-e2ceb1b7f287</b><br /> Dziś rozpoczyna się w Wiedniu pierwszy w dziejach Kongres Narodów w Obronie Pokoju . Towarzyszą mu najgorętsze i najserdeczniejsze uczucia setek milionów ludzi we wszystkich krajach świata , ludzi wszystkich zawodów , różnych warstw społecznych , różnych języków i przekonań "
      ]
     },
     "metadata": {},
     "output_type": "display_data"
    },
    {
     "data": {
      "text/html": [
       "<b>c890994d-8079-47de-b408-6547ec61b7fe</b><br /> W posiedzeniach Komitetu Międzynarodowych Nagród Stalinowskich wzięli udział oprócz przewodniczącego Skobielcyna : wiceprzewodniczący pisarz Louis Aragon ( Francja ) i członkowie Komitetu : profesor uniwersytetu londyńskiego John Bernal ( Anglia ) , poeta Pablo Neruda ( Chile ) , profesor uniwersytetu łódzkiego Jan Dembowski ( Polska ) , członek Akademii Michał Sadoveanu ( Rumunia ) oraz pisarze radzieccy A . Fadiejew i I "
      ]
     },
     "metadata": {},
     "output_type": "display_data"
    },
    {
     "data": {
      "text/html": [
       "<b>e7b77b09-bb8f-424a-a118-25f91a0ed51f</b><br /> 30 listopada 1952 roku obradować będzie w Warszawie II Ogólnopolski Kongres Obrońców Pokoju . Zgromadzeni na nim przedstawiciele społeczeństwa miast i wsi wybiorą nowe władze Polskiego Komitetu Obrońców Pokoju oraz delegację polską na Kongres Narodów w Obronie Pokoju , który rozpocznie się w Wiedniu 12 grudnia br "
      ]
     },
     "metadata": {},
     "output_type": "display_data"
    },
    {
     "data": {
      "text/html": [
       "<b>1db7dfda-64a5-4081-80b1-c5c1e3317e38</b><br /> W Treptower Park do wielotysięcznej rzeszy zgromadzonych przemawiali : przewodniczący Światowej Federacji Młodzieży Demokratycznej Berlinguer , nieustraszony bojownik o pokój , wielki poeta turecki Nazim Hikmet , przedstawiciele młodzieży irańskiej , niemieckiej , hinduskiej , radzieckiej , młodzieży postępowej Syrii , Zachodniej Afryki , Stanów Zjednoczonych , Chin , Vietnamu , Francji i Korei . Życzymy bohaterskiej młodzieży Korei zwycięstwa w jej sprawiedliwej walce — powiedział Berlinguer wyrażając gorące uczucia przyjaźni do narodu i młodzieży koreańskiej w imieniu 72 milionów członków Światowej Federacji Młodzieży Demokratycznej "
      ]
     },
     "metadata": {},
     "output_type": "display_data"
    },
    {
     "data": {
      "text/html": [
       "<b>76c4938a-022c-4500-8341-bde775f89fab</b><br /> Na sali zgromadzili się liczni przedstawiciele radzieckich organizacji społecznych — Radzieckiego Komitetu Obrony Pokoju , Antyfaszystowskiego Komitetu Kobiet Radzieckich , Antyfaszystowskiego Komitetu Młodzieży Radzieckiej i Związków Zawodowych . Wśród obecnych znajdowali się najwybitniejsi uczeni ZSRR , pisarze , artyści , stachanowcy "
      ]
     },
     "metadata": {},
     "output_type": "display_data"
    },
    {
     "data": {
      "text/html": [
       "<b>53f5979b-e64c-4ed8-be48-9979383f704f</b><br /> Do walki o pokój powstały milionowe masy wszystkich krajów , a wśród nich na pierwszym miejscu Związek Radziecki , który 115 milionami podpisów pod Apelem Sztokholmskim dowiódł , że ludność jego pragnie pokoju , że walczyć będzie o trwały pokój . Ogólna ilość podpisów pod Apelem Sztokholmskim wynosi dotąd około 500 milionów "
      ]
     },
     "metadata": {},
     "output_type": "display_data"
    },
    {
     "data": {
      "text/html": [
       "<b>548fb2b8-561c-48d9-b007-71e37e08ae93</b><br /> Jeśli chodzi o ruch obrońców pokoju – mówi dalej Marinello – to jest on zwalczany przez imperialistów z równą zawziętością i konsekwencją , co ruch robotniczy . Nawet w niektórych krajach Ameryki Łacińskiej , jak w Brazylii , San Domingo i Argentynie , ruch pokoju jest nielegalny "
      ]
     },
     "metadata": {},
     "output_type": "display_data"
    },
    {
     "data": {
      "text/html": [
       "<b>97b102e1-edaa-4f76-ad8c-e86414e6570a</b><br /> Kobiety Warszawy gorąco manifestowały wolę walki o pokój i przyjaźń między narodami na spotkaniu z delegatkami polskimi i zagranicznymi na Światowy Kongres Kobiet w Kopenhadze , które odbyło się w dniu 17 bm . w Hali Mirowskiej "
      ]
     },
     "metadata": {},
     "output_type": "display_data"
    },
    {
     "data": {
      "text/html": [
       "<b>28974d56-c388-4b9e-bd0e-4bf026fc23af</b><br /> Młodzież akademicka przeprowadza obecnie Międzyuczelniane Mistrzostwa Polski . Odbywają się one pod hasłem : „ Z dobrymi wynikami w nauce i sporcie witamy III Światowy Zlot Młodych Bojowników o Pokój i XI Światowe Akademickie Igrzyska w Berlinie ” "
      ]
     },
     "metadata": {},
     "output_type": "display_data"
    },
    {
     "data": {
      "text/html": [
       "<b>45cb3b3b-a4d5-4946-9b77-064dffec2851</b><br /> Kongres Narodów w Wiedniu będzie dlatego pierwszym tego rodzaju kongresem w dziejach , że nigdy jeszcze tak szerokie przedstawicielstwo narodów , poglądów , przekonań nie spotkało się na międzynarodowym zjeździe . Ostatni okres przygotowań do Kongresu wypełniony był licznymi zgłoszeniami o udziale , napływającymi ze strony stowarzyszeń , organizacji a nawet i indywidualnych ludzi , którzy dotychczas zachowywali bierną postawę wobec ruchu pokoju "
      ]
     },
     "metadata": {},
     "output_type": "display_data"
    },
    {
     "name": "stdout",
     "output_type": "stream",
     "text": [
      "===================\n",
      "//////topic_4//////\n"
     ]
    },
    {
     "data": {
      "text/html": [
       "<b>2e14b709-1c86-4a41-875d-186aacbce0fe</b><br /> Przodujące załogi fabryk przemysłu maszynowego meldują już o wykonaniu półrocznych planów produkcji . 11 bm "
      ]
     },
     "metadata": {},
     "output_type": "display_data"
    },
    {
     "data": {
      "text/html": [
       "<b>32444e73-34e4-4e48-8dfa-aeba2dd7b684</b><br /> Współzawodnictwo o zaszczytne miano najlepszego dostawcy dla Nowej Huty ogarnia coraz szersze rzesze łódzkich robotników , inżynierów i techników . Ostatnio do współzawodnictwa tego przystąpiły załogi dwu zakładów przemysłu elektrotechnicznego , a mianowicie zakładów A - 11 i zakładów A - 2 "
      ]
     },
     "metadata": {},
     "output_type": "display_data"
    },
    {
     "data": {
      "text/html": [
       "<b>fe3902ab-5767-486e-bd1e-c3a64441b538</b><br /> Załoga M S „ Hugo Kołłątaj ” , przez wykonanie robót remontowych na jednostce , zaoszczędzi przeszło 30 tys . zł "
      ]
     },
     "metadata": {},
     "output_type": "display_data"
    },
    {
     "data": {
      "text/html": [
       "<b>31686cdc-b751-459b-9446-04db2cbccae3</b><br /> Co dzień napływają setki meldunków , świadczących , że polscy robotnicy , chłopi i inteligencja pracująca nieustannie zwiększają swój udział w walce o pokój . Dla uczczenia 33 rocznicy Wielkiej Rewolucji Październikowej i II Światowego Kongresu Pokoju wciąż podejmowane są nowe , wielomilionowej wartości zobowiązania "
      ]
     },
     "metadata": {},
     "output_type": "display_data"
    },
    {
     "data": {
      "text/html": [
       "<b>42e16674-6391-426a-bf9f-1968f2f4782d</b><br /> Już od kilku dni pada zimny , przenikliwy deszcz . Przeklęty deszcz ! — mówią robotnicy patrząc z troską na ciemne , zachmurzone niebo "
      ]
     },
     "metadata": {},
     "output_type": "display_data"
    },
    {
     "data": {
      "text/html": [
       "<b>c0666c07-cf9e-4155-9d62-dfb5ab501856</b><br /> W szybkim tempie postępuje naprzód budowa największej w kraju Wytwórni Materiałów Ogniotrwałych — ogromnego rejonu produkcyjnego Kombinatu Nowa Huta , który jako drugi po rejonie warsztatów mechaniczno - remontowych ma rozpocząć produkcję już w roku bieżącym . Na budowie młynowni , jednego z wielkich obiektów wchodzących w skład tego rejonu , zakończono już wykonywanie konstrukcji żelbetowych "
      ]
     },
     "metadata": {},
     "output_type": "display_data"
    },
    {
     "data": {
      "text/html": [
       "<b>0e95538c-955e-45b2-b182-66da41cd8e46</b><br /> Do IV Światowego Festiwalu Młodzieży i Studentów w Bukareszcie pozostały niecałe dwa miesiące . W naszym kraju , we wszystkich miastach i wioskach trwają przygotowania do tej wielkiej uroczystości "
      ]
     },
     "metadata": {},
     "output_type": "display_data"
    },
    {
     "data": {
      "text/html": [
       "<b>f6ba1b12-a656-454f-924a-4c451019f9a5</b><br /> Przodująca młodzież ZMP-owska , wierna naukom Wielkiego Stalina , wstępuje do Polskiej Zjednoczonej Partii Robotniczej , która przewodzi narodowi w budowie socjalizmu . Najlepsza niezorganizowana młodzież zgłasza się do szeregów ZMP "
      ]
     },
     "metadata": {},
     "output_type": "display_data"
    },
    {
     "data": {
      "text/html": [
       "<b>278a9cdd-a00d-4a71-8d43-3e385901ac3d</b><br /> W olbrzymiej hali montażu głównego srebrzyste taśmy przenośników dźwigają jasne , lśniące w promieniach słońca na pół już zmontowane nowiutkie „ Warszawy ” . W hali rojno dzisiaj i gwarno "
      ]
     },
     "metadata": {},
     "output_type": "display_data"
    },
    {
     "data": {
      "text/html": [
       "<b>5c595858-c362-4270-8141-67c67af68c5c</b><br /> W kilka godzin później , rankiem dnia 10 bm . , brygady elektromontażowe meldują o wykonaniu prac przy suwnicy lejniczej — jednej z największych w Polsce suwnic tego typu "
      ]
     },
     "metadata": {},
     "output_type": "display_data"
    },
    {
     "name": "stdout",
     "output_type": "stream",
     "text": [
      "===================\n",
      "//////topic_5//////\n"
     ]
    },
    {
     "data": {
      "text/html": [
       "<b>a42a1fce-bb10-40af-bc2e-b6d0af9fb466</b><br /> Czołg do eksploatacji letniej musi być odpowiednio przygotowany . Do nowych warunków eksploatowania sprzętu muszą się również odpowiednio przygotować załogi "
      ]
     },
     "metadata": {},
     "output_type": "display_data"
    },
    {
     "data": {
      "text/html": [
       "<b>7f4a25ab-653c-4c0e-b740-3125538da0a1</b><br /> Przywiązanie do sprzętu bojowego , troskliwe jego pielęgnowanie i obsługiwanie stanowi tradycyjną cechę naszych czołgistów . Szanują i kochają oni swój sprzęt pancerny , dumni na z jego zalet "
      ]
     },
     "metadata": {},
     "output_type": "display_data"
    },
    {
     "data": {
      "text/html": [
       "<b>a2b3c7a1-36db-4fb8-8cb7-109dd3e04ce1</b><br /> Jednym z najskuteczniejszych środków hartowania stanu osobowego oddziałów i pododdziałów jest wyszkolenie fizyczne i sport . Uchwała Biura Politycznego KC PZPR w sprawie kultury fizycznej i sportu oraz rozkaz Ministra Obrony Narodowej stały się podstawą ożywionej pracy w wojsku mającej na celu umasowienie sportu i podniesienie wyszkolenia fizycznego na najwyższy poziom "
      ]
     },
     "metadata": {},
     "output_type": "display_data"
    },
    {
     "data": {
      "text/html": [
       "<b>a1ea6ca8-f6e5-42a9-8f7e-2f3e0c854546</b><br /> W okresie letniego szkolenia bardzo ważnym zadaniem stojącym przed składem osobowym oddziałów lotniczych jest pielęgnacja kosztownego , pierwszorzędnego sprzętu , znajdującego się na ich uzbrojeniu . Należy tak obchodzić się ze sprzętem , aby po pierwsze — w procesie eksploatacji sprzętu w warunkach polowych nie pogorszyć właściwości aerodynamicznych samolotów ; po drugie — nie naruszyć trwałości i zdatności do pracy wszystkich konstrukcyjnych części i mechanizmów urządzeń siłowych "
      ]
     },
     "metadata": {},
     "output_type": "display_data"
    },
    {
     "data": {
      "text/html": [
       "<b>f9a9b0bf-0640-426c-a3e9-5968d5bdc5ea</b><br /> Każda operacja zaczepna składa się z wielu ściśle ze sobą powiązanych etapów . Jeszcze w okresie pierwszej wojny światowej walczące strony zetknęły się z silnie rozbudowaną ciągłą linią frontu "
      ]
     },
     "metadata": {},
     "output_type": "display_data"
    },
    {
     "data": {
      "text/html": [
       "<b>bb125cd0-316e-4349-83bf-e8402f97554b</b><br /> Współczesne działania wojenne wymagają od żołnierzy wysokiej sprawności fizycznej Obok świadomości politycznej , opanowania techniki wojennej , w działaniach bojowych ogromną role odgrywa wytrzymałość fizyczna żołnierzy , pozwalająca na wykonanie szybkich manewrów , zapewniająca gotowość nawiązania skutecznej walki bezpośrednio po najbardziej uciążliwym wysiłku o każdej porze dna i nocy Przygotowuje żołnierzy do tego wyszkolenie fizyczne . Pobył na obozach letnich stwarza wszelkie warunki dla wyrobienia u żołnierzy wytrzymałości , siły , szybkości , zwinności , polepszenia stanu zdrowotnego "
      ]
     },
     "metadata": {},
     "output_type": "display_data"
    },
    {
     "data": {
      "text/html": [
       "<b>b03ed7cf-26fa-42ab-8c87-0f22d78a7802</b><br /> Podstawowym warunkiem wyszkolenia ogniowego załogi czołgu jest doprowadzenie czynności przy naprowadzeniu działa do automatyzmu . Spoczywające na mechanizmie kierunkowym i podniesieniowym ręce muszą automatycznie wykonywać ruchy niezbędne do skierowania działa w pożądanym kierunku "
      ]
     },
     "metadata": {},
     "output_type": "display_data"
    },
    {
     "data": {
      "text/html": [
       "<b>49fcecd2-0c46-4481-a8c8-e549d0c2fef1</b><br /> Poza wartościami bojowymi , rzut granatem ma duże znaczenie dla wszechstronnego rozwoju fizycznego . Wpływa na rozwój siły , szybkości , kondycji ruchów "
      ]
     },
     "metadata": {},
     "output_type": "display_data"
    },
    {
     "data": {
      "text/html": [
       "<b>86dbb1b8-e2b5-4b40-b9c0-58740c054249</b><br /> Końcowy etap letniego okresu szkolenia żołnierzy przebiega pod znakiem ćwiczeń taktycznych w terenie , odbywających się w warunkach jak najbardziej zbliżonych do rzeczywistych działań na polu walki . Dlatego też dowódcy wszystkich szczebli winni zwrócić szczególną uwagę na zadanie wzorowej organizacji ćwiczeń taktycznych , łączących w sobie elementy podstawowych przedmiotów wyszkolenia ogólnowojskowego i specjalnego "
      ]
     },
     "metadata": {},
     "output_type": "display_data"
    },
    {
     "data": {
      "text/html": [
       "<b>c6816745-a64c-49c2-be8f-a4b9837708b4</b><br /> Dokładne przygotowanie każdego zajęcia i jego wzorowa organizacja , pełne zabezpieczenie materiałowe , wiedza metodyczna i zdolności organizacyjne kierownika zajęć mają ogromny wpływ na jakość szkolenia bojowego . Pomijając w tym artykule inne czynniki , warunkujące wysoką jakość szkolenia , chciał by m podzielić się z kolegami kilkoma uwagami na temat zabezpieczenia materiałowego zajęć prowadzonych przez podoficerów "
      ]
     },
     "metadata": {},
     "output_type": "display_data"
    },
    {
     "name": "stdout",
     "output_type": "stream",
     "text": [
      "===================\n",
      "//////topic_6//////\n"
     ]
    },
    {
     "data": {
      "text/html": [
       "<b>b6145d25-661c-4a0b-b81d-4ede2d2e1edf</b><br /> Związek Radziecki zwyciężył dlatego , że w Armii Radzieckiej panował nieugięty duch moralny , masowe bohaterstwo , wypływające z radzieckiego patriotyzmu , ze świadomości żołnierza , iż walczy o słuszną sprawę . Armia Radziecka , uzbrojona w przodującą , najbardziej nowoczesną broń wszelkiego rodzaju oraz w przodującą stalinowską naukę wojenną , okazała się armią zwycięską , armią niezwyciężoną "
      ]
     },
     "metadata": {},
     "output_type": "display_data"
    },
    {
     "data": {
      "text/html": [
       "<b>b8ffd08c-2c88-47a9-9db7-266895c9cc88</b><br /> Przede wszystkim charakter tej armii wyzwolonego ludu pracującego . Podczas gdy wszystkie armie państw kapitalistycznych niosły zawsze ucisk własnym narodom , a podbój , śmierć i zniszczenie narodom obcym , Armia Radziecka — armia pierwszego w świecie kraju socjalizmu , powstała jako pierwsza siła zbrojna robotników i chłopów , której powołaniem jest obrona historycznych zdobyczy ludu ZSRR i która na swych okrytych chwałą sztandarach wypisała hasło pokoju "
      ]
     },
     "metadata": {},
     "output_type": "display_data"
    },
    {
     "data": {
      "text/html": [
       "<b>f2d9e28e-7e04-4be8-84ae-f87859e3d89d</b><br /> 25 maja 1919 roku pod wpływem zwycięstwa Rewolucji Październikowej , na fali potężnego ruchu rewolucyjnego w Bułgarii została utworzona Bułgarska Partia Komunistyczna . BPK powstała na bazie rewolucyjnego skrzydła bułgarskiej socjaldemokracji , tzw "
      ]
     },
     "metadata": {},
     "output_type": "display_data"
    },
    {
     "data": {
      "text/html": [
       "<b>2a653a5a-da72-4bb9-b852-9b3c54b5af4d</b><br /> Ledwie uwolniony z kajdan przez rewolucję lutową zjawia się w Komitecie Moskiewskim partii Lenina - Stalina . Na IV zjeździe partii , który wszedł na drogę przygotowań do zbrojnego powstania , Dzierżyński wybrany zostaje w skład kierownictwa "
      ]
     },
     "metadata": {},
     "output_type": "display_data"
    },
    {
     "data": {
      "text/html": [
       "<b>358e9913-b34e-46f3-b9a5-7255cadee690</b><br /> 21 grudnia obchodzimy 75 rocznicę urodzin Józefa Stalina . Świetlana postać Stalina bliska jest i droga ludziom pracy na całym świecie "
      ]
     },
     "metadata": {},
     "output_type": "display_data"
    },
    {
     "data": {
      "text/html": [
       "<b>b4052a34-86a2-4fb6-954f-11644952fc00</b><br /> Jak wiadomo , pierwsza budowla komunizmu . Wołżańsko - Doński Kanał Żeglowny im "
      ]
     },
     "metadata": {},
     "output_type": "display_data"
    },
    {
     "data": {
      "text/html": [
       "<b>25ac62c0-03ff-481c-a292-94e5d60ad2d0</b><br /> Na czele grupy więźniów , która poszła w kierunku Warszawy , by bronić stolicy przed najeźdźcą hitlerowskim , znalazł się wieloletni więzień sanacji , Marian Buczek . W kurtce więziennej , ze zdobytym karabinem w ręku , Marian Buczek walczył przeciwko nacierającym wojskom hitlerowskim pod Ożarowem "
      ]
     },
     "metadata": {},
     "output_type": "display_data"
    },
    {
     "data": {
      "text/html": [
       "<b>bff60e70-d2f8-478f-9e4f-504075a473e4</b><br /> Naród nasz gorąco umiłował swój siny Bałtyk i Pomorze , ziemię odwiecznie polską , wchodzącą organicznie w skład piastowskiego państwa polskiego . Wbrew odwiecznym dążeniom mieszkańców Wybrzeża , wbrew wskazaniom najlepszych synów narodu polskiego , którzy długie wieki z całym poświęceniem walczyli o dostęp do morza , magnateria , prowadząc — w imię swych klasowych interesów — antynarodową i zaborczą politykę parcia na wschód , na ziemie ukraińskie , białoruskie i litewskie , poświęciła Wybrzeże - wydała tę bogatą , prapolską ziemię w ręce zaborczego krzyżactwa popieranego przez Watykan , w ręce junkierskich Prus - grabarza naszej niepodległości "
      ]
     },
     "metadata": {},
     "output_type": "display_data"
    },
    {
     "data": {
      "text/html": [
       "<b>cc4bd2b2-7a55-4096-9883-b51caaf33ba1</b><br /> Potężne Siły Zbrojne Związku Radzieckiego również po zakończeniu Wojny Narodowej bronią niezachwianie pokojowej twórczej pracy ludu radzieckiego . Odezwa KC WKP ( b ) do wszystkich wyborców w związku z wyborami do Rady Najwyższej Związku Radzieckiego w marcu 1950 r "
      ]
     },
     "metadata": {},
     "output_type": "display_data"
    },
    {
     "data": {
      "text/html": [
       "<b>d27ef5bb-db1a-4642-b251-79b0fcc980dc</b><br /> Dopiero Armia Radziecka , armia wyzwolonych przez Rewolucję Październikową robotników i chłopów , stała się po raz pierwszy w historii armią prawdziwie ludową , armią , która broni interesów wszystkich pracujących . Taki charakter Armii Radzieckiej wypływa z samej istoty państwa socjalistycznego , którego armia ta jest zbrojnym ramieniem "
      ]
     },
     "metadata": {},
     "output_type": "display_data"
    },
    {
     "name": "stdout",
     "output_type": "stream",
     "text": [
      "===================\n",
      "//////topic_7//////\n"
     ]
    },
    {
     "data": {
      "text/html": [
       "<b>7636ca0b-8f22-4b4e-9a8b-f2363486890e</b><br /> 22 listopada br . Sejm Polskiej Rzeczypospolitej Ludowej jednomyślnie uchwalił ustawę wprowadzającą w życie nową rotę przysięgi wojskowej "
      ]
     },
     "metadata": {},
     "output_type": "display_data"
    },
    {
     "data": {
      "text/html": [
       "<b>199097de-b5da-464c-9527-47d6c5bc9fd9</b><br /> Najserdeczniejsze myśli i najlepsze życzenia narodu polskiego płyną dziś z najdalszych zakątków ziemi ojczystej ku żołnierzom Wojsk Lotniczych . Gdy w uroczystym dniu swego święta podsumowywać będą dotychczasowe osiągnięcia , by w oparciu o nie wykonać chlubnie odpowiedzialne i zaszczytne zadania , postawione lotnictwu przez Ministra Obrony Narodowej Marszałka Polski Konstantego Rokossowskiego , towarzyszyć im będą uczucia pełne miłości i dumy , jakie naród nasz żywi do potężnych skrzydeł Polskiej Rzeczypospolitej Ludowej "
      ]
     },
     "metadata": {},
     "output_type": "display_data"
    },
    {
     "data": {
      "text/html": [
       "<b>4e354c3e-6996-4d58-bf49-60f61f1d969f</b><br /> Zgromadzona wzdłuż trasy pochodu ludność manifestuje swe gorące uczucia miłości dla Ludowego Wojska Polskiego . Raz po raz padają okrzyki wyrażające gorące przywiązanie do naszej Ludowej Armii — strażniczki pokoju i socjalistycznego budownictwa "
      ]
     },
     "metadata": {},
     "output_type": "display_data"
    },
    {
     "data": {
      "text/html": [
       "<b>42ce043b-06b1-45bb-918b-35d6630ccada</b><br /> Już za kilka dni złożą przysięgę żołnierze młodego rocznika . Na dziedzińcach koszarowych uszykują się oddziały "
      ]
     },
     "metadata": {},
     "output_type": "display_data"
    },
    {
     "data": {
      "text/html": [
       "<b>83e44ae8-9cb0-472c-97b6-45d473eaa4ec</b><br /> Niezwykle radośnie , w poczuciu dumy i zadowolenia ze stale rosnących sukcesów i spełnionego obowiązku w walce o coraz lepszą przyszłość całego narodu , z wykonania planu półrocznego obchodził Śląsk 9 rocznicę ogłoszenia Manifestu PKWN i pierwszą rocznicę uchwalenia Konstytucji Polskiej Rzeczypospolitej Ludowej . Wzdłuż trasy , którą przeciągać ma defilada , już od rana gromadzą się tłumy mieszkańców "
      ]
     },
     "metadata": {},
     "output_type": "display_data"
    },
    {
     "data": {
      "text/html": [
       "<b>026dbde8-27ba-4609-a7c1-bc9873c8e38e</b><br /> Dnia 4 bm . Prezes Rady Ministrów Bolesław Bierut przyjął w salach Urzędu Rady Ministrów dzieci — przodowników nauki "
      ]
     },
     "metadata": {},
     "output_type": "display_data"
    },
    {
     "data": {
      "text/html": [
       "<b>033aac38-afeb-4632-96e5-84ea6a6b90ca</b><br /> Do nowopromowanych oficerów politycznych przemówił gen . Naszkowski , pozdrawiając ich serdecznie z okazji uzyskania pierwszego stopnia oficerskiego "
      ]
     },
     "metadata": {},
     "output_type": "display_data"
    },
    {
     "data": {
      "text/html": [
       "<b>d9f156a9-bb40-4cac-a544-71301f0f84d7</b><br /> Dnia 17 bm . społeczeństwo Warszawy radośnie witało żołnierzy Kościuszkowskiej Dywizji , powracających z letnich obozów szkoleniowych "
      ]
     },
     "metadata": {},
     "output_type": "display_data"
    },
    {
     "data": {
      "text/html": [
       "<b>60fd268d-5696-4439-b4b2-197f3b7054bb</b><br /> Z każdym dniem przybiera na sile kampania wyborcza w wojsku . W toku kampanii żołnierze pogłębiają swą świadomość polityczną , zrozumienie swych obowiązków wobec Ojczyzny , zadań jakie wykonuje nasze Ludowe Wojsko i źródeł jego niezwyciężonej siły "
      ]
     },
     "metadata": {},
     "output_type": "display_data"
    },
    {
     "data": {
      "text/html": [
       "<b>df50391f-d363-416e-862e-725e96052d27</b><br /> 23 bm . z okazji XXXV rocznicy powstania Armii Radzieckiej — Armii , która przyniosła wolność narodowi polskiemu — lud stolicy złożył hołd pamięci bohaterskich żołnierzy radzieckich poległych w walkach o wyzwolenie Warszawy "
      ]
     },
     "metadata": {},
     "output_type": "display_data"
    },
    {
     "name": "stdout",
     "output_type": "stream",
     "text": [
      "===================\n",
      "//////topic_8//////\n"
     ]
    },
    {
     "data": {
      "text/html": [
       "<b>08d7dbac-da87-41a2-a260-79c946f93cfb</b><br /> Wielkie znaczenie W utrzymywaniu sprzętu lotniczego w stanie pełnej gotowości bojowej i w zabezpieczeniu jego niezawodnego działania w powietrzu i na ziemi posiadają przeglądy kontrolne — nieodłączny element wszystkich prac związanych z techniczną obsługą samolotów . Nie można prawidłowo eksploatować samolotu z jego nowoczesnym , skomplikowanym wyposażeniem , bez dokładnej znajomości jego stanu technicznego "
      ]
     },
     "metadata": {},
     "output_type": "display_data"
    },
    {
     "data": {
      "text/html": [
       "<b>00bfc6f0-e9a2-47b5-b77f-2183893478a6</b><br /> Przed oddziałami lotniczymi , a zwłaszcza przed personelem technicznym stoi poważne zadanie : przygotować sprzęt lotniczy do pracy w trudnych warunkach zimowych . Jednocześnie personel latający i techniczny musi być teoretycznie i praktycznie przygotowany do obsługi i eksploatacji sprzętu w warunkach jesienno - zimowych "
      ]
     },
     "metadata": {},
     "output_type": "display_data"
    },
    {
     "data": {
      "text/html": [
       "<b>65ab697e-71b3-4018-8039-a0005cdbe7d9</b><br /> Wzorowe wykonanie zadania przez pilota w powietrzu jest nie do pomyślenia bez sumiennej pracy personelu technicznego na ziemi . Od przygotowania sprzętu do lotów , umiejętnej obsługi i eksploatacji samolotów w ogromnej mierze zależy poziom gotowości bojowej oddziału lotniczego , jego zdolność do wykonania każdego zadania postawionego przez dowództwo "
      ]
     },
     "metadata": {},
     "output_type": "display_data"
    },
    {
     "data": {
      "text/html": [
       "<b>772bf383-a0e1-4a1a-b17e-ff76341e6e1b</b><br /> Pomyślne wykonanie zadań lotu zależy przede wszystkim od stopnia wyszkolenia personelu latającego i jakości przygotowania sprzętu lotniczego . Jeśli poszczególne urządzenia i mechanizmy samolotów działają bez zarzutu , pilot może wykonać najbardziej nawet skomplikowane zadanie "
      ]
     },
     "metadata": {},
     "output_type": "display_data"
    },
    {
     "data": {
      "text/html": [
       "<b>560dec05-e957-4ac8-a045-596d45a504bd</b><br /> „ Pełnienie służby wartowniczej jest wykonywaniem zadania bojowego ” — mówi Regulamin Służby Garnizonowej . Tak właśnie traktują służbę wartowniczą żołnierze pododdziału oficera Doskocza "
      ]
     },
     "metadata": {},
     "output_type": "display_data"
    },
    {
     "data": {
      "text/html": [
       "<b>ae3a1b92-efba-4b3a-9dbf-6a59f789a0a3</b><br /> Rokrocznie warsztaty remontowe , których szefem jest oficer R . , opuszczają żołnierze – wybitni specjaliści wojskowi : mechanicy , brygadierzy remontowi , elektrycy , wykwalifikowana obsługa akumulatorni , mechanicy radiowi itp "
      ]
     },
     "metadata": {},
     "output_type": "display_data"
    },
    {
     "data": {
      "text/html": [
       "<b>eb64a5dc-867b-43f2-a242-d3d9102080f9</b><br /> O wynikach i jakości pracy , ilości samolotów przygotowanych do lotów , inżynier melduje dowódcy jednostki i otrzymuje od niego zadania na dzień następny , zgodnie z planem lotów . Wieczorem , w klasie technicznej inżynier jednostki przeprowadza z technikami rozgrywki , podczas których przerabia się organizacyjne zagadnienia techniczne związane z dniem lotów "
      ]
     },
     "metadata": {},
     "output_type": "display_data"
    },
    {
     "data": {
      "text/html": [
       "<b>8d3744c7-ac80-44d9-8348-f7514cac4929</b><br /> Walczyć o wysoki poziom organizacji procesu szkoleniaDalszym ważnym zagadnieniem w życiu szkół oficerskich jest zapewnienie wysokiego poziomu organizacji procesu szkoleniowego oraz ścisłe planowanie pracy . Doświadczenie pracy szkół oficerskich wykazało , że najlepiej wywiązują się ze swych obowiązków ci wykładowcy i dowódcy , którzy doceniają czynnik czasu , dokładnie planują swą pracę i konsekwentnie realizują plany "
      ]
     },
     "metadata": {},
     "output_type": "display_data"
    },
    {
     "data": {
      "text/html": [
       "<b>6ca9b7e3-9a96-4973-aa29-d02f31def36e</b><br /> ( Od kor . ) Dziś wyznaczony został na dowódcę warty oficer Michalski , jeden z przodujących dowódców warty naszego oddziału "
      ]
     },
     "metadata": {},
     "output_type": "display_data"
    },
    {
     "data": {
      "text/html": [
       "<b>54acd4b4-4028-4940-866d-454ec7c2252f</b><br /> Obecnie , w warunkach pokojowego szkolenia , nasz personel techniczny posiada znacznie lepsze warunki ku temu , by utrzymywać powierzony mu sprzęt lotniczy we wzorowym stanie , zapewnić jego właściwą eksploatację , chroniąc go tym samym przed niesprawnościami i przedwczesnym zużyciem . Oddziały lotnicze posiadają wszelkie warunki ku temu , aby prawidłowo eksploatować park samochodowo - silnikowy , uzbrojenie oraz oprzyrządowanie , w żadnym wypadku nie odstępując od obowiązujących przepisów , regulaminów , instrukcji i zarządzeń dotyczących obsługi , eksploatacji i przedłużania czasokresu używania sprzętu lotniczego "
      ]
     },
     "metadata": {},
     "output_type": "display_data"
    },
    {
     "name": "stdout",
     "output_type": "stream",
     "text": [
      "===================\n",
      "//////topic_9//////\n"
     ]
    },
    {
     "data": {
      "text/html": [
       "<b>1a011507-4ba2-47b5-a29f-a568cd7945d0</b><br /> Pekin ( PAP ) — Jak donosi z Kaesongu agencja Nowych Chin , generał Nam Ir , przewodniczący delegacji Koreańskiej Armii Ludowej i chińskich ochotników ludowych , wystosował do generała Williama K . Harrisona , przewodniczącego delegacji dowództwa Narodów Zjednoczonych , pismo przedstawiające zasady nowej propozycji strony koreańsko - chińskiej "
      ]
     },
     "metadata": {},
     "output_type": "display_data"
    },
    {
     "data": {
      "text/html": [
       "<b>9bbba276-a6f2-490d-980f-314bc2ab7299</b><br /> Pekin ( PAP ) — Agencja Nowych Chin donosi , że dowódca naczelny Koreańskiej Armii Ludowej Kim Ir - sen i dowódca chińskich ochotników ludowych Peng Teh - huai wystosowali do dowódcy wojsk amerykańskich na Dalekim Wschodzie Mark Clarka pismo wyrażające zgodę na jego propozycje z 22.II.br . w sprawie obustronnej wymiany chorych i rannych jeńców wojennych "
      ]
     },
     "metadata": {},
     "output_type": "display_data"
    },
    {
     "data": {
      "text/html": [
       "<b>ac125e31-91b8-4413-83ea-e795f7d5c723</b><br /> Delhi ( PAP ) . 28 czerwca ogłoszono następujący komunikat oficjalny o rozmowach premiera Czou En - laia z premierem Nehru : Premier i minister spraw zagranicznych Chińskiej Republiki Ludowej Czou En - lai przybył na zaproszenie premiera i ministra spraw zagranicznych Republiki Hinduskiej J "
      ]
     },
     "metadata": {},
     "output_type": "display_data"
    },
    {
     "data": {
      "text/html": [
       "<b>66a71f77-5b4c-4dbd-9e98-4767063c769a</b><br /> Czy Departament Stanu USA ma jakiekolwiek podstawy do żądania zwrotu skazanych jeńców wojennych ? W całym układzie rozejmowym nie ma ani jednego punktu , który by uzasadniał żądania amerykańskie . Przeciwnie , żądania te są sprzeczne z Konwencją Genewską , która przewiduje w artykule 119 : \" Jeńcy wojenni , przeciwko którym wszczęto postępowanie karne za popełnienie przestępstw kryminalnych mogą być zatrzymani do czasu zakończenia przewodu sądowego lub też w odpowiednich wypadkach do czasu odbycia wymierzonej im kary \" "
      ]
     },
     "metadata": {},
     "output_type": "display_data"
    },
    {
     "data": {
      "text/html": [
       "<b>30d1aafe-fe24-4d6a-a944-743470aa86a0</b><br /> Na podstawie tychże propozycji rząd południowo - koreański mógł by odmówić aprobaty porozumienia w sprawie pokojowego uregulowania kwestii koreańskiej i dążyć nadal do zjednoczenia Korei siłą . Propozycje amerykańskie przewidują mianowicie , że każda ze stron ma głosować jako jedna całość , lecz że powzięte uchwały mają obowiązywać tylko te państwa strony amerykańskiej , które wyrażą na nie zgodę i podpiszą je "
      ]
     },
     "metadata": {},
     "output_type": "display_data"
    },
    {
     "data": {
      "text/html": [
       "<b>ae135aae-499b-48c8-a2df-206b0de2f8fa</b><br /> Przedstawiciel Indii — Rau — złożył sprawozdanie , które nazwał „ sprawozdaniem zawierającym wyłącznie fakty ” z pracy „ komisji trzech w sprawie zaprzestania ognia w Korei ” . Po podaniu propozycji w sprawie warunków „ zaprzestania ognia ” , opracowanych przez „ komisję trzech ” , Rau oświadczył , że komisja ta „ nie jest obecnie w stanie przedstawić jakichkolwiek zaleceń ” "
      ]
     },
     "metadata": {},
     "output_type": "display_data"
    },
    {
     "data": {
      "text/html": [
       "<b>597b017e-bfe9-4dea-a817-27dd113407cd</b><br /> Dnia 23 bm . odbył się w Warszawie pogrzeb Józefa Niećki , członka Rady Państwa , Prezesa Rady Naczelnej ZSL , zasłużonego działacza ludowego "
      ]
     },
     "metadata": {},
     "output_type": "display_data"
    },
    {
     "data": {
      "text/html": [
       "<b>216b648d-c305-4040-9d38-2af0d1537562</b><br /> Londyn ( PAP ) — Od chwili podpisania w dniu 8 czerwca br . porozumienia w sprawie repatriacji jeńców wojennych , prasa zagraniczna zamieszcza liczne artykuły i komentarze na temat toczących się w Panmundżonie rokowań w sprawie zawarcia rozejmu "
      ]
     },
     "metadata": {},
     "output_type": "display_data"
    },
    {
     "data": {
      "text/html": [
       "<b>d1ab0656-6212-4fb4-b185-d2d5e155c4aa</b><br /> Dotychczas jedynie delegacja koreańsko - chińska dawała dowody swej dobrej woli i szczerej chęci jaknajszybszego zawarcia rozejmu w Korei . 8 - punktowe propozycje generała Nam Ira zostały powitane z uznaniem przez światową opinię publiczną jako podstawa do osiągnięcia porozumienia , umożliwiającego rozwiązanie całokształtu problemu jeńców wojennych , a przez to samo zawarcie rozejmu oraz położenie kresu przelewowi krwi w Korei "
      ]
     },
     "metadata": {},
     "output_type": "display_data"
    },
    {
     "data": {
      "text/html": [
       "<b>05334506-109e-468b-b93e-dafbb1971fdd</b><br /> Naród chiński zdecydowanie wypowiada się przeciwko tym machinacjom rządu amerykańskiego , przeciwko \" rezolucji \" uchwalonej w rezultacie amerykańskich gierek na Zgromadzeniu Ogólnym . Nie można narzucić w ważnej kwestii dotyczącej Azji – jaką jest kwestia koreańska – samowolnej decyzji i nie można pomijać przy rozwiązywaniu takich kwestii o ogólno - azjatyckim znaczeniu głównych krajów Azji "
      ]
     },
     "metadata": {},
     "output_type": "display_data"
    },
    {
     "name": "stdout",
     "output_type": "stream",
     "text": [
      "===================\n",
      "//////topic_10//////\n"
     ]
    },
    {
     "data": {
      "text/html": [
       "<b>7198bd52-76f5-47c4-a1e2-f496ae06b070</b><br /> Moskwa ( PAP ) . Jak już podawali śmy , rządy Francji , Anglii i USA skierowały dnia 29 listopada br "
      ]
     },
     "metadata": {},
     "output_type": "display_data"
    },
    {
     "data": {
      "text/html": [
       "<b>91d84c07-0ef9-4282-bd75-22c167f7dc4a</b><br /> Nowy Jork ( pap ) — W dniu 28 sierpnia na posiedzeniu Komisji Rozbrojeniowej ONZ wygłosił przemówienie delegat ZSRR Jakub Malik . Delegacja Stanów Zjednoczonych — powiedział Malik — złożyła w imieniu trzech mocarstw zachodnich \" propozycje dodatkowe \" do poprzednich propozycji trzech mocarstw w sprawie ustanowienia \" maksymalnego poziomu \" stanu liczebnego sił zbrojnych "
      ]
     },
     "metadata": {},
     "output_type": "display_data"
    },
    {
     "data": {
      "text/html": [
       "<b>a6674f2f-3e95-4aa7-8382-88c83d6d146a</b><br /> Projekt tej rezolucji głosił : „ Po rozpatrzeniu sprawozdania komisji ONZ dla spraw rozbrojenia , Zgromadzenie Ogólne NZ stwierdza , że aczkolwiek wspomniana komisja nosi nazwę komisji dla spraw rozbrojenia , to jednak jej działalność w okresie ubiegłym nie zmierzała w kierunku opracowania zaleceń w sprawie redukcji zbrojeń i sił zbrojnych , zakazu broni atomowej i innych środków masowej zagłady , potępionych ogólnie przez narody , oraz że komisja ta dotychczas w praktyce hamowała rozpatrzenie problemu rozbrojenia . Zgromadzenie Ogólne stwierdza również , że komisja ONZ dla spraw rozbrojenia czyniła — głównie za pośrednictwem przedstawicieli USA , Francji i Wielkiej Brytanii — niejednokrotnie próby zastąpienia problemu redukcji zbrojeń problemem nielegalnego uzyskania informacji wywiadowczych o stanie zbrojeń poszczególnych państw , nie licząc się z tym , że w razie przyjęcia uchwał o redukcji zbrojeń i zakazie broni atomowej , wszystkie państwa obowiązane są przedstawić ONZ pełne informacje o swych zbrojeniach "
      ]
     },
     "metadata": {},
     "output_type": "display_data"
    },
    {
     "data": {
      "text/html": [
       "<b>8bb19cd3-a4f4-4086-8fbc-d999884f11b5</b><br /> Paryż ( pap ) - W Komisji Politycznej Zgromadzenia Narodów Zjednoczonych toczy się nadal dyskusja nad propozycjami radzieckimi w sprawie zapobieżenia niebezpieczeństwu nowej wojny światowej oraz w sprawie utrwalenia pokoju i przyjaźni między narodami . Nawet reakcyjna prasa francuska zmuszona jest przyznać , że nowe pozycje Związku Radzieckiego stanowią dalszy krok naprzód na drodze do osiągnięcia porozumienia w tych zagadnieniach "
      ]
     },
     "metadata": {},
     "output_type": "display_data"
    },
    {
     "data": {
      "text/html": [
       "<b>6b05d8cb-966c-4116-b897-f2e7fd21f244</b><br /> Oświadczenie ministra spraw zagranicznych ZSRR W . M "
      ]
     },
     "metadata": {},
     "output_type": "display_data"
    },
    {
     "data": {
      "text/html": [
       "<b>8e160fe9-3f70-452d-bba2-27fbd0a22f82</b><br /> Nowy Jork ( PAP ) — W toku dyskusji Komisji Politycznej Zgromadzenia Ogólnego NZ nad sprawą redukcji zbrojeń i zakazu broni masowej zagłady zabrał głos szef delegacji radzieckiej wiceminister Wyszyński , który oświadczył m . In : — W sprawie redukcji zbrojeń i sił zbrojnych oraz zakazu broni atomowej , wodorowej i innego rodzaju broni masowej zagłady osiągnięto obecnie zbliżenie miedzy stanowiskiem Związku Radzieckiego a stanowiskiem państw zachodnich "
      ]
     },
     "metadata": {},
     "output_type": "display_data"
    },
    {
     "data": {
      "text/html": [
       "<b>8e868f23-9dc9-4262-b47f-ebf9db72df21</b><br /> Ponieważ mocarstwa zachodnie obstawały przy swej propozycji , żeby ogłoszenie zakazu broni atomowej poprzedzone zostało systemem kontroli międzynarodowej , delegacja radziecka zaproponowała ostatnio , by przy ogłoszeniu bezwzględnego zakazu broni atomowej i ustanowienia ścisłej kontroli atomowej przewidziano , iż zakaz broni atomowej i kontrola międzynarodowej delegacji wejdą w życie równocześnie . \" Zgadzamy się - oświadczył minister Wyszyński - by zakaz broni atomowej wszedł w życie w tym samym czasie , gdy uruchomiony zostanie system kontroli międzynarodowej "
      ]
     },
     "metadata": {},
     "output_type": "display_data"
    },
    {
     "data": {
      "text/html": [
       "<b>6f375c12-6764-4de7-b56f-2886127c6b4b</b><br /> \" Dnia 3 listopada rząd radziecki wystosował do rządów Anglii , USA i Francji notę w sprawie zwołania konferencji ministrów spraw zagranicznych . W nocie tej rząd radziecki zaproponował zwołanie konferencji ministrów spraw zagranicznych , by po pierwsze — z udziałem ministrów spraw zagranicznych USA , Anglii , Francji , Związku Radzieckiego i Chińskiej Republiki Ludowej rozważyć środki złagodzenia napięcia w stosunkach międzynarodowych oraz po drugie — z udziałem ministrów spraw zagranicznych USA , Anglii , Francji i Związku Radzieckiego omówić problem niemiecki i związane z tym zagadnienia dotyczące zapewnienia bezpieczeństwa Europy "
      ]
     },
     "metadata": {},
     "output_type": "display_data"
    },
    {
     "data": {
      "text/html": [
       "<b>8b658308-2a59-4ffb-9247-de647dca3763</b><br /> W naszej nowej propozycji opuścili śmy wzmiankę o natychmiastowym przystąpieniu do redukcji zbrojeń i sił zbrojnych . Mimo to przedstawiciele trzech mocarstw nadal oponowali przeciwko włączeniu tego punktu do porządku dziennego i usiłowali zastąpić sprawę redukcji zbrojeń i sił zbrojnych czterech mocarstw sprawą „ poziomu zbrojeń ” "
      ]
     },
     "metadata": {},
     "output_type": "display_data"
    },
    {
     "data": {
      "text/html": [
       "<b>8937e4a0-888c-4d56-8110-45e6bb441a63</b><br /> Ograniczenie zbrojeń – powiedział Malik – zmierza do utrwalenia pokoju i bezpieczeństwa oraz odpowiada żywotnym interesom narodów , które niosą na swych barkach całe brzemię wydatków rozpętanego przez USA wyścigu zbrojeń . Ograniczenie zbrojeń zależy przede wszystkim od wielkich mocarstw "
      ]
     },
     "metadata": {},
     "output_type": "display_data"
    },
    {
     "name": "stdout",
     "output_type": "stream",
     "text": [
      "===================\n",
      "//////topic_11//////\n"
     ]
    },
    {
     "data": {
      "text/html": [
       "<b>8ba843e5-5520-488a-8072-d1f4afe29f8b</b><br /> W całokształcie szkolenia elewów czołowe miejsce zajmuje właściwe przygotowanie ich pod względem instruktorsko - metodycznym , tj . wpojenie elewom — przyszłym dowódcom drużyn nawyków i umiejętności właściwej pracy z podwładnymi "
      ]
     },
     "metadata": {},
     "output_type": "display_data"
    },
    {
     "data": {
      "text/html": [
       "<b>1deef393-d156-4e2b-b9db-c8f6963ee66f</b><br /> Najbliższymi pomocnikami oficera są podoficerowie - dowódcy drużyn . Podlegając dowódcy plutonu i jego pomocnikowi , dowódca drużyny jest „ bezpośrednim przełożonym wszystkich żołnierzy drużyny i odpowiada : za wyszkolenie , wychowanie , dyscyplinę , postawę żołnierską , i schludny zewnętrzny wygląd swoich podwładnych , za właściwe wykorzystanie i utrzymanie w porządku i sprawności uzbrojenia , oporządzenia , umundurowania , wozów taborowych oraz wszelkiego rodzaju pojazdów mechanicznych w drużynie ” "
      ]
     },
     "metadata": {},
     "output_type": "display_data"
    },
    {
     "data": {
      "text/html": [
       "<b>1cbc24c4-4f93-40f3-a65d-1b5fb39e9853</b><br /> WŚRÓD marynarzy załóg okrętów utarło się i zyskało prawo obywatelstwa zdanie , że ćwiczenie na morzu — to bojowy egzamin dla załogi . I tak jest w rzeczywistości "
      ]
     },
     "metadata": {},
     "output_type": "display_data"
    },
    {
     "data": {
      "text/html": [
       "<b>f929b09b-ddb8-4e73-8f63-efb304712171</b><br /> Ośmiogodzinny dzień zajęć jest tak zaplanowany , by nie stracić ani jednej cennej minuty . Jeśli w oznaczonym czasie dowódcy drużyn i on sam nie nauczy żołnierzy tego , co zaplanował , będzie musiał nadrabiać później stracone godziny , opóźni realizację programu wyszkolenia "
      ]
     },
     "metadata": {},
     "output_type": "display_data"
    },
    {
     "data": {
      "text/html": [
       "<b>6651dde5-e778-4153-a5fe-3c28eac2f3ce</b><br /> Zdarza się czasem , że młodzi , niedoświadczeni podoficerowie już w pierwszych dniach szkolenia stawiają elewom wymagania , którym oni nie są w stanie sprostać . Np "
      ]
     },
     "metadata": {},
     "output_type": "display_data"
    },
    {
     "data": {
      "text/html": [
       "<b>426436d3-23ce-4bbc-9450-57ba62f01b81</b><br /> Żołnierze słuchali z uwagą . Proste słowa dowódcy przekonały ich "
      ]
     },
     "metadata": {},
     "output_type": "display_data"
    },
    {
     "data": {
      "text/html": [
       "<b>168eafe3-fb6e-4e36-9035-16c58ee683a5</b><br /> \" Jak już mówił em , dowódców drużyn instruuję kilka dni przed zajęciami , aby dać im możność trenowania . Na instruktarzu sprawdzam przede wszystkim , czy podoficerowie dobrze opanowali dane ćwiczenie , w razie braków poprawiam je "
      ]
     },
     "metadata": {},
     "output_type": "display_data"
    },
    {
     "data": {
      "text/html": [
       "<b>83eb0e4c-5ad4-4671-9d9b-26075ebc11d3</b><br /> Młody oficer zaczął przede wszystkim od analizy dotychczasowych wyników wyszkolenia plutonu na obozie letnim , a dopiero później mocno postawił zagadnienie roli dowódców w armii nowego typu — zagadnienie obowiązków dowódcy drużyny . Długo tego wieczoru paliło się światło w pokoju chor "
      ]
     },
     "metadata": {},
     "output_type": "display_data"
    },
    {
     "data": {
      "text/html": [
       "<b>1d3107fc-9a65-481f-af1b-13ef5a3117ae</b><br /> Przede wszystkim starali śmy się wpoić w podoficerów ważną cechę dowódczą — wymagalność . Nasi młodzi podoficerowie początkowo tolerowali tzw "
      ]
     },
     "metadata": {},
     "output_type": "display_data"
    },
    {
     "data": {
      "text/html": [
       "<b>6f40b96c-cfc1-4d7b-8ed6-1285ad51a6b5</b><br /> Hartowały ich wypełnione pracą mroźne dni zimowe i pełne forsownych ćwiczeń w polu , marszów i strzelań upalne dni lata . Wiatry opaliły na brąz ich twarze "
      ]
     },
     "metadata": {},
     "output_type": "display_data"
    },
    {
     "name": "stdout",
     "output_type": "stream",
     "text": [
      "===================\n",
      "//////topic_12//////\n"
     ]
    },
    {
     "data": {
      "text/html": [
       "<b>97551a88-9652-42fc-b850-6994a82f7ba2</b><br /> Onegdaj cała prasa ogłosiła komunikat PKPG w sprawie wykonania Narodowego Planu Gospodarczego w roku 1953 . Z cyfr komunikatu wynika , że w roku ubiegłym osiągnęli śmy nowy poważny sukces w rozwoju gospodarki narodowej "
      ]
     },
     "metadata": {},
     "output_type": "display_data"
    },
    {
     "data": {
      "text/html": [
       "<b>a4242041-1bef-4a62-9311-fdf334839fba</b><br /> \" Największym skarbem Polski Ludowej jest człowiek \" — uczy Prezydent Bierut , wskazując , że codzienna troska o człowieka , zabezpieczanie w maksymalnym stopniu rosnących potrzeb materialnych i kulturalnych mas pracujących , jest w krajach demokracji ludowej , które budują socjalistyczny ustrój społeczny . "
      ]
     },
     "metadata": {},
     "output_type": "display_data"
    },
    {
     "data": {
      "text/html": [
       "<b>dd0bbc96-4625-4a52-9b55-87d2bb7f1ab3</b><br /> Już 6 ubiegłych lat powojennych przyniosły nam niebywały postęp w dziedzinie rolnictwa w stosunku do okresu międzywojennego . W porównaniu z rokiem 1937 produkcja rolna na głowę ludności wzrosła w roku 1949 o 43 proc "
      ]
     },
     "metadata": {},
     "output_type": "display_data"
    },
    {
     "data": {
      "text/html": [
       "<b>f80ac07f-102b-4de6-8c7f-3850983cfc49</b><br /> W całym kraju odbywa się nowy podział administracyjny wsi . W zamian dawnych gmin tworzy się nowe ośrodki administracyjne — gromady , których władzę państwową sprawować będą wybrane 5 grudnia gromadzkie rady narodowe "
      ]
     },
     "metadata": {},
     "output_type": "display_data"
    },
    {
     "data": {
      "text/html": [
       "<b>6c3fa849-3384-477b-bd87-cd4f0a886ae7</b><br /> Z okazji Międzynarodowego Dnia Kobiet i w przededniu II Zjazdu PZPR — Komitet Centralny wzywa kobiety polskie , by nie szczędziły sił w pracy i w walce o szybszą poprawę materialnych i kulturalnych warunków życia każdej rodziny polskiej i całego narodu . Władza ludowa nie szczędzi wysiłków , by polepszyć życie człowieka pracy , by zwłaszcza przyjść z większą , pomocą kobiecie - matce w jej niełatwym trudzie domowym "
      ]
     },
     "metadata": {},
     "output_type": "display_data"
    },
    {
     "data": {
      "text/html": [
       "<b>67c2963d-53f8-4eb6-b2be-4fa5d73474cc</b><br /> Szerokim echem w całym kraju odbiła się uchwała IX Plenum KC naszej partii w sprawie zwołania do Warszawy na dzień 16 stycznia II Zjazdu PZPR . Wielkie zainteresowanie w całym społeczeństwie wzbudza dorobek IX Plenum "
      ]
     },
     "metadata": {},
     "output_type": "display_data"
    },
    {
     "data": {
      "text/html": [
       "<b>f1fb94b8-13d1-4aa4-b1e0-781ad49257ff</b><br /> Sejm Polskiej Rzeczypospolitej Ludowej jednomyślnie uchwalił budżet państwa na rok 1954 . Równocześnie ogłoszony został Komunikat PKPG o wykonaniu narodowego planu gospodarczego w I kwartale bieżącego roku "
      ]
     },
     "metadata": {},
     "output_type": "display_data"
    },
    {
     "data": {
      "text/html": [
       "<b>c2004cf9-2699-4059-b980-063ddd8fe895</b><br /> Jednocześnie z obniżką cen rozszerzono zakres wolnego handlu w Czechosłowacji . I tak znalazły się obecnie w wolnym handlu te gatunki mięsa wieprzowego i cielęcego , które dotychczas były reglamentowane "
      ]
     },
     "metadata": {},
     "output_type": "display_data"
    },
    {
     "data": {
      "text/html": [
       "<b>3390abca-95d7-41eb-93e0-c6d27120ec4d</b><br /> Jednym z najważniejszych odcinków pracy resortu gospodarki komunalnej jest sprawa polepszenia warunków mieszkaniowych ludności pracującej miast — dziedziny szczególnie zaniedbanej w Polsce kapitalistycznej . W celu polepszenia warunków bytowych i zdrowotnych ludności dużych miast prowadzona jest intensywna rozbudowa nowych inwestycji komunalnych oraz budowa takich wielkich obiektów , jak np "
      ]
     },
     "metadata": {},
     "output_type": "display_data"
    },
    {
     "data": {
      "text/html": [
       "<b>b304643d-3697-4a06-9a13-faa6bd2c6195</b><br /> W dniu 8 bm . odbyło się posiedzenie Rady Ministrów , poświęcone zagadnieniom eksportu "
      ]
     },
     "metadata": {},
     "output_type": "display_data"
    },
    {
     "name": "stdout",
     "output_type": "stream",
     "text": [
      "===================\n",
      "//////topic_13//////\n"
     ]
    },
    {
     "data": {
      "text/html": [
       "<b>628a8b41-8a53-4d63-977f-6f8ee07c3c92</b><br /> Wychowanie fizyczne w naszym kraju stało się sprawą o doniosłym znaczeniu . Każdy obywatel , a w tej liczbie i my , żołnierze , rozumiemy jak ważne zadania spełniają ćwiczenia fizyczne "
      ]
     },
     "metadata": {},
     "output_type": "display_data"
    },
    {
     "data": {
      "text/html": [
       "<b>fec364e9-84b3-443d-84c8-b49d5f07c112</b><br /> 8 bm . ruszą w bój szermierze gimnastycy i ciężarowcy "
      ]
     },
     "metadata": {},
     "output_type": "display_data"
    },
    {
     "data": {
      "text/html": [
       "<b>7326d678-e68e-48a2-bf35-b3123fceb09e</b><br /> Na basen przybywają pozostali żołnierze kompanii . Najlepsi pływacy przekażą teraz swe doświadczenie kolegom "
      ]
     },
     "metadata": {},
     "output_type": "display_data"
    },
    {
     "data": {
      "text/html": [
       "<b>77decc4f-bd3e-440a-abcf-65f4ed8247c9</b><br /> W naszym oddziale sport jest otoczony troskliwą opieką . Nic też dziwnego , że koło sportowe rozwija się coraz pomyślniej "
      ]
     },
     "metadata": {},
     "output_type": "display_data"
    },
    {
     "data": {
      "text/html": [
       "<b>caf8ba87-5899-47ce-98d7-fc960a472694</b><br /> Podstawowym elementem masowego sportu w wojsku jest przygotowanie wszystkich żołnierzy do prób na odznakę SPO . Odznaka SPO , jako państwowa forma powszechnego wychowania fizycznego , oparła jest na zasadzie wszechstronnego rozwinięcia sprawności fizycznej obywatela "
      ]
     },
     "metadata": {},
     "output_type": "display_data"
    },
    {
     "data": {
      "text/html": [
       "<b>694e83fc-bdc2-482f-a638-42cc7a09a2ab</b><br /> W oddziale , w którym pełni służbę elew Najda , sport jest jednym z poważnych czynników wychowania wojskowego , hartowania żołnierzy , wyrabiania w nich zalet bojowych . Dowódcy , pracownicy polityczni , aktyw partyjny i ZMP-owski doceniają rolę sportu , prowadzą systematyczną propagandę sportu "
      ]
     },
     "metadata": {},
     "output_type": "display_data"
    },
    {
     "data": {
      "text/html": [
       "<b>ebf21a1e-6125-4f92-ae6d-4c91a89165ae</b><br /> Po zeszłorocznym zwycięstwie w mistrzostwach okręgu nie spoczęli śmy na laurach , a przystąpili śmy natychmiast do opracowania długofalowego planu szkolenia zawodników . W czasie jego opracowywania brali śmy pod uwagę zeszłoroczne doświadczenia i starali śmy się opracować go tak , aby jego realizacja dała nam pewność , że nasz zespół stanie do zawodów w pełni przygotowany "
      ]
     },
     "metadata": {},
     "output_type": "display_data"
    },
    {
     "data": {
      "text/html": [
       "<b>45832bab-0e54-41d6-a635-f682e40bdcb7</b><br /> Gazeta ścienna Jest pomocą dowódcy w wychowaniu i szkoleniu żołnierzy . Artykuły mówiące o osiągnięciach w wyszkoleniu i służbie poszczególnych żołnierzy lub całych pododdziałów , wymiana doświadczeń , krytyka niedociągnięć poszczególnych żołnierzy — oto w jaki sposób gazeta ścienna wpływa na utrwalenie zdobytych sukcesów oraz na usunięcie braków w życiu pododdziału "
      ]
     },
     "metadata": {},
     "output_type": "display_data"
    },
    {
     "data": {
      "text/html": [
       "<b>0fb6fc10-82cf-4861-82c5-17729fb98363</b><br /> ( Od kor . ) W Dowództwie Okręgu Warszawskiego odbyła się narada przodujących kucharzy i kierowników kuchen "
      ]
     },
     "metadata": {},
     "output_type": "display_data"
    },
    {
     "data": {
      "text/html": [
       "<b>b131a65f-0a61-4cad-a1c0-4a51266e9f60</b><br /> Kiedy w latach ubiegłych mówili śmy o dobrym poziomie mistrzostw gimnastycznych WP , to obecnie stwierdzamy , że poziom ich był wysoki i wyrównany , powiększyła się zdecydowanie liczba zawodników i zawodniczek startujących w klasie I i II . Np "
      ]
     },
     "metadata": {},
     "output_type": "display_data"
    },
    {
     "name": "stdout",
     "output_type": "stream",
     "text": [
      "===================\n",
      "//////topic_14//////\n"
     ]
    },
    {
     "data": {
      "text/html": [
       "<b>2389e286-ee4f-4786-a8a8-fb21efd2f098</b><br /> Dowódca jest kierownikiem i organizatorem całego życia powierzonego sobie oddziału łub pododdziału i ponosi pełną odpowiedzialność za wyszkolenie bojowe i polityczne , wychowanie i dyscyplinę , podległych mu żołnierzy . Główną zaś formą wychowania politycznego kołnierzy są zajęcia polityczne "
      ]
     },
     "metadata": {},
     "output_type": "display_data"
    },
    {
     "data": {
      "text/html": [
       "<b>4b20b1b0-3d41-4d21-a406-bb8e118a0755</b><br /> Dowódca winien wnikać w warunki życia żołnierza . A warunki życia żołnierza , to przecież warunki , w których żołnierz szkoli się i zdobywa wiedzę wojskową , to urządzenie koszar , sal żołnierskich i wykładowych , placów ćwiczeń i boisk sportowych , świetlic , klubów , czytelni "
      ]
     },
     "metadata": {},
     "output_type": "display_data"
    },
    {
     "data": {
      "text/html": [
       "<b>2c745448-b9c4-4616-90b2-a9d2dd94920d</b><br /> Przerobienie tematu kończy zajęcie repetycyjne . Pomaga ono szeregowcom lepiej zrozumieć i przyswoić sobie treść tematu , głębiej związać go ze swoim osobistym życiem , z wykonywanymi obowiązkami , ułatwia kierownikowi grupy stwierdzenie stopnia przyswojenia danego tematu "
      ]
     },
     "metadata": {},
     "output_type": "display_data"
    },
    {
     "data": {
      "text/html": [
       "<b>4227c135-2dbe-420c-b419-f5e9c339a16f</b><br /> Zbliża się zakończenie letniego okresu szkolenia , a z nim koniec bieżącego roku szkoleniowego . Obowiązkiem kadry oficerskiej jest zapewnienie pełnej realizacji wszystkich zadań szkoleniowych , jakie stawia dowództwo przed podwładnymi w ciągu roku szkolnego "
      ]
     },
     "metadata": {},
     "output_type": "display_data"
    },
    {
     "data": {
      "text/html": [
       "<b>20a7cc24-ad5c-4b04-8b29-8a0015f76528</b><br /> Zimą praca w jednostkach i na okrętach odbywa się pod znakiem walki o dalsze podwyższenie jakości wyszkolenia bojowego i politycznego , o wzmocnienie dyscypliny i spoistości organizacyjnej , o podwyższenie gotowości bojowej Radzieckich Sił Zbrojnych . Skuteczne rozwiązanie wszystkich tych zadań w znacznej mierze zależy od zdolności wyższych dowódców , w pierwszym rzędzie od dowódców jednostek i okrętów – od tego , czy potrafią oni w korzystny sposób zabezpieczyć wyszkolenie bojowe i polityczne kadry oficerskiej "
      ]
     },
     "metadata": {},
     "output_type": "display_data"
    },
    {
     "data": {
      "text/html": [
       "<b>560d26be-8165-43b6-9864-4fe190a15ecf</b><br /> Trening strzelecki to niezmiernie ważny odcinek szkolenia . Aby broń maszynowa nie straciła swej wydajności ogniowej konieczne jest zautomatyzowanie pracy celowniczego i całej obsługi ckm "
      ]
     },
     "metadata": {},
     "output_type": "display_data"
    },
    {
     "data": {
      "text/html": [
       "<b>59403472-6813-4139-9c49-b68c42e07037</b><br /> Skuteczność i dobre wyniki szkolenia politycznego w dużej mierze zależą od przygotowania się kierownika grupy do prowadzenia zajęć . Od tego jak przyswoi on sobie materiał związany z tematem pogadanki , jak wykorzysta wskazaną mu na wykładzie instruktywnym dodatkową lekturę , pomoce poglądowe i wskazówki metodyczne zależeć będzie poziom zajęć i opanowanie materiału przez marynarzy "
      ]
     },
     "metadata": {},
     "output_type": "display_data"
    },
    {
     "data": {
      "text/html": [
       "<b>1e139236-cd97-496e-8ccc-44bdf5ad6e0f</b><br /> Szkolenie letnie na obozach wkracza w fazę najintensywniejszego nasilenia . Przed stanem osobowym oddziałów i pododdziałów stoi zadanie jak najlepszego wykorzystania każdej minuty przeznaczonej na szkolenie , by wychować żołnierzy na prawdziwych mistrzów rzemiosła wojskowego "
      ]
     },
     "metadata": {},
     "output_type": "display_data"
    },
    {
     "data": {
      "text/html": [
       "<b>7c01dfb4-363a-46b7-8469-4a3b36ec2ca9</b><br /> Weźmy na przykład pracownika politycznego oficera Byczkowa . Tow "
      ]
     },
     "metadata": {},
     "output_type": "display_data"
    },
    {
     "data": {
      "text/html": [
       "<b>9942152e-e0e0-4354-b985-b6df930941aa</b><br /> W Pomorskim Okręgu Wojskowym odbyła się III Narada Korespondentów gazety żołnierskiej . W sali kinowej zebrało się 200 najlepszych korespondentów "
      ]
     },
     "metadata": {},
     "output_type": "display_data"
    },
    {
     "name": "stdout",
     "output_type": "stream",
     "text": [
      "===================\n",
      "//////topic_15//////\n"
     ]
    },
    {
     "data": {
      "text/html": [
       "<b>c30b55fd-0817-49fe-8e81-088068f1827a</b><br /> Willa Nr 2 — jedna z kilku willi na terenie kolonii — aż drży od tupotu małych , silnych nóżek i dźwięcznego , beztroskiego śmiechu . Gwarem i śmiechem wita dziatwa każdy nowy dzień "
      ]
     },
     "metadata": {},
     "output_type": "display_data"
    },
    {
     "data": {
      "text/html": [
       "<b>4aac8267-67c1-44be-a543-db2a2fab724a</b><br /> Po północnej stronie gór zaczynają się stepy krymskie . Górzyste na południu , ku północy przechodzą one w równiny "
      ]
     },
     "metadata": {},
     "output_type": "display_data"
    },
    {
     "data": {
      "text/html": [
       "<b>06411c57-f3d2-45b2-9db9-0a3c94c209c1</b><br /> Wicek marzył o nauce , lecz warunków ku temu nie było . Ojciec ledwie zarabiał na utrzymanie rodziny "
      ]
     },
     "metadata": {},
     "output_type": "display_data"
    },
    {
     "data": {
      "text/html": [
       "<b>fc705ad9-c46e-435a-b7ee-7a8b4c0130a7</b><br /> Z początku szło nie bardzo . Pik , pedant i sumienny robotnik , o wiele rzeczy musiał pytać , przyglądać się innym , przegryzać się przez szczegóły techniczne , jak przez twarde , zielone jabłko "
      ]
     },
     "metadata": {},
     "output_type": "display_data"
    },
    {
     "data": {
      "text/html": [
       "<b>009eed78-2757-4b59-bff4-e4ff03832842</b><br /> W swojej sztuce Gorki wprowadza nas do bogatej rodziny mieszczańskiej , w której wodzi Wassa Żeleznowa , właścicielka doskonale prosperującego przedsiębiorstwa żeglugowego . Sylwetka Wassy malowana jest innymi barwami , aniżeli postacie jej rodziny , które ilustrują rozkład mieszczaństwa "
      ]
     },
     "metadata": {},
     "output_type": "display_data"
    },
    {
     "data": {
      "text/html": [
       "<b>cb899d8d-3001-49a9-a1bd-891e038a0e19</b><br /> Budowa rozciąga się na wiele kilometrów , trudno jest od razu ogarnąć ją wzrokiem . Przy przyćmionym blasku wąskiego sierpa księżyca widoczny jest gigantyczny ciemny wał dopiero co wydobytej ziemi "
      ]
     },
     "metadata": {},
     "output_type": "display_data"
    },
    {
     "data": {
      "text/html": [
       "<b>bffd4a3e-82dd-4185-939c-25f631cd329d</b><br /> „ Hamlet ” , „ Awantura o dziecko ” i „ Niebezpieczny ładunek ” wyświetlane były już na naszych ekranach , ale bardzo krótko i tylko niewielu widzów zdołało je obejrzeć . Dobrze więc się stało , że wznowiono je w kinach stołecznych i w innych miastach "
      ]
     },
     "metadata": {},
     "output_type": "display_data"
    },
    {
     "data": {
      "text/html": [
       "<b>b49692a8-f263-4a02-8419-44d479c24e0a</b><br /> Wystarczyło przemierzyć chociażby raz przestrzeń , na której odbywał się kiermasz — aby w całej pełni ocenić , jak bardzo wzmogło się zainteresowanie książką , jak szerokie rzesze ludzi pracy garną się do lektury . Dobra książka , wartościowa książka nie jest już dostępna jedynie nielicznej garstce wybrańców — ale stała się towarzyszem i przyjacielem każdego człowieka pracy "
      ]
     },
     "metadata": {},
     "output_type": "display_data"
    },
    {
     "data": {
      "text/html": [
       "<b>a14b7aae-471b-4075-8522-795daaea71e8</b><br /> Gdy przed trzema laty mieli śmy okazję zaznajomić się z pierwszym powojennym polskim filmem zrealizowanym na podstawie powieści — niespodzianka była bardzo pouczająca . Na podstawie powieści Bogdana Hamery „ Na przykład Plewa ” — Jan Rybkowski zrealizował interesujący film „ Pierwsze dni ” "
      ]
     },
     "metadata": {},
     "output_type": "display_data"
    },
    {
     "data": {
      "text/html": [
       "<b>b2bf3f94-565f-4055-b896-ee427ceeecbe</b><br /> Wapowski rozpoczął żywą działalność na polu kartografii po powrocie do kraju ( 1516 ) . Opracował kilka map "
      ]
     },
     "metadata": {},
     "output_type": "display_data"
    },
    {
     "name": "stdout",
     "output_type": "stream",
     "text": [
      "===================\n"
     ]
    }
   ],
   "source": [
    "n = None\n",
    "for i, topic_docs in enumerate(top_docs[:n]):\n",
    "    print ('/' * 6 + f'topic_{i}' + '/' * 6)\n",
    "    for doc_id in topic_docs:\n",
    "        document = demo_data.get_source_document(doc_id)\n",
    "        doc_title = document.index.values[0]\n",
    "        doc_snippet = '. '.join(document['raw_text'].values[0].split('. ')[:2])\n",
    "        display_html(f\"<b>{doc_title}</b><br />{doc_snippet}\", raw=True)\n",
    "    print ('='*19)"
   ]
  }
 ],
 "metadata": {
  "kernelspec": {
   "display_name": "Python 3",
   "language": "python",
   "name": "python3"
  },
  "language_info": {
   "codemirror_mode": {
    "name": "ipython",
    "version": 3
   },
   "file_extension": ".py",
   "mimetype": "text/x-python",
   "name": "python",
   "nbconvert_exporter": "python",
   "pygments_lexer": "ipython3",
   "version": "3.7.5"
  }
 },
 "nbformat": 4,
 "nbformat_minor": 2
}
